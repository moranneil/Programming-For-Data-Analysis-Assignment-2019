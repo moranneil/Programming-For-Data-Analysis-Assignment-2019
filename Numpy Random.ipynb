{
 "cells": [
  {
   "cell_type": "markdown",
   "metadata": {},
   "source": [
    "### Numpy Random\n"
   ]
  },
  {
   "cell_type": "code",
   "execution_count": 1,
   "metadata": {},
   "outputs": [],
   "source": [
    "import numpy as np\n"
   ]
  },
  {
   "cell_type": "markdown",
   "metadata": {},
   "source": [
    "The following code is referenced from this site\n",
    "https://www.geeksforgeeks.org/random-sampling-in-numpy-randint-function/\n",
    "This uses numpy.random.randint function, this generates random integers."
   ]
  },
  {
   "cell_type": "markdown",
   "metadata": {},
   "source": [
    "The numpy.random.randint code below was taken from [SciPy random.randint](https://docs.scipy.org/doc/numpy/reference/random/index.html?highlight=numpy%20random#module-numpy.random)"
   ]
  },
  {
   "cell_type": "code",
   "execution_count": 13,
   "metadata": {},
   "outputs": [
    {
     "name": "stdout",
     "output_type": "stream",
     "text": [
      "[0 1 0 1 1 3 6 6 1 1]\n",
      "10\n",
      "1\n",
      "int32\n"
     ]
    }
   ],
   "source": [
    "# numpy random.randint generates random integers from and including the low number and up to but not including the high number, this size of the array is 10 items.\n",
    "\n",
    "a = np.random.randint(low = 0, high = 7, size = 10)\n",
    "\n",
    "print(a)\n",
    "print(a.size)\n",
    "print(a.ndim)\n",
    "print(a.dtype)"
   ]
  },
  {
   "cell_type": "markdown",
   "metadata": {},
   "source": [
    "- Numpy random is a sub package of the Numpy \n",
    "- Numpy random package is a way of generating random numbers or psuedo random numbers for computers\n",
    "- Usually don't use Numpy directly its usually used with other packages such as pandas or SciPy"
   ]
  },
  {
   "cell_type": "code",
   "execution_count": null,
   "metadata": {},
   "outputs": [],
   "source": []
  }
 ],
 "metadata": {
  "kernelspec": {
   "display_name": "Python 3",
   "language": "python",
   "name": "python3"
  },
  "language_info": {
   "codemirror_mode": {
    "name": "ipython",
    "version": 3
   },
   "file_extension": ".py",
   "mimetype": "text/x-python",
   "name": "python",
   "nbconvert_exporter": "python",
   "pygments_lexer": "ipython3",
   "version": "3.7.1"
  }
 },
 "nbformat": 4,
 "nbformat_minor": 2
}

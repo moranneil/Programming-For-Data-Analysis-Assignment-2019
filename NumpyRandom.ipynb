{
 "cells": [
  {
   "cell_type": "markdown",
   "metadata": {},
   "source": [
    "# Numpy Random Package\n",
    "\n",
    "\n",
    "![Image](Images/NJP-Symbols.JPG \"Image\")\n",
    "\n",
    "This is an investigation in to the Numpy random package. This investigation is divided in to four parts see links below. There is also a Reference section that provides a list of links used in this investigation.\n",
    "\n",
    "[1. Introduction to Numpy random](#1.-Introduction-to-Numpy-random)\n",
    "\n",
    "[2. Simple random data & Permutations](#2.-Simple-random-data-&-Permutations)\n",
    "\n",
    "[3. Five Distribution Functions](#3.-Five-Distribution-Functions)\n",
    "\n",
    "[4. Seeds in generating pseudorandom numbers](#4.-Seeds-in-generating-pseudorandom-numbers)\n",
    "\n"
   ]
  },
  {
   "cell_type": "markdown",
   "metadata": {},
   "source": [
    "## 1. Introduction to Numpy and Numpy random"
   ]
  },
  {
   "cell_type": "markdown",
   "metadata": {},
   "source": [
    "#### Numpy\n",
    "\n",
    "Numpy is short for Numerical Python, this is Python numerical library providing data structures and algorithms needed for scientific applications. Some of Numpys useful functions are listed below.\n",
    "\n",
    "- Numpy is a multidimensional array library, it can create and manliplate multiple sizes of arrays efficiently for example 1-dimensional (1D), 2D & 3D...\n",
    "- Numpy arrays are a very efficient incomparsion to lists for the following reasons\n",
    " * Numpy uses less memory to store arrays.\n",
    " * Any one Numpy array is of the same data type so no type checking is required this is not a case with lists.\n",
    " * Numpy uses contigious memory blocks to store array values this allows SIMD (Single Instruction Multiple Data) vector processing to perform multiple calulations of arrays that are sequentially stored in memory, this allows for more efficent CPU usage in processing calculations for arrays. Its also allows for efficient cache usage. \n",
    " - Mature C API to enable Python extensions & native C code to access Numpy's computational facilities.\n",
    " \n",
    "Along with the fast and efficient array processing capabilities Numpys primary uses is providing containers for data to be passed between algorithms and libraries. Numpy arrays are more efficient at storing an manipulating data than other built-in Python data structures. Libraries written in other programming languages such as C, C++ or Fortran can access and operate on data stores in Numpy arrays without any need for conversion. This makes Numpy a very useful and important toolset in Data analytics.\n",
    "\n",
    "*References:<BR>\n",
    "    https://numpy.org/ <BR>\n",
    "    Python for Data Analytics 2nd Edition, by Wes McKinney*\n",
    "\n",
    "#### Numpy Random\n",
    "\n",
    "- Numpy random is a sub package of the Numpy\n",
    "- Numpy random package is a way of generating random numbers or psuedo random numbers for computers\n",
    "- Generates arrays of numbers, arrays are a grouping of homogenous data types, the data element have to be of the same type.\n",
    "- Usually don't use Numpy directly its usually used with other packages such as pandas or SciPy"
   ]
  },
  {
   "cell_type": "code",
   "execution_count": 1,
   "metadata": {},
   "outputs": [],
   "source": [
    "# To start this investigation the Numpy package is imported as np & matplotlib.pyplot package is imported a plt\n",
    "\n",
    "import numpy as np\n",
    "import matplotlib.pyplot as plt"
   ]
  },
  {
   "cell_type": "markdown",
   "metadata": {},
   "source": [
    "* The next few functions will demonstrate how Numpy generates simple arrays and functions that will give information on these arrays."
   ]
  },
  {
   "cell_type": "markdown",
   "metadata": {},
   "source": [
    "#### Create 1-Dimensional Array\n",
    "*Reference: https://docs.scipy.org/doc/numpy/user/quickstart.html*"
   ]
  },
  {
   "cell_type": "code",
   "execution_count": 2,
   "metadata": {},
   "outputs": [],
   "source": [
    "#Creating array and assign it to x, created integers as 16bit (2 Bytes) instead of 32int default (4bytes)\n",
    "x = np.array([2, 3], dtype='int16')"
   ]
  },
  {
   "cell_type": "code",
   "execution_count": 3,
   "metadata": {},
   "outputs": [
    {
     "data": {
      "text/plain": [
       "2"
      ]
     },
     "execution_count": 3,
     "metadata": {},
     "output_type": "execute_result"
    }
   ],
   "source": [
    "#Prints the 1st value of array x\n",
    "x[0]"
   ]
  },
  {
   "cell_type": "code",
   "execution_count": 4,
   "metadata": {},
   "outputs": [
    {
     "data": {
      "text/plain": [
       "3"
      ]
     },
     "execution_count": 4,
     "metadata": {},
     "output_type": "execute_result"
    }
   ],
   "source": [
    "#Prints the 2nd value of array x\n",
    "x[1]"
   ]
  },
  {
   "cell_type": "code",
   "execution_count": 5,
   "metadata": {},
   "outputs": [
    {
     "data": {
      "text/plain": [
       "1"
      ]
     },
     "execution_count": 5,
     "metadata": {},
     "output_type": "execute_result"
    }
   ],
   "source": [
    "#Print the dimension of array x, dimension of the array is 1D\n",
    "x.ndim"
   ]
  },
  {
   "cell_type": "code",
   "execution_count": 6,
   "metadata": {},
   "outputs": [
    {
     "data": {
      "text/plain": [
       "dtype('int16')"
      ]
     },
     "execution_count": 6,
     "metadata": {},
     "output_type": "execute_result"
    }
   ],
   "source": [
    "#Prints array size as defined in above, if dtype int16 is not specified 'int32' is default for integers \n",
    "x.dtype"
   ]
  },
  {
   "cell_type": "code",
   "execution_count": 7,
   "metadata": {},
   "outputs": [
    {
     "data": {
      "text/plain": [
       "2"
      ]
     },
     "execution_count": 7,
     "metadata": {},
     "output_type": "execute_result"
    }
   ],
   "source": [
    "#Prints the item size of the array in bytes, as its int 16 each value is 2 Bytes\n",
    "x.itemsize"
   ]
  },
  {
   "cell_type": "code",
   "execution_count": 8,
   "metadata": {},
   "outputs": [
    {
     "data": {
      "text/plain": [
       "4"
      ]
     },
     "execution_count": 8,
     "metadata": {},
     "output_type": "execute_result"
    }
   ],
   "source": [
    "# Prints the total size of the array in Bytes. This is 4 Bytes, ie two 16 bit integer values.\n",
    "x.nbytes"
   ]
  },
  {
   "cell_type": "markdown",
   "metadata": {},
   "source": [
    "#### Create 2-Dimensional Array"
   ]
  },
  {
   "cell_type": "code",
   "execution_count": 9,
   "metadata": {},
   "outputs": [
    {
     "name": "stdout",
     "output_type": "stream",
     "text": [
      "[[1 2 3 4]\n",
      " [5 6 7 8]]\n"
     ]
    }
   ],
   "source": [
    "# Create an 2D array assign it to y\n",
    "y = np.array([[1,2,3,4],[5,6,7,8]])\n",
    "print(y)"
   ]
  },
  {
   "cell_type": "code",
   "execution_count": 10,
   "metadata": {},
   "outputs": [
    {
     "data": {
      "text/plain": [
       "2"
      ]
     },
     "execution_count": 10,
     "metadata": {},
     "output_type": "execute_result"
    }
   ],
   "source": [
    "#Print the dimension of array y, dimension of the array is 2D\n",
    "y.ndim"
   ]
  },
  {
   "cell_type": "code",
   "execution_count": 11,
   "metadata": {},
   "outputs": [
    {
     "name": "stdout",
     "output_type": "stream",
     "text": [
      "7\n"
     ]
    }
   ],
   "source": [
    "#Prints the 2rd value in the 2nd row of array y, indexing of arrays start at 0\n",
    "print(y[1,2])"
   ]
  },
  {
   "cell_type": "code",
   "execution_count": 12,
   "metadata": {},
   "outputs": [
    {
     "data": {
      "text/plain": [
       "array([1, 2, 3, 4])"
      ]
     },
     "execution_count": 12,
     "metadata": {},
     "output_type": "execute_result"
    }
   ],
   "source": [
    "#Prints the entire first row of the array\n",
    "y[0, :]"
   ]
  },
  {
   "cell_type": "code",
   "execution_count": 13,
   "metadata": {},
   "outputs": [
    {
     "data": {
      "text/plain": [
       "(2, 4)"
      ]
     },
     "execution_count": 13,
     "metadata": {},
     "output_type": "execute_result"
    }
   ],
   "source": [
    "#Prints out the shape of array y two rows with 4 columns\n",
    "np.shape(y)"
   ]
  },
  {
   "cell_type": "code",
   "execution_count": 14,
   "metadata": {},
   "outputs": [
    {
     "data": {
      "text/plain": [
       "dtype('int32')"
      ]
     },
     "execution_count": 14,
     "metadata": {},
     "output_type": "execute_result"
    }
   ],
   "source": [
    "#Prints array size as defined in above, there is not dtype defined in the array so it should be 'int32' bt default\n",
    "y.dtype"
   ]
  },
  {
   "cell_type": "code",
   "execution_count": 15,
   "metadata": {},
   "outputs": [
    {
     "data": {
      "text/plain": [
       "4"
      ]
     },
     "execution_count": 15,
     "metadata": {},
     "output_type": "execute_result"
    }
   ],
   "source": [
    "#Prints the item size of the array in bytes, its default int32 so its 4 Bytes\n",
    "y.itemsize"
   ]
  },
  {
   "cell_type": "code",
   "execution_count": 16,
   "metadata": {},
   "outputs": [
    {
     "data": {
      "text/plain": [
       "32"
      ]
     },
     "execution_count": 16,
     "metadata": {},
     "output_type": "execute_result"
    }
   ],
   "source": [
    "# Prints the total size of the array in Bytes. This is 8 values @ 4Bytes each = 32 Bytes\n",
    "y.nbytes"
   ]
  },
  {
   "cell_type": "markdown",
   "metadata": {},
   "source": [
    "#### Create 3-Dimensional Array"
   ]
  },
  {
   "cell_type": "code",
   "execution_count": 17,
   "metadata": {},
   "outputs": [
    {
     "name": "stdout",
     "output_type": "stream",
     "text": [
      "[[[ 1  2  3]\n",
      "  [ 4  5  6]]\n",
      "\n",
      " [[ 7  8  9]\n",
      "  [10 11 12]]]\n"
     ]
    }
   ],
   "source": [
    "z = np.array([[[1,2,3],[4,5,6]],[[7,8,9],[10,11,12]]])\n",
    "print(z)"
   ]
  },
  {
   "cell_type": "code",
   "execution_count": 18,
   "metadata": {},
   "outputs": [
    {
     "data": {
      "text/plain": [
       "3"
      ]
     },
     "execution_count": 18,
     "metadata": {},
     "output_type": "execute_result"
    }
   ],
   "source": [
    "#Print the dimension of array z, dimension of the array is 3D\n",
    "z.ndim"
   ]
  },
  {
   "cell_type": "code",
   "execution_count": 19,
   "metadata": {},
   "outputs": [
    {
     "data": {
      "text/plain": [
       "(2, 2, 3)"
      ]
     },
     "execution_count": 19,
     "metadata": {},
     "output_type": "execute_result"
    }
   ],
   "source": [
    "#Prints the size of the 3D array\n",
    "np.shape(z)"
   ]
  },
  {
   "cell_type": "code",
   "execution_count": 20,
   "metadata": {},
   "outputs": [
    {
     "name": "stdout",
     "output_type": "stream",
     "text": [
      "8\n"
     ]
    }
   ],
   "source": [
    "# Access values in the 3D array, work from the outside sq brackets in\n",
    "# For example to access number 8, the 1st value would be either 0 or 1 8 is in the 2nd group so its 1, after that is just 2D array (r,c) so (0,1)\n",
    "print(z[1, 0, 1])"
   ]
  },
  {
   "cell_type": "code",
   "execution_count": 21,
   "metadata": {},
   "outputs": [
    {
     "name": "stdout",
     "output_type": "stream",
     "text": [
      "[2 8]\n"
     ]
    }
   ],
   "source": [
    "# Print the value 1st row and 2nd column from both groups\n",
    "print(z[:, 0, 1])"
   ]
  },
  {
   "cell_type": "markdown",
   "metadata": {},
   "source": [
    "#### Numpy Arrange \n",
    "*Reference https://docs.scipy.org/doc/numpy/reference/generated/numpy.arange.html*\n",
    "\n",
    "Numpy arrange creates an array of sequential numbers. The notation is given below\n",
    "* numpy.arange(start, stop, step, dtype)"
   ]
  },
  {
   "cell_type": "code",
   "execution_count": 22,
   "metadata": {},
   "outputs": [
    {
     "name": "stdout",
     "output_type": "stream",
     "text": [
      "[0 1 2 3 4 5 6 7 8 9]\n"
     ]
    },
    {
     "data": {
      "text/plain": [
       "dtype('int32')"
      ]
     },
     "execution_count": 22,
     "metadata": {},
     "output_type": "execute_result"
    }
   ],
   "source": [
    "# Creates a number range from 0 to 9 steps in 1 with int32 as the default type for whole numbers\n",
    "arrint = np.arange(10)\n",
    "print(arrint)\n",
    "arrint.dtype"
   ]
  },
  {
   "cell_type": "code",
   "execution_count": 23,
   "metadata": {},
   "outputs": [
    {
     "name": "stdout",
     "output_type": "stream",
     "text": [
      "[2.  2.5 3.  3.5 4.  4.5]\n"
     ]
    },
    {
     "data": {
      "text/plain": [
       "dtype('float32')"
      ]
     },
     "execution_count": 23,
     "metadata": {},
     "output_type": "execute_result"
    }
   ],
   "source": [
    "arrfloats = np.arange(2, 5, 0.5, 'float32')\n",
    "print(arrfloats)\n",
    "arrfloats.dtype"
   ]
  },
  {
   "cell_type": "code",
   "execution_count": 24,
   "metadata": {},
   "outputs": [],
   "source": [
    "#This is a random (float) number generator of uniform distribution over [0,1) in the example the array dimensions are 4 rows x 3 columns\n",
    "a = np.random.rand(4,3)\n"
   ]
  },
  {
   "cell_type": "markdown",
   "metadata": {},
   "source": [
    "## 2. Simple random data & Permutations\n",
    "\n",
    "In this section we will investigate a few simple random data and Permutation functions.\n",
    "\n",
    "### 2.1 Simple random data\n",
    "\n",
    "To illustrate simple random data in numpy the following functions are discussed\n",
    "\n",
    "- *numpy.random.rand*\n",
    "- *numpy.random.randn*\n",
    "\n",
    "This is part of the simple random data sampling, this function uses uniform distribution, the code and plots in this section show the difference between *random.rand* with uses uniform distribution and *random.randn* which uses normal or Gaussian distribution.\n"
   ]
  },
  {
   "cell_type": "markdown",
   "metadata": {},
   "source": [
    "#### random.rand\n",
    "\n",
    "*Reference https://docs.scipy.org/doc/numpy-1.16.1/reference/generated/numpy.random.rand.html*\n",
    "\n",
    "As outlined this function will return a random numbers between 0 and 1, the values returned can include 0 but don't include 1 this is denoted by [0,1) uses uniform distribution, we will look at the format of the function and give a few examples together with plots.\n",
    "\n",
    "The format of the function is as follows:\n",
    "\n",
    "np.random.rand(r,c) the parameters passed are the shape of the resulting random array rows and columns, the data type is floating point numbers, if no parameters are passed one floating point number between and including 0 and 1 but not including one.\n",
    " "
   ]
  },
  {
   "cell_type": "code",
   "execution_count": 25,
   "metadata": {},
   "outputs": [
    {
     "data": {
      "text/plain": [
       "0.5690136307769884"
      ]
     },
     "execution_count": 25,
     "metadata": {},
     "output_type": "execute_result"
    }
   ],
   "source": [
    "#If no argument is given a single floating point number [0,1) between 0 & 1 (not including 1) is returned\n",
    "np.random.rand()"
   ]
  },
  {
   "cell_type": "code",
   "execution_count": 26,
   "metadata": {},
   "outputs": [
    {
     "data": {
      "image/png": "[encoded data removed]",
      "text/plain": [
       "<Figure size 432x288 with 1 Axes>"
      ]
     },
     "metadata": {
      "needs_background": "light"
     },
     "output_type": "display_data"
    },
    {
     "data": {
      "text/plain": [
       "dtype('float64')"
      ]
     },
     "execution_count": 26,
     "metadata": {},
     "output_type": "execute_result"
    }
   ],
   "source": [
    "#This function returns an array with dimensions 5 rows by 5 columns, again the range of values is [0,1)\n",
    "rand1 = np.random.rand(20,20)\n",
    "# This is a magic command to display the plot\n",
    "%matplotlib inline \n",
    "#10 x 10 matrix is not printed as it takes up a lot of room\n",
    "plt.hist(rand1)\n",
    "plt.title(\"Uniform Distribution of 20x20 Matrix\")\n",
    "plt.xlabel(\"Values in the range [0,1)\")\n",
    "plt.ylabel(\"Number of values\")\n",
    "plt.show()\n",
    "rand1.dtype"
   ]
  },
  {
   "cell_type": "code",
   "execution_count": 27,
   "metadata": {},
   "outputs": [
    {
     "data": {
      "image/png": "[encoded data removed]",
      "text/plain": [
       "<Figure size 432x288 with 1 Axes>"
      ]
     },
     "metadata": {
      "needs_background": "light"
     },
     "output_type": "display_data"
    },
    {
     "data": {
      "text/plain": [
       "dtype('float64')"
      ]
     },
     "execution_count": 27,
     "metadata": {},
     "output_type": "execute_result"
    }
   ],
   "source": [
    "# If one number is given it returns a 1-dimensional array of a single row containing that amount of numbers with values [0,1), the random numbers between 0,1 are\n",
    "# This is a magic command to display the plot\n",
    "%matplotlib inline \n",
    "rand2 = np.random.rand(1000)\n",
    "#rand2 array is not printed to screen as it takes up too much space, the array is plotted instead to demonstrate the Uniform Distribution of values\n",
    "plt.hist(rand2)\n",
    "plt.title(\"Uniform Distribution of 1000 Numbers\")\n",
    "plt.xlabel(\"Values in the range [0,1)\")\n",
    "plt.ylabel(\"Number of values\")\n",
    "plt.show()\n",
    "rand2.dtype"
   ]
  },
  {
   "cell_type": "markdown",
   "metadata": {},
   "source": [
    "### random.randn\n",
    "\n",
    "*Reference https://www.geeksforgeeks.org/numpy-random-randn-python/*\n",
    "\n",
    "The numpy.random.randn(d0, d1, …, dn) function creates an array of the specified shape depending on what values inputted, the values returned are standard normal(Guassian) distribution of mean 0 and variance 1\n",
    "\n"
   ]
  },
  {
   "cell_type": "code",
   "execution_count": 28,
   "metadata": {},
   "outputs": [
    {
     "data": {
      "text/plain": [
       "2.0301933388418756"
      ]
     },
     "execution_count": 28,
     "metadata": {},
     "output_type": "execute_result"
    }
   ],
   "source": [
    "#If no argument is given a single floating point number is returned\n",
    "np.random.randn()"
   ]
  },
  {
   "cell_type": "code",
   "execution_count": 29,
   "metadata": {},
   "outputs": [
    {
     "data": {
      "image/png": "[encoded data removed]",
      "text/plain": [
       "<Figure size 432x288 with 1 Axes>"
      ]
     },
     "metadata": {
      "needs_background": "light"
     },
     "output_type": "display_data"
    }
   ],
   "source": [
    "# This function produces a 50 row x 50 column matrix\n",
    "randn1 = np.random.randn(50,50)\n",
    "#Matrix is ot printed as it takes up to much space\n",
    "# This is a magic command to display the plot\n",
    "%matplotlib inline\n",
    "plt.hist(randn1)\n",
    "plt.title('Gaussian Distribution of 50,50 Matrix')\n",
    "plt.xlabel(\"Values are concentrated around 0\")\n",
    "plt.ylabel(\"Number of values\")\n",
    "plt.show()"
   ]
  },
  {
   "cell_type": "markdown",
   "metadata": {},
   "source": [
    "#### The graph above demonstrates the Guassian distribution of values in the random.randn function, the values are concentrated around 0 and filter out each side given this bell shaped curve. The more numbers there is the more defined the curve. This can also been seen on the 1000 numbers below "
   ]
  },
  {
   "cell_type": "code",
   "execution_count": 30,
   "metadata": {},
   "outputs": [
    {
     "data": {
      "image/png": "[encoded data removed]",
      "text/plain": [
       "<Figure size 432x288 with 1 Axes>"
      ]
     },
     "metadata": {
      "needs_background": "light"
     },
     "output_type": "display_data"
    }
   ],
   "source": [
    "# If one number is given it returns a 1-dimensional array of a single row containing that amount of numbers with values centered around 0\n",
    "# This is a magic command to display the plot\n",
    "%matplotlib inline\n",
    "randn2 = np.random.randn(1000)\n",
    "#The array is not printed as it takes up too much room\n",
    "plt.hist(randn2)\n",
    "plt.title('Gaussian Distribution of 1000 Numbers')\n",
    "plt.show()"
   ]
  },
  {
   "cell_type": "code",
   "execution_count": null,
   "metadata": {},
   "outputs": [],
   "source": []
  },
  {
   "cell_type": "markdown",
   "metadata": {},
   "source": [
    "The numpy.random.randint code below was taken from [SciPy random.randint](https://docs.scipy.org/doc/numpy/reference/random/index.html?highlight=numpy%20random#module-numpy.random)"
   ]
  },
  {
   "cell_type": "code",
   "execution_count": 31,
   "metadata": {
    "scrolled": true
   },
   "outputs": [
    {
     "name": "stdout",
     "output_type": "stream",
     "text": [
      "[3 4 4 4 6 4 4 0 2 2]\n",
      "10\n",
      "1\n",
      "int32\n"
     ]
    }
   ],
   "source": [
    "# numpy random.randint generates random integers of uniform distribution over [0,1), this size of the array is 10 items.\n",
    "\n",
    "a = np.random.randint(low = 0, high = 7, size = 10)\n",
    "\n",
    "print(a)\n",
    "print(a.size)\n",
    "print(a.ndim)\n",
    "print(a.dtype)"
   ]
  },
  {
   "cell_type": "markdown",
   "metadata": {},
   "source": [
    "### 2.2 Permutations\n",
    "\n",
    "They are two types of Permutation functions in Numpy\n",
    "\n",
    "- Permutation\n",
    "- Shuffle\n",
    "\n",
    "The difference between the two functions is: \n"
   ]
  },
  {
   "cell_type": "markdown",
   "metadata": {},
   "source": [
    "#### Permutation\n",
    "\n",
    "Randomly permute a sequence, or return a permuted range. You can define a new array with a permutation of the original array see Permutation code below\n",
    "\n",
    "*Reference https://docs.scipy.org/doc/numpy-1.16.1/reference/generated/numpy.random.permutation.html*"
   ]
  },
  {
   "cell_type": "code",
   "execution_count": 32,
   "metadata": {},
   "outputs": [
    {
     "name": "stdout",
     "output_type": "stream",
     "text": [
      "The original array 'p' is [1 2 3]\n",
      "The permuted new array 'perm' is [3 1 2]\n"
     ]
    }
   ],
   "source": [
    "# p is the original simple array 1,2,3 and is printed out to the screen\n",
    "p = np.array([1,2,3,])\n",
    "print(\"The original array 'p' is\",p)\n",
    "#perm is a new array as a permutation of the original array 'p'\n",
    "perm = np.random.permutation(p)\n",
    "print(\"The permuted new array 'perm' is\",perm)\n"
   ]
  },
  {
   "cell_type": "markdown",
   "metadata": {},
   "source": [
    "#### Shuffle\n",
    "\n",
    "Modify a sequence in-place by shuffling its contents. You can't define a new variable with a shuffle, you can only shuffle the values of the original array see Shuffle code below\n",
    "\n",
    "*Reference https://docs.scipy.org/doc/numpy-1.16.1/reference/generated/numpy.random.shuffle.html*"
   ]
  },
  {
   "cell_type": "code",
   "execution_count": 33,
   "metadata": {},
   "outputs": [
    {
     "name": "stdout",
     "output_type": "stream",
     "text": [
      "The original array 's' is [1 2 3]\n",
      "The shuffled original sequence 's' is [3 1 2]\n"
     ]
    }
   ],
   "source": [
    "s = np.array([1,2,3])\n",
    "print(\"The original array 's' is\",s)\n",
    "np.random.shuffle(s)\n",
    "print(\"The shuffled original sequence 's' is\",s)"
   ]
  },
  {
   "cell_type": "code",
   "execution_count": null,
   "metadata": {},
   "outputs": [],
   "source": []
  },
  {
   "cell_type": "markdown",
   "metadata": {},
   "source": [
    "## 3. Five Distribution Functions\n",
    "\n",
    "### Introduction\n",
    "\n",
    "Probability can be used to calculate more than the likelhood of one event occuring, it can be used to show the likelihood of all possible outcomes. In probability the relationship between a random variable and their probabilities is called the probability distribution.\n",
    "\n",
    "*Reference https://machinelearningmastery.com/what-are-probability-distributions/*\n",
    "\n",
    "The five Numpy random distribution functions that are covered in this investigation are as follows\n",
    "\n",
    "- Binomial Distribution\n",
    "- Uniform Distribution\n",
    "- Normal Distribution\n",
    "- Exponential Distribution\n",
    "- Gamma Distribution\n"
   ]
  },
  {
   "cell_type": "markdown",
   "metadata": {},
   "source": [
    "### 3.1 Binomial Distribution\n",
    "\n",
    "*References \n",
    "\n",
    "https://www.khanacademy.org/math/statistics-probability/random-variables-stats-library#binomial-random-variables\n",
    "\n",
    "https://en.wikipedia.org/wiki/Binomial_distribution*\n",
    "\n",
    "The Binomial distribution uses events that get one of two outcome true or false, success or fail or yes/no, the random variables used are known as discrete random boolean variables, there is a finite amount of them and there values are one of two states or outcomes. \n",
    "\n",
    "The Binomial function in Numpy is used for calculating the binomial distribution with parameters n and p is the discrete probability distribution of the number of successes in a sequence of n independent experiments, each asking a yes–no question, and each with its own boolean-valued outcome whic is determined as either a success or fail.\n",
    "\n",
    "The Binomial distrubution is a random variable probability  P(X) and the formula for the Binomial distribution is given as follows.\n",
    "\n",
    "![BinomialImage](Images/BinomialFormula.jpg \"BinomialImage\")\n",
    "<img src='Images\\BinomialFormula.jpg' align=\"left\"/> \n",
    "<br>\n",
    "<br>\n",
    "<br>\n",
    "<br>\n",
    "<br>\n",
    "<br>\n",
    "\n",
    "\n",
    "\n",
    "- n = number is total number of independent trials.<br>\n",
    "- k = the number of successful outcomes of each trial.<br>\n",
    "- p is the probability of one successful outcome.<br>\n",
    "\n",
    "For the variable to be Binomial the following conditions have to be met\n",
    "\n",
    "- Each trial has to be independent.\n",
    "- There is a fixed number of trials.\n",
    "- The probability of a successful outcome has to be constant.\n",
    "- The outcome of each trial can be determined as success or failure.\n",
    "\n",
    "Two Binomial examples are given below and the Numpy Binomial function is used to display the Binomial distrbution of the variable X.\n",
    "\n",
    "*Note: X is replaced with variables bino1 and bino2 for example 1 and 2 as X is used in this notebook already.*\n",
    "\n"
   ]
  },
  {
   "cell_type": "code",
   "execution_count": 34,
   "metadata": {},
   "outputs": [
    {
     "name": "stdout",
     "output_type": "stream",
     "text": [
      "[5 5 3 ... 5 4 3]\n"
     ]
    },
    {
     "data": {
      "image/png": "[encoded data removed]",
      "text/plain": [
       "<Figure size 432x288 with 1 Axes>"
      ]
     },
     "metadata": {
      "needs_background": "light"
     },
     "output_type": "display_data"
    }
   ],
   "source": [
    "#Example 1 A coin is flipped 10 times. The probability of the outcome being heads or tails is the same i.e 0.5. The trial is conducted 5000 times\n",
    "# As the probability is 0.5 it doesn't matter if its Heads or Tails we look at, for the example we wil look at heads.\n",
    "\n",
    "bino1 = np.random.binomial(10,.5,5000)\n",
    "print(bino1)\n",
    "%matplotlib inline\n",
    "plt.hist(bino1)\n",
    "plt.title('Binomial Distribution Coin Flip')\n",
    "plt.xlabel(\"Most heads achieved is 5/10 as probability is 0.5\")\n",
    "plt.ylabel(\"No of Heads received\")\n",
    "plt.show()\n",
    "\n",
    "#The more trials there are the more the plot starts to look like a Bell Curve centred around the middle as the probability is 0.5"
   ]
  },
  {
   "cell_type": "code",
   "execution_count": 35,
   "metadata": {},
   "outputs": [
    {
     "name": "stdout",
     "output_type": "stream",
     "text": [
      "[5 5 3 ... 5 4 3]\n"
     ]
    },
    {
     "data": {
      "image/png": "[encoded data removed]",
      "text/plain": [
       "<Figure size 432x288 with 1 Axes>"
      ]
     },
     "metadata": {
      "needs_background": "light"
     },
     "output_type": "display_data"
    }
   ],
   "source": [
    "#In the 2nd example a footballer take penalties. The fotballer has a 80% conversion rate. 10 penalties are taken 1000 times \n",
    "\n",
    "bino2 = np.random.binomial(10,.8,1000)\n",
    "print(bino1)\n",
    "%matplotlib inline\n",
    "plt.hist(bino2)\n",
    "plt.title('Binomial Distribution Penalties')\n",
    "plt.xlabel(\"Probability Distribution of converted penalties\")\n",
    "plt.ylabel(\"Number of Penalties Converted\")\n",
    "plt.show()\n",
    "\n",
    "# As the footballers converson rate is 80% the bell curve on the plot is skewed to the right around the 8/10. "
   ]
  },
  {
   "cell_type": "markdown",
   "metadata": {},
   "source": [
    "### 3.2 Uniform Distribution\n",
    "\n",
    "Uniform distribution is the type of probability distribution in which all outcomes are equally likely, each variable has the same probability that it will be the outcome. \n",
    "\n",
    "The probability function of the uniform distribution is\n",
    "\n",
    "<img src='Images\\UniformDiscrete.jpg' align=\"left\"/> \n",
    "<br>\n",
    "<br>\n",
    "<br>\n",
    "<br>\n",
    "<br>\n",
    "<br>\n",
    "\n",
    "anywhere within the interval [a, b), and zero elsewhere.\n",
    "\n",
    "*Reference https://docs.scipy.org/doc/numpy-1.16.0/reference/generated/numpy.random.uniform.html#numpy.random.uniform*\n"
   ]
  },
  {
   "cell_type": "code",
   "execution_count": 36,
   "metadata": {},
   "outputs": [
    {
     "name": "stdout",
     "output_type": "stream",
     "text": [
      "[99.08515327 26.17964998 70.70331106 ... 32.52607083 22.05482879\n",
      " 58.53617597]\n"
     ]
    },
    {
     "data": {
      "image/png": "[encoded data removed]",
      "text/plain": [
       "<Figure size 432x288 with 1 Axes>"
      ]
     },
     "metadata": {
      "needs_background": "light"
     },
     "output_type": "display_data"
    }
   ],
   "source": [
    "# Uniform Distribution function takes two variables default values are 0 & 1. The 3rd number is the size, In the example 0, 100 and size = 10000 is used.\n",
    "# The function returns 10000 float values uniformly distributed between 0 & 100\n",
    "# The 10000 values are plotted, you can see the values are evenly distributed between 0 & 100.\n",
    "uni = np.random.uniform(0, 100, 10000)\n",
    "print(uni)\n",
    "%matplotlib inline\n",
    "plt.hist(uni)\n",
    "plt.title(\"Uniform Distribution of 10,000 Outcomes between [0, 100]\")\n",
    "plt.xlabel(\"Probabilities between [0, 100)\")\n",
    "plt.ylabel(\"Events\")\n",
    "plt.show()"
   ]
  },
  {
   "cell_type": "code",
   "execution_count": 37,
   "metadata": {},
   "outputs": [
    {
     "name": "stdout",
     "output_type": "stream",
     "text": [
      "[6 4 5 6 5 5 2 4 3 3 1 3 6 3 2 5 5 4 2 6 1 4 5 6 1 4 1 1 5 5 3 4 6 5 4 2 2\n",
      " 3 6 6 6 4 5 6 4 2 6 3 5 1 2 5 5 3 6 4 5 3 2 1 2 6 4 5 1 6 1 2 4 1 6 2 3 1\n",
      " 2 6 2 6 4 3 1 2 1 3 5 4 6 5 4 6 4 3 5 1 1 4 5 1 5 5 1 3 2 5 4 3 4 3 3 6 2\n",
      " 2 6 4 6 3 6 1 2 2 4 5 6 6 6 5 6 3 5 4 5 4 2 2 6 3 3 6 4 3 3 3 2 3 2 3 4 5\n",
      " 5 2 6 5 6 5 2 5 1 5 2 3 6 3 3 6 3 3 1 3 6 2 1 3 4 5 3 3 3 3 3 5 4 2 3 2 2\n",
      " 1 5 1 2 2 6 4 6 3 2 1 5 1 2 2 3 2 3 5 1 1 5 1 4 1 6 6 1 3 3 3 3 5 3 6 3 5\n",
      " 2 4 3 3 5 2 5 4 1 3 3 5 3 6 2 5 2 1 1 2 3 4 6 6 3 4 5 1 6 6 6 3 5 3 3 4 2\n",
      " 5 5 2 1 4 6 3 3 2 6 4 1 2 5 6 5 6 5 6 4 4 5 4 5 1 1 3 4 5 5 5 2 3 4 4 5 6\n",
      " 4 3 1 3 4 1 2 6 6 1 5 4 5 6 1 3 5 6 2 2 1 6 3 1 4 6 4 3 3 4 1 3 5 4 6 3 6\n",
      " 4 2 4 6 1 6 1 3 2 4 6 4 5 1 5 5 1 6 4 1 1 1 1 6 2 4 3 1 4 4 1 3 1 6 5 1 5\n",
      " 5 1 1 2 2 5 5 1 4 1 3 2 6 6 3 1 4 2 6 1 1 5 6 1 3 1 2 2 1 1 3 2 3 6 6 4 6\n",
      " 3 2 3 1 6 6 3 6 4 1 3 2 5 1 5 2 5 5 2 4 6 5 4 5 6 6 1 4 5 1 6 6 4 4 1 5 6\n",
      " 2 2 3 3 1 2 6 4 1 5 3 2 2 6 2 2 3 2 3 5 3 3 5 4 1 5 1 1 4 1 4 2 3 3 2 4 1\n",
      " 2 2 6 4 5 4 4 5 2 2 4 5 2 2 1 6 1 4 3 2 4 1 5 5 5 3 4 1 3 5 3 4 6 1 3 1 1\n",
      " 5 1 5 3 2 1 3 4 2 5 6 3 1 4 6 3 4 2 4 6 4 2 5 5 4 4 1 3 2 3 6 5 2 2 5 5 1\n",
      " 2 2 5 4 5 4 4 2 1 4 5 6 5 5 2 4 5 3 5 2 6 5 3 1 1 4 3 4 3 1 6 6 1 5 4 5 3\n",
      " 4 1 3 5 2 4 2 1 1 1 4 1 1 3 5 6 6 4 2 1 4 6 2 3 3 3 3 6 2 3 1 6 4 2 3 2 3\n",
      " 6 6 2 1 2 5 5 2 5 1 3 1 3 3 5 1 2 2 3 3 3 1 4 4 2 6 5 2 4 1 4 2 1 2 3 4 4\n",
      " 3 3 1 1 4 2 3 3 4 2 5 1 3 4 1 3 3 4 1 1 5 5 3 3 1 5 4 4 1 2 5 2 3 3 1 1 2\n",
      " 5 6 2 2 3 3 4 3 3 6 1 2 3 2 3 6 2 1 4 2 1 5 6 3 3 3 1 6 6 6 1 5 2 5 1 2 6\n",
      " 1 2 5 3 1 1 6 3 4 4 5 4 1 6 1 2 5 3 5 6 3 3 6 2 6 4 4 5 4 1 4 3 3 4 6 5 5\n",
      " 5 2 4 5 1 6 5 1 1 1 3 5 2 4 5 3 5 6 2 4 2 3 1 1 1 3 4 3 2 5 1 4 1 5 1 5 4\n",
      " 6 3 1 4 6 1 1 2 5 3 6 3 1 2 2 2 2 2 6 1 1 2 4 2 3 6 5 5 3 2 6 5 1 1 6 6 3\n",
      " 3 5 2 2 2 3 4 1 1 4 4 1 4 3 4 3 2 2 1 2 4 1 3 4 6 3 2 2 5 4 1 4 5 5 1 3 1\n",
      " 2 5 2 3 5 4 4 1 2 5 4 4 5 4 2 5 3 6 5 1 4 1 1 1 5 3 1 4 1 4 2 4 6 6 5 4 2\n",
      " 6 1 2 4 5 4 2 3 3 6 5 5 5 1 4 5 3 5 2 1 6 5 2 2 5 6 5 5 1 1 5 1 3 1 6 2 6\n",
      " 4 3 6 2 4 4 6 3 6 2 5 2 5 6 5 2 6 4 2 6 1 2 4 2 3 1 2 5 3 6 1 1 2 3 5 6 2\n",
      " 3]\n"
     ]
    },
    {
     "data": {
      "image/png": "[encoded data removed]",
      "text/plain": [
       "<Figure size 432x288 with 1 Axes>"
      ]
     },
     "metadata": {
      "needs_background": "light"
     },
     "output_type": "display_data"
    }
   ],
   "source": [
    "#The simple random.randint is not strictly uniform distrbution but it is clear that this is a uniform distibution,\n",
    "#The example represents rolling a dice where each side of the dice is represented by an integer from 1 to 6\n",
    "# and each side has a equally likely chance of coming up.\n",
    "dice = np.random.randint(1, 7, 1000)\n",
    "print(dice)\n",
    "%matplotlib inline\n",
    "plt.hist(dice)\n",
    "plt.title(\"Uniform Distribution of Rolling a Dice\")\n",
    "plt.xlabel(\"Probabilities between 1 & 6\")\n",
    "plt.ylabel(\"Throws\")\n",
    "plt.show()"
   ]
  },
  {
   "cell_type": "markdown",
   "metadata": {},
   "source": [
    "### 3.3 Normal Distribution\n",
    "\n",
    "The Normal or Gaussian distribution is a continous probability distribution. Normal distributions are often used in the natural and social sciences to represent random variables. \n",
    "\n",
    "The normal distribution is also known as the Bell curve \n",
    "\n",
    "The Normal distrbution is represented by the following mathemical formula.\n",
    "\n",
    "<img src='Images\\NormalDistribution.JPG' align=\"left\"/> \n",
    "<br>\n",
    "<br>\n",
    "<br>\n",
    "<br>\n",
    "\n",
    "$\\mu$ = mean<br>\n",
    "$\\sigma$ = standard deviation<br>\n",
    "$\\sigma$<sup>2</sup> = variance<br>\n",
    "<br>\n",
    "<br>\n",
    "*References<BR> \n",
    "https://en.wikipedia.org/wiki/Normal_distribution.<BR>\n",
    "https://docs.scipy.org/doc/numpy-1.16.0/reference/generated/numpy.random.normal.html#numpy.random.normal<BR>\n",
    "https://studiousguy.com/real-life-examples-normal-distribution/*\n",
    "<br>\n",
    "<br>"
   ]
  },
  {
   "cell_type": "code",
   "execution_count": 38,
   "metadata": {},
   "outputs": [
    {
     "name": "stdout",
     "output_type": "stream",
     "text": [
      "[-0.09530653  0.43382545  0.79075764 ...  0.50328432 -0.84551697\n",
      "  1.06714272]\n"
     ]
    },
    {
     "data": {
      "image/png": "[encoded data removed]",
      "text/plain": [
       "<Figure size 432x288 with 1 Axes>"
      ]
     },
     "metadata": {
      "needs_background": "light"
     },
     "output_type": "display_data"
    }
   ],
   "source": [
    "#In this example we take 10000 samples and plot them from 0 - 1, as you can see from the graph below that the values mainly\n",
    "#centre around 0 and spread out to approc -3 to +3. The graph takes on the characteristic Bell Curve shape with this many samples.\n",
    "\n",
    "nor = np.random.normal(0.0, 1.0, 10000)\n",
    "\n",
    "print(nor)\n",
    "%matplotlib inline\n",
    "plt.hist(nor)\n",
    "plt.title(\"Normal Distrbution\")\n",
    "plt.xlabel(\"\")\n",
    "plt.ylabel(\"\")\n",
    "plt.show()"
   ]
  },
  {
   "cell_type": "code",
   "execution_count": 39,
   "metadata": {},
   "outputs": [
    {
     "name": "stdout",
     "output_type": "stream",
     "text": [
      "[187.14833919 173.70362476 173.16015348 ... 179.02528277 179.92102784\n",
      " 172.57956131]\n"
     ]
    },
    {
     "data": {
      "image/png": "[encoded data removed]",
      "text/plain": [
       "<Figure size 432x288 with 1 Axes>"
      ]
     },
     "metadata": {
      "needs_background": "light"
     },
     "output_type": "display_data"
    }
   ],
   "source": [
    "#An example of the Normal Distrbution is height in population most people are of average height, \n",
    "#the number of people shorter or taller than the average height is about equal.\n",
    "#You also have a small number of people who are extremely short or extremely tall.\n",
    "\n",
    "#*reference https://tall.life/height-percentile-calculator-age-country/*\n",
    "    \n",
    "#In Ireland the average height of an adult male is 177cm, the standard devation is 7.42cm if we take 10000 sample of the \n",
    "#polulation and plot them.\n",
    "\n",
    "avr_height = np.random.normal(177, 7.42,10000)\n",
    "print(avr_height)\n",
    "%matplotlib inline\n",
    "plt.hist(avr_height)\n",
    "plt.title(\"Adult Male Population Height Ireland\")\n",
    "plt.xlabel(\"\")\n",
    "plt.ylabel(\"\")\n",
    "plt.show()"
   ]
  },
  {
   "cell_type": "markdown",
   "metadata": {},
   "source": [
    "### 3.4 Exponential Distribution\n",
    "\n",
    "The exponent probablity distrbution function can be represented by the following formula.<BR>\n",
    "<BR>\n",
    "\n",
    "<img src=\"https://docs.scipy.org/doc/numpy-1.16.0/_images/math/8840abeb74cea46293b944971a4cac7f0db924f6.svg\" align=\"left\"/>\n",
    "<BR>\n",
    "<BR>\n",
    "\n",
    "x > 0 and 0 elsewhere. \n",
    "$\\beta$ = is the scale parameter, which is the inverse of the rate parameter $\\lambda$ = 1/$\\beta$. <BR>\n",
    "<BR>    \n",
    "The rate parameter is an alternative, widely used parameterisation of the exponential distribution.\n",
    "\n",
    "The exponential distribution describes the time for a continuous process to change state. A real-world scenario, the rate of incoming phone calls differs depending on the time of day. If we focus on a time interval during which the rate is roughly constant, such as from 2 to 4 p.m. of a working day, the exponential distribution can be used as a good approximate model for the time until the next phone call arrives. \n",
    "\n",
    "The exponential distribution function can be used to describe life span for products or waiting times. \n",
    "\n",
    "*References\n",
    "https://en.wikipedia.org/wiki/Exponential_distribution<BR>\n",
    "https://docs.scipy.org/doc/numpy-1.16.0/reference/generated/numpy.random.exponential.html#numpy.random.exponential<BR>\n",
    "https://stackoverflow.com/questions/15091982/manipulating-the-numpy-random-exponential-distribution-in-python*<BR>\n",
    "\n",
    "    "
   ]
  },
  {
   "cell_type": "code",
   "execution_count": 40,
   "metadata": {},
   "outputs": [
    {
     "name": "stdout",
     "output_type": "stream",
     "text": [
      "[0.00559408 0.00214202 0.00604429 ... 0.00577956 0.00507203 0.00964041]\n"
     ]
    },
    {
     "data": {
      "image/png": "[encoded data removed]",
      "text/plain": [
       "<Figure size 432x288 with 1 Axes>"
      ]
     },
     "metadata": {
      "needs_background": "light"
     },
     "output_type": "display_data"
    }
   ],
   "source": [
    "#In the example below beta is the inverse of the rate. you can see from the plot that the rate tails off as time goes on.\n",
    "#The exponential distribution can be used to describe the rate of decay or the estimated life span of a component over time.\n",
    "rate = 200\n",
    "beta = 1.0/rate\n",
    "\n",
    "expn = np.random.exponential(beta, 10000)\n",
    "print(expn)\n",
    "plt.hist(expn,bins=200)\n",
    "plt.title(\"Exponentially Decreasing Curve\")\n",
    "plt.ylabel(\"Rate\")\n",
    "plt.xlabel(\"time\")\n",
    "plt.show()"
   ]
  },
  {
   "cell_type": "markdown",
   "metadata": {},
   "source": [
    "### 3.5 Gamma Distribution\n",
    "\n",
    "The Gamma distribution is often used to model the times to failure of\n",
    "electronic components\n",
    "\n",
    "<img src=\"https://docs.scipy.org/doc/numpy-1.16.0/_images/math/62aefb0db5941504fd4d035fa8d8b7199f99565e.svg\" align=\"left\"/><BR>\n",
    "<BR>\n",
    "<BR>\n",
    "    \n",
    "mean= k * $\\theta$ <BR>\n",
    "variance = (k * $\\theta$)<sup>2</sup>\n",
    "    \n",
    "k = shape<BR>\n",
    "$\\theta$ = scale<BR>    \n",
    "$\\Gamma$ = Gamma\n",
    "\n",
    "    \n",
    "*References https://docs.scipy.org/doc/numpy-1.16.0/reference/generated/numpy.random.gamma.html*\n"
   ]
  },
  {
   "cell_type": "code",
   "execution_count": 41,
   "metadata": {},
   "outputs": [
    {
     "name": "stdout",
     "output_type": "stream",
     "text": [
      "The mean of the Gamma distribution is (Shape * Scale) = ~ 4.042378159767194\n",
      "The variance of the Gamma distribution is ((Shape * Scale)*(Shape * Scale)) = ~ 8.12651221104276\n"
     ]
    },
    {
     "data": {
      "image/png": "[encoded data removed]",
      "text/plain": [
       "<Figure size 432x288 with 1 Axes>"
      ]
     },
     "metadata": {
      "needs_background": "light"
     },
     "output_type": "display_data"
    }
   ],
   "source": [
    "shape, scale = 2, 2.   \n",
    "\n",
    "ga = np.random.gamma(shape, scale, 10000)\n",
    "\n",
    "# mean= shape * scale = 4,\n",
    "# variance = (shape * scale)^2\n",
    "\n",
    "#Calculate the mean of Gamma distribution and print it below\n",
    "ga_mean = np.mean(ga)\n",
    "print(\"The mean of the Gamma distribution is (Shape * Scale) = ~\",ga_mean)\n",
    "\n",
    "#Calculate the variance of the Gamma distribution and print it below\n",
    "ga_var = np.var(ga)\n",
    "print(\"The variance of the Gamma distribution is ((Shape * Scale)*(Shape * Scale)) = ~\",ga_var)\n",
    "\n",
    "import scipy.special as sps\n",
    "count, bins, ignored = plt.hist(ga, 50, density=True)\n",
    "plt.title(\"Gamma Distribution Example\")\n",
    "y = bins**(shape-1)*(np.exp(-bins/scale) /\n",
    "                     (sps.gamma(shape)*scale**shape))\n",
    "plt.plot(bins, y, linewidth=2, color='r')\n",
    "plt.show()\n",
    "\n",
    "\n"
   ]
  },
  {
   "cell_type": "markdown",
   "metadata": {},
   "source": [
    "## 4. Seeds in generating pseudorandom numbers"
   ]
  },
  {
   "cell_type": "markdown",
   "metadata": {},
   "source": [
    "In Numpy a seed is a value that is one of the key inputs to a Numpy random function, in generating a pseudorandom sequence of numbers. \n",
    "\n",
    "The term pseudorandom number is that, it appears to be random but it is not random. Computers are not random devices they cannot generate truly random numbers. \n",
    "\n",
    "Computers are deterministic devices, if you input certain values and run them through the same programs and algorithms you will get the same output everytime. To get around this problem Pseudo random number generators are used. \n",
    "For a computer to appear to generate a random sequence of numbers it uses a seed value, this seed value must be random, to ensure the seed value is random many techniques\n",
    "can be deployed for example system time, keyboard input, fan speed, available memory. \n",
    "\n",
    "Numpy random is a function that generates random numbers this can be used for statistical modeling, the numpy.random function has an additional function that sets the seed to a particular value. This allows you to generate the same random set of numbers everytime the program is run. This is very useful in Data Analysis and statistical modeling because it allows the programmer to get a set of random numbers that appear random but are the same random numbers everytime. \n",
    "\n",
    "The Numpy code demonstrates this below."
   ]
  },
  {
   "cell_type": "markdown",
   "metadata": {},
   "source": [
    "*References*\n",
    "\n",
    "*https://www.sharpsightlabs.com/blog/numpy-random-seed/*\n",
    "\n",
    "*https://en.wikipedia.org/wiki/Pseudorandomness*\n",
    "\n",
    "*https://en.wikipedia.org/wiki/Random_seed*"
   ]
  },
  {
   "cell_type": "code",
   "execution_count": 42,
   "metadata": {},
   "outputs": [
    {
     "data": {
      "text/plain": [
       "array([0, 7, 0, 7, 2, 0, 3, 8, 7, 6])"
      ]
     },
     "execution_count": 42,
     "metadata": {},
     "output_type": "execute_result"
    }
   ],
   "source": [
    "# The random.randint function is used to generate a random set of integers, with the random.seed() function commented out.\n",
    "# np.random.seed(0)\n",
    "np.random.randint(10, size = 10)\n",
    "#Without the seed value been set the array with the 10 integers are different each time the function is run.\n",
    "#Python generates the random seed value itself therefore the sequence wil be different each time the function is run."
   ]
  },
  {
   "cell_type": "code",
   "execution_count": 43,
   "metadata": {},
   "outputs": [
    {
     "data": {
      "text/plain": [
       "array([5, 0, 3, 3, 7, 9, 3, 5, 2, 4])"
      ]
     },
     "execution_count": 43,
     "metadata": {},
     "output_type": "execute_result"
    }
   ],
   "source": [
    "# The seed value is set to 0, 10 random integers are generated by the random.randint function.\n",
    "np.random.seed(0)\n",
    "np.random.randint(10, size = 10)"
   ]
  },
  {
   "cell_type": "code",
   "execution_count": 44,
   "metadata": {},
   "outputs": [
    {
     "data": {
      "text/plain": [
       "array([5, 8, 9, 5, 0, 0, 1, 7, 6, 9])"
      ]
     },
     "execution_count": 44,
     "metadata": {},
     "output_type": "execute_result"
    }
   ],
   "source": [
    "# The seed value is set to 1, 10 random integers are generated by the random.randint function.\n",
    "np.random.seed(1)\n",
    "np.random.randint(10, size = 10)\n",
    "#The array sequence is different when the seed value was 0"
   ]
  },
  {
   "cell_type": "code",
   "execution_count": 45,
   "metadata": {},
   "outputs": [
    {
     "data": {
      "text/plain": [
       "array([5, 0, 3, 3, 7, 9, 3, 5, 2, 4])"
      ]
     },
     "execution_count": 45,
     "metadata": {},
     "output_type": "execute_result"
    }
   ],
   "source": [
    "# Change the seed value back to 0, the same 10 random integers are generated by the random.randint function.\n",
    "np.random.seed(0)\n",
    "np.random.randint(10, size = 10)"
   ]
  }
 ],
 "metadata": {
  "kernelspec": {
   "display_name": "Python 3",
   "language": "python",
   "name": "python3"
  },
  "language_info": {
   "codemirror_mode": {
    "name": "ipython",
    "version": 3
   },
   "file_extension": ".py",
   "mimetype": "text/x-python",
   "name": "python",
   "nbconvert_exporter": "python",
   "pygments_lexer": "ipython3",
   "version": "3.7.1"
  }
 },
 "nbformat": 4,
 "nbformat_minor": 2
}

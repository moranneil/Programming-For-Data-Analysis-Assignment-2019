{
 "cells": [
  {
   "cell_type": "markdown",
   "metadata": {},
   "source": [
    "# Numpy Random Package\n",
    "\n",
    "\n",
    "\n",
    "<img src='NJP-Symbols.jpg' />\n",
    "\n",
    "This is an investigation in to the Numpy random package. This investigation is divided in to four parts see links below. There is also a Reference section that provides a list of links used in this investigation.\n",
    "\n",
    "[1. Introduction to Numpy random](#1.-Introduction-to-Numpy-random)\n",
    "\n",
    "[2. Simple random data & Permutations](#2.-Simple-random-data-&-Permutations)\n",
    "\n",
    "[3. Five Distribution Functions](#3.-Five-Distribution-Functions)\n",
    "\n",
    "[4. Seeds in generating pseudorandom numbers](#4.-Seeds-in-generating-pseudorandom-numbers)\n",
    "\n",
    "[References](#References)\n"
   ]
  },
  {
   "cell_type": "markdown",
   "metadata": {},
   "source": [
    "## 1. Introduction to Numpy and Numpy random"
   ]
  },
  {
   "cell_type": "markdown",
   "metadata": {},
   "source": [
    "#### Numpy\n",
    "\n",
    "- Numpy is a multidimensional array library, it can create and manliplate multiple sizes of arrays for example 1-dimensional (1D), 2D & 3D... arrays.\n",
    "- Numpy arrays are a very efficient incomparsion to lists for the following reasons\n",
    " * Numpy uses less memory to store arrays.\n",
    " * Any one Numpy array is of the same data type so no type checking is required this is not a case with lists.\n",
    " * Numpy uses contigious memory blocks to store array values this allows SIMD (Single Instruction Multiple Data) vector processing to perform multiple calulations of arrays that are sequentially stored in memory, this allows for more efficent CPU usage in processing calculations for arrays. Its also allows for efficient cache usage. \n",
    "\n",
    "#### Numpy Random\n",
    "\n",
    "- Numpy random is a sub package of the Numpy\n",
    "- Numpy random package is a way of generating random numbers or psuedo random numbers for computers\n",
    "- Generates arrays of numbers, arrays are a grouping of homogenous data types, the data element have to be of the same type.\n",
    "- Usually don't use Numpy directly its usually used with other packages such as pandas or SciPy"
   ]
  },
  {
   "cell_type": "code",
   "execution_count": 1,
   "metadata": {},
   "outputs": [],
   "source": [
    "# To start this investigation the Numpy package is imported as np & matplotlib.pyplot package is imported a plt\n",
    "\n",
    "import numpy as np\n",
    "import matplotlib.pyplot as plt\n"
   ]
  },
  {
   "cell_type": "markdown",
   "metadata": {},
   "source": [
    "* The next few functions will demonstrate how Numpy generates simple arrays and functions that will give information on these arrays."
   ]
  },
  {
   "cell_type": "markdown",
   "metadata": {},
   "source": [
    "#### Create 1-Dimensional Array"
   ]
  },
  {
   "cell_type": "code",
   "execution_count": 2,
   "metadata": {},
   "outputs": [],
   "source": [
    "#Creating array and assign it to x, created integers as 16bit (2 Bytes) instead of 32int default (4bytes)\n",
    "x = np.array([2, 3], dtype='int16')"
   ]
  },
  {
   "cell_type": "code",
   "execution_count": 3,
   "metadata": {},
   "outputs": [
    {
     "data": {
      "text/plain": [
       "2"
      ]
     },
     "execution_count": 3,
     "metadata": {},
     "output_type": "execute_result"
    }
   ],
   "source": [
    "#Prints the 1st value of array x\n",
    "x[0]"
   ]
  },
  {
   "cell_type": "code",
   "execution_count": 4,
   "metadata": {},
   "outputs": [
    {
     "data": {
      "text/plain": [
       "3"
      ]
     },
     "execution_count": 4,
     "metadata": {},
     "output_type": "execute_result"
    }
   ],
   "source": [
    "#Prints the 2nd value of array x\n",
    "x[1]"
   ]
  },
  {
   "cell_type": "code",
   "execution_count": 5,
   "metadata": {},
   "outputs": [
    {
     "data": {
      "text/plain": [
       "1"
      ]
     },
     "execution_count": 5,
     "metadata": {},
     "output_type": "execute_result"
    }
   ],
   "source": [
    "#Print the dimension of array x, dimension of the array is 1D\n",
    "x.ndim"
   ]
  },
  {
   "cell_type": "code",
   "execution_count": 6,
   "metadata": {},
   "outputs": [
    {
     "data": {
      "text/plain": [
       "dtype('int16')"
      ]
     },
     "execution_count": 6,
     "metadata": {},
     "output_type": "execute_result"
    }
   ],
   "source": [
    "#Prints array size as defined in above, if dtype int16 is not specified 'int32' is default for integers \n",
    "x.dtype"
   ]
  },
  {
   "cell_type": "code",
   "execution_count": 7,
   "metadata": {},
   "outputs": [
    {
     "data": {
      "text/plain": [
       "2"
      ]
     },
     "execution_count": 7,
     "metadata": {},
     "output_type": "execute_result"
    }
   ],
   "source": [
    "#Prints the item size of the array in bytes, as its int 16 each value is 2 Bytes\n",
    "x.itemsize"
   ]
  },
  {
   "cell_type": "code",
   "execution_count": 8,
   "metadata": {},
   "outputs": [
    {
     "data": {
      "text/plain": [
       "4"
      ]
     },
     "execution_count": 8,
     "metadata": {},
     "output_type": "execute_result"
    }
   ],
   "source": [
    "# Prints the total size of the array in Bytes. This is 4 Bytes, ie two 16 bit integer values.\n",
    "x.nbytes"
   ]
  },
  {
   "cell_type": "markdown",
   "metadata": {},
   "source": [
    "#### Create 2-Dimensional Array"
   ]
  },
  {
   "cell_type": "code",
   "execution_count": 9,
   "metadata": {},
   "outputs": [
    {
     "name": "stdout",
     "output_type": "stream",
     "text": [
      "[[1 2 3 4]\n",
      " [5 6 7 8]]\n"
     ]
    }
   ],
   "source": [
    "# Create an 2D array assign it to y\n",
    "y = np.array([[1,2,3,4],[5,6,7,8]])\n",
    "print(y)"
   ]
  },
  {
   "cell_type": "code",
   "execution_count": 10,
   "metadata": {},
   "outputs": [
    {
     "data": {
      "text/plain": [
       "2"
      ]
     },
     "execution_count": 10,
     "metadata": {},
     "output_type": "execute_result"
    }
   ],
   "source": [
    "#Print the dimension of array y, dimension of the array is 2D\n",
    "y.ndim"
   ]
  },
  {
   "cell_type": "code",
   "execution_count": 11,
   "metadata": {},
   "outputs": [
    {
     "name": "stdout",
     "output_type": "stream",
     "text": [
      "7\n"
     ]
    }
   ],
   "source": [
    "#Prints the 2rd value in the 2nd row of array y, indexing of arrays start at 0\n",
    "print(y[1,2])"
   ]
  },
  {
   "cell_type": "code",
   "execution_count": 12,
   "metadata": {},
   "outputs": [
    {
     "data": {
      "text/plain": [
       "array([1, 2, 3, 4])"
      ]
     },
     "execution_count": 12,
     "metadata": {},
     "output_type": "execute_result"
    }
   ],
   "source": [
    "#Prints the entire first row of the array\n",
    "y[0, :]"
   ]
  },
  {
   "cell_type": "code",
   "execution_count": 13,
   "metadata": {},
   "outputs": [
    {
     "data": {
      "text/plain": [
       "(2, 4)"
      ]
     },
     "execution_count": 13,
     "metadata": {},
     "output_type": "execute_result"
    }
   ],
   "source": [
    "#Prints out the shape of array y two rows with 4 columns\n",
    "np.shape(y)"
   ]
  },
  {
   "cell_type": "code",
   "execution_count": 14,
   "metadata": {},
   "outputs": [
    {
     "data": {
      "text/plain": [
       "dtype('int32')"
      ]
     },
     "execution_count": 14,
     "metadata": {},
     "output_type": "execute_result"
    }
   ],
   "source": [
    "#Prints array size as defined in above, there is not dtype defined in the array so it should be 'int32' bt default\n",
    "y.dtype"
   ]
  },
  {
   "cell_type": "code",
   "execution_count": 15,
   "metadata": {},
   "outputs": [
    {
     "data": {
      "text/plain": [
       "4"
      ]
     },
     "execution_count": 15,
     "metadata": {},
     "output_type": "execute_result"
    }
   ],
   "source": [
    "#Prints the item size of the array in bytes, its default int32 so its 4 Bytes\n",
    "y.itemsize"
   ]
  },
  {
   "cell_type": "code",
   "execution_count": 16,
   "metadata": {},
   "outputs": [
    {
     "data": {
      "text/plain": [
       "32"
      ]
     },
     "execution_count": 16,
     "metadata": {},
     "output_type": "execute_result"
    }
   ],
   "source": [
    "# Prints the total size of the array in Bytes. This is 8 values @ 4Bytes each = 32 Bytes\n",
    "y.nbytes"
   ]
  },
  {
   "cell_type": "markdown",
   "metadata": {},
   "source": [
    "#### Create 3-Dimensional Array"
   ]
  },
  {
   "cell_type": "code",
   "execution_count": 17,
   "metadata": {},
   "outputs": [
    {
     "name": "stdout",
     "output_type": "stream",
     "text": [
      "[[[ 1  2  3]\n",
      "  [ 4  5  6]]\n",
      "\n",
      " [[ 7  8  9]\n",
      "  [10 11 12]]]\n"
     ]
    }
   ],
   "source": [
    "z = np.array([[[1,2,3],[4,5,6]],[[7,8,9],[10,11,12]]])\n",
    "print(z)"
   ]
  },
  {
   "cell_type": "code",
   "execution_count": 18,
   "metadata": {},
   "outputs": [
    {
     "data": {
      "text/plain": [
       "3"
      ]
     },
     "execution_count": 18,
     "metadata": {},
     "output_type": "execute_result"
    }
   ],
   "source": [
    "#Print the dimension of array z, dimension of the array is 3D\n",
    "z.ndim"
   ]
  },
  {
   "cell_type": "code",
   "execution_count": 19,
   "metadata": {},
   "outputs": [
    {
     "data": {
      "text/plain": [
       "(2, 2, 3)"
      ]
     },
     "execution_count": 19,
     "metadata": {},
     "output_type": "execute_result"
    }
   ],
   "source": [
    "#Prints the size of the 3D array\n",
    "np.shape(z)"
   ]
  },
  {
   "cell_type": "code",
   "execution_count": 20,
   "metadata": {},
   "outputs": [
    {
     "name": "stdout",
     "output_type": "stream",
     "text": [
      "8\n"
     ]
    }
   ],
   "source": [
    "# Access values in the 3D array, work from the outside sq brackets in\n",
    "# For example to access number 8, the 1st value would be either 0 or 1 8 is in the 2nd group so its 1, after that is just 2D array (r,c) so (0,1)\n",
    "print(z[1, 0, 1])"
   ]
  },
  {
   "cell_type": "code",
   "execution_count": 21,
   "metadata": {},
   "outputs": [
    {
     "name": "stdout",
     "output_type": "stream",
     "text": [
      "[2 8]\n"
     ]
    }
   ],
   "source": [
    "# Print the value 1st row and 2nd column from both groups\n",
    "print(z[:, 0, 1])"
   ]
  },
  {
   "cell_type": "markdown",
   "metadata": {},
   "source": [
    "#### Numpy Arrange \n",
    "Numpy arrange creates an array of sequential numbers. The notation is given below\n",
    "* numpy.arange(start, stop, step, dtype)"
   ]
  },
  {
   "cell_type": "code",
   "execution_count": 43,
   "metadata": {},
   "outputs": [
    {
     "name": "stdout",
     "output_type": "stream",
     "text": [
      "[0 1 2 3 4 5 6 7 8 9]\n"
     ]
    },
    {
     "data": {
      "text/plain": [
       "dtype('int32')"
      ]
     },
     "execution_count": 43,
     "metadata": {},
     "output_type": "execute_result"
    }
   ],
   "source": [
    "# Creates a number range from 0 to 9 steps in 1 with int32 as the default type for whole numbers\n",
    "arrint = np.arange(10)\n",
    "print(arrint)\n",
    "arrint.dtype"
   ]
  },
  {
   "cell_type": "code",
   "execution_count": 41,
   "metadata": {},
   "outputs": [
    {
     "name": "stdout",
     "output_type": "stream",
     "text": [
      "[2.  2.5 3.  3.5 4.  4.5]\n"
     ]
    },
    {
     "data": {
      "text/plain": [
       "dtype('float32')"
      ]
     },
     "execution_count": 41,
     "metadata": {},
     "output_type": "execute_result"
    }
   ],
   "source": [
    "arrfloats = np.arange(2, 5, 0.5, 'float32')\n",
    "print(arrfloats)\n",
    "arrfloats.dtype"
   ]
  },
  {
   "cell_type": "code",
   "execution_count": 24,
   "metadata": {},
   "outputs": [],
   "source": [
    "#This is a random (float) number generator of uniform distribution over [0,1) in the example the array dimensions are 4 rows x 3 columns\n",
    "a = np.random.rand(4,3)\n"
   ]
  },
  {
   "cell_type": "markdown",
   "metadata": {},
   "source": [
    "## 2. Simple random data & Permutations\n",
    "\n",
    "In this section we will investigate a few simple random data and Permutation functions.\n",
    "\n",
    "### 2.1 Simple random data\n",
    "\n",
    "To illustrate simple random data in numpy the following functions are discussed\n",
    "\n",
    "- *numpy.random.rand*\n",
    "- *numpy.random.randn*"
   ]
  },
  {
   "cell_type": "markdown",
   "metadata": {},
   "source": [
    "#### random.rand\n",
    "This is part of the simple random data sampling, this function uses uniform distribution, the plots show the difference between it and random.randn which uses normal or Gaussian distribution"
   ]
  },
  {
   "cell_type": "code",
   "execution_count": 25,
   "metadata": {},
   "outputs": [
    {
     "data": {
      "text/plain": [
       "0.32137263045534525"
      ]
     },
     "execution_count": 25,
     "metadata": {},
     "output_type": "execute_result"
    }
   ],
   "source": [
    "#If no argument is given a single floating point number is returned\n",
    "np.random.rand()"
   ]
  },
  {
   "cell_type": "code",
   "execution_count": 26,
   "metadata": {},
   "outputs": [
    {
     "name": "stdout",
     "output_type": "stream",
     "text": [
      "[0.37843195 0.19522832 0.42664817 0.88697334 0.37374194 0.7471034\n",
      " 0.65394212 0.90926816 0.51332841 0.34689685 0.74964676 0.46402033\n",
      " 0.19865861 0.0349387  0.41736162 0.23591267 0.09999883 0.90798005\n",
      " 0.34011772 0.05190989 0.64414112 0.32629922 0.83839774 0.29020953\n",
      " 0.98901155 0.97990534 0.00448783 0.14125926 0.7116615  0.17044122\n",
      " 0.42918759 0.33451847 0.82195412 0.32803051 0.56051004 0.20677083\n",
      " 0.68249559 0.22659346 0.08883232 0.98205426 0.01299167 0.04701301\n",
      " 0.89310999 0.84022736 0.08111145 0.57216188 0.34088045 0.74548824\n",
      " 0.72879603 0.80611418 0.74591212 0.19021302 0.2324507  0.12937455\n",
      " 0.29112899 0.73528072 0.80908426 0.12333211 0.35343062 0.01917374\n",
      " 0.14587944 0.02829328 0.606435   0.97086876 0.52942086 0.29615737\n",
      " 0.96746246 0.70466667 0.28281183 0.59419992 0.52495218 0.11583583\n",
      " 0.12604874 0.82683635 0.9836482  0.72682491 0.05647543 0.11431085\n",
      " 0.58406855 0.75893567 0.94717571 0.33941105 0.10092872 0.16987839\n",
      " 0.86315598 0.63308486 0.92031726 0.86575783 0.31109755 0.13515919\n",
      " 0.31953116 0.44704036 0.56225061 0.85867818 0.17911637 0.33427174\n",
      " 0.21548794 0.80716446 0.60790623 0.3632059  0.34607372 0.82522476\n",
      " 0.26991709 0.54009926 0.66296241 0.05449119 0.36820406 0.09502964\n",
      " 0.48335802 0.43743654 0.56950799 0.55222926 0.71145768 0.41300597\n",
      " 0.41750333 0.25709947 0.14081812 0.97910199 0.17349415 0.28498555\n",
      " 0.70062658 0.13026595 0.50737779 0.14637735 0.05391536 0.3450354\n",
      " 0.28445412 0.70884854 0.89815201 0.22231815 0.67206678 0.35321578\n",
      " 0.97101197 0.70385676 0.56606798 0.42292372 0.04726947 0.86216365\n",
      " 0.00519323 0.9762759  0.35433163 0.62433903 0.56137501 0.7879109\n",
      " 0.55700002 0.68676557 0.87816197 0.4363435  0.04757094 0.52455355\n",
      " 0.06822014 0.05692182 0.34143389 0.39864354 0.35360165 0.49260297\n",
      " 0.66126951 0.41654479 0.57553291 0.5140452  0.2651809  0.3303172\n",
      " 0.08309639 0.68629784 0.67635933 0.42405956 0.94093032 0.28588911\n",
      " 0.30007907 0.92709666 0.80248197 0.52646514 0.46817741 0.24926976\n",
      " 0.85856239 0.22421264 0.79492455 0.86791658 0.99484858 0.85967462\n",
      " 0.8172412  0.17442916 0.86437798 0.79918736 0.46681415 0.26152777\n",
      " 0.85750551 0.56687684 0.28180272 0.88209906 0.56289928 0.44440815\n",
      " 0.15162554 0.85030669 0.15216819 0.56675056 0.67060663 0.21305402\n",
      " 0.92378516 0.65320174 0.72183984 0.74698588 0.28614653 0.16580555\n",
      " 0.17902134 0.54236324 0.67074262 0.33696983 0.84301647 0.77707866\n",
      " 0.27533327 0.70450533 0.68677567 0.90017298 0.25807849 0.19170883\n",
      " 0.0247124  0.82320549 0.17238695 0.25269002 0.76055641 0.69308109\n",
      " 0.12902242 0.0380703  0.51947975 0.38604855 0.19072317 0.08461257\n",
      " 0.06215357 0.16570411 0.03303807 0.57208544 0.72590585 0.90657937\n",
      " 0.50733274 0.03484056 0.49724211 0.32518057 0.99968658 0.3842984\n",
      " 0.88762338 0.69121951 0.02044187 0.10806185 0.23437855 0.39295726\n",
      " 0.4581734  0.41835462 0.43446352 0.1283586  0.54700646 0.19528286\n",
      " 0.29245134 0.63376462 0.52546554 0.75020335 0.02385049 0.10780398\n",
      " 0.95520406 0.76320153 0.32429947 0.19101347 0.11296529 0.48851331\n",
      " 0.07383143 0.93507064 0.90448728 0.33931879 0.51540155 0.17260547\n",
      " 0.71544698 0.59301456 0.97903635 0.46515877 0.34012528 0.60973759\n",
      " 0.99038093 0.94648472 0.83683804 0.60664353 0.8195103  0.36282819\n",
      " 0.93940955 0.07598192 0.5881943  0.50957608 0.21955968 0.31778406\n",
      " 0.87837456 0.06623913 0.98080992 0.39595643 0.45972945 0.30566041\n",
      " 0.41391589 0.40842721 0.19143939 0.18176736 0.03011243 0.98788746\n",
      " 0.94414429 0.15533666 0.83571106 0.41091607 0.79413376 0.57456148\n",
      " 0.73110446 0.73083513 0.30756769 0.25100304 0.2508112  0.32423887\n",
      " 0.80143465 0.54870652 0.36041156 0.36894129 0.95207762 0.46483418\n",
      " 0.90814401 0.29485961 0.86534669 0.63365573 0.15738114 0.46619076\n",
      " 0.83449219 0.72153876 0.01253474 0.58816115 0.40052962 0.34786604\n",
      " 0.07415993 0.13228793 0.40881819 0.44943715 0.19630244 0.67202173\n",
      " 0.40973613 0.2235212  0.64005711 0.37076009 0.6543792  0.91376335\n",
      " 0.47050262 0.3821372  0.18598065 0.21953865 0.65966647 0.9855719\n",
      " 0.56417456 0.35251681 0.97148965 0.78692851 0.356908   0.32296211\n",
      " 0.5804786  0.51541766 0.05238784 0.02318017 0.20548343 0.97534084\n",
      " 0.88565807 0.07335512 0.6475541  0.30486261 0.72117567 0.48318462\n",
      " 0.33491889 0.23056132 0.62453726 0.52211086 0.37984424 0.49960715\n",
      " 0.83028644 0.93256724 0.02675243 0.88218992 0.27607106 0.88352409\n",
      " 0.82452784 0.58798107 0.72855113 0.93218771 0.53923859 0.2197286\n",
      " 0.18284326 0.31945071 0.2243178  0.48976646 0.6901331  0.0335507\n",
      " 0.01993315 0.20181927 0.44295096 0.2080815  0.75321051 0.52376519\n",
      " 0.70939792 0.9220078  0.35212044 0.66173858 0.70280593 0.06085943\n",
      " 0.17412747 0.13527793 0.49051538 0.36665698 0.37792638 0.85033134\n",
      " 0.55319605 0.03355596 0.48237281 0.72692765 0.78115475 0.32259349\n",
      " 0.99990931 0.36049472 0.81012051 0.58941581 0.17520527 0.56163933\n",
      " 0.45605428 0.34934988 0.09136823 0.4894079  0.59338373 0.36868403\n",
      " 0.39433404 0.75508003 0.12085556 0.57867078 0.52014187 0.80441163\n",
      " 0.48223375 0.83567581 0.04291836 0.37513431 0.76827283 0.34099255\n",
      " 0.45393537 0.50223304 0.55628576 0.84942347 0.98509688 0.58304618\n",
      " 0.4617089  0.15041738 0.00456547 0.53580951 0.04989997 0.84821648\n",
      " 0.22914809 0.56970172 0.24004871 0.90809672 0.20315189 0.33094545\n",
      " 0.03954709 0.81020047 0.20896766 0.45417014 0.31797358 0.32186034\n",
      " 0.11742036 0.05580274 0.29485333 0.54933283 0.24849231 0.37441864\n",
      " 0.0889294  0.9366106  0.99662457 0.13741285 0.87632107 0.2391895\n",
      " 0.42642304 0.08281967 0.53178153 0.17016978 0.45102508 0.24024545\n",
      " 0.44663452 0.5561094  0.84830329 0.40198939 0.48131138 0.34265096\n",
      " 0.10548855 0.46536118 0.97842901 0.7570091  0.05018934 0.07733527\n",
      " 0.17052097 0.28916974 0.97851252 0.98662101 0.01495272 0.79836409\n",
      " 0.55064527 0.97497758 0.4469381  0.75311506 0.59319228 0.62645522\n",
      " 0.21803911 0.84731331 0.67751934 0.91017124 0.85877858 0.82092314\n",
      " 0.57929776 0.03637487 0.01723417 0.07375672 0.37012658 0.50470079\n",
      " 0.98448289 0.86021112 0.06648664 0.38996931 0.58367333 0.56054868\n",
      " 0.43238931 0.27586028 0.49766794 0.46101566 0.46132683 0.70386201\n",
      " 0.05748936 0.24124068 0.3335803  0.34624752 0.3507826  0.98601764\n",
      " 0.04252507 0.29582094 0.5971629  0.7874376  0.05397233 0.42170064\n",
      " 0.50014821 0.31379796 0.04145981 0.93945102 0.38245757 0.79891169\n",
      " 0.15496881 0.70371123 0.0325655  0.91423055 0.10381738 0.05456781\n",
      " 0.74689596 0.24960395 0.39803602 0.09147629 0.93658722 0.08155639\n",
      " 0.2690877  0.06284164 0.34867093 0.79921386 0.35983975 0.2653949\n",
      " 0.95364274 0.01058953 0.50742286 0.52602366 0.63426619 0.47113302\n",
      " 0.19666309 0.31731136 0.11475673 0.9758244  0.93562682 0.26657312\n",
      " 0.12280758 0.19228626 0.34407514 0.38971186 0.36427975 0.1612666\n",
      " 0.80495213 0.73104979 0.45960711 0.75372816 0.25947682 0.9882018\n",
      " 0.30346842 0.89235686 0.21121931 0.92516976 0.79344854 0.16898463\n",
      " 0.08004699 0.02071899 0.64934418 0.31928175 0.88334146 0.61481708\n",
      " 0.62336892 0.75965406 0.53652587 0.36873717 0.29816971 0.42267843\n",
      " 0.00901187 0.46103359 0.10079026 0.85977353 0.05819092 0.86908834\n",
      " 0.17481691 0.8776419  0.55398004 0.8982439  0.15745367 0.7721952\n",
      " 0.88360308 0.59090264 0.49325332 0.20887817 0.46813619 0.46485678\n",
      " 0.61033585 0.83078858 0.48365989 0.92708947 0.74664838 0.62635592\n",
      " 0.45491755 0.25451159 0.11011022 0.76078216 0.44438152 0.83824193\n",
      " 0.62188505 0.34322792 0.75666586 0.86300197 0.57192627 0.07093203\n",
      " 0.13417964 0.63971512 0.12564512 0.82436231 0.48069378 0.95624056\n",
      " 0.26959534 0.13390164 0.99605212 0.70555    0.11271061 0.40385573\n",
      " 0.86602675 0.75937633 0.56985695 0.85442225 0.81053189 0.86237129\n",
      " 0.30713128 0.88883504 0.81164222 0.36746803 0.31237572 0.82279229\n",
      " 0.46373959 0.53339434 0.08410133 0.3797083  0.07653344 0.09756138\n",
      " 0.24488204 0.99418333 0.08080005 0.78543061 0.19290491 0.42303423\n",
      " 0.52944468 0.39962951 0.24695695 0.36661317 0.45397389 0.33328014\n",
      " 0.08055808 0.0808664  0.90017909 0.77889287 0.98922251 0.57441053\n",
      " 0.9614407  0.99839641 0.41114803 0.66875211 0.5394023  0.05537233\n",
      " 0.69802606 0.90848935 0.13990748 0.83395086 0.77151412 0.38565304\n",
      " 0.69960241 0.34899898 0.77786507 0.34783767 0.68055347 0.25712757\n",
      " 0.94804391 0.08496669 0.58159484 0.29714473 0.97205309 0.65626534\n",
      " 0.02091201 0.04631055 0.81318846 0.52240286 0.7524487  0.47345443\n",
      " 0.67013471 0.58907218 0.15104    0.5194097  0.04708203 0.10542291\n",
      " 0.83744465 0.36039196 0.94631098 0.17981214 0.5834426  0.05646828\n",
      " 0.36842127 0.61404019 0.388111   0.73251701 0.91506176 0.36286\n",
      " 0.90928641 0.33327218 0.33873993 0.37291415 0.15034514 0.31253328\n",
      " 0.65071543 0.56252754 0.49840848 0.88987752 0.21977568 0.33906154\n",
      " 0.52366528 0.55699224 0.19899639 0.65816123 0.09163933 0.35652638\n",
      " 0.88721834 0.06408571 0.59595319 0.51206523 0.00332114 0.23987094\n",
      " 0.20590482 0.33561088 0.4541559  0.13928057 0.33261711 0.39763095\n",
      " 0.4385898  0.22725018 0.70419723 0.60816182 0.48639038 0.60000267\n",
      " 0.9968404  0.9463052  0.21536318 0.7924778  0.49267806 0.99075969\n",
      " 0.29328096 0.89709583 0.72589271 0.58492669 0.62057707 0.20227891\n",
      " 0.62349052 0.37093477 0.35370193 0.51003904 0.26262988 0.4518643\n",
      " 0.07816982 0.99643301 0.16151915 0.98169369 0.36333751 0.69918568\n",
      " 0.64164159 0.73362902 0.88227965 0.84144899 0.65527214 0.51224907\n",
      " 0.38499416 0.27638624 0.09238439 0.93205026 0.7827216  0.33465387\n",
      " 0.84577865 0.3370866  0.14913064 0.90896575 0.02670014 0.32501837\n",
      " 0.63668201 0.80897229 0.5526709  0.90729244 0.55948016 0.60572094\n",
      " 0.60712377 0.60050074 0.79126445 0.03460633 0.42954341 0.11251266\n",
      " 0.88550023 0.58482347 0.05094732 0.90343953 0.23132346 0.6540101\n",
      " 0.87526158 0.15244727 0.26363756 0.27517853 0.12878439 0.39689167\n",
      " 0.23414214 0.69955577 0.53489423 0.88476047 0.12175832 0.20658936\n",
      " 0.79485828 0.13308612 0.5270294  0.02993014 0.36307284 0.5940994\n",
      " 0.32222039 0.47733558 0.73622344 0.79131942 0.06505224 0.6763328\n",
      " 0.77693198 0.19711597 0.18685796 0.84269508 0.25440895 0.77684584\n",
      " 0.63254635 0.27272075 0.26853158 0.68035643 0.83277276 0.78802911\n",
      " 0.83093031 0.89643013 0.60128248 0.92444884 0.93984427 0.06314455\n",
      " 0.13804227 0.45422142 0.86384135 0.69209245 0.8429699  0.53782497\n",
      " 0.35632748 0.42710576 0.94314941 0.03741296 0.77739392 0.44820115\n",
      " 0.13846466 0.7120098  0.81645935 0.71699807 0.32301513 0.45118832\n",
      " 0.4272898  0.07511403 0.76472172 0.3000296  0.34151352 0.34545499\n",
      " 0.72693865 0.80220367 0.70913502 0.30015548 0.75143931 0.00827445\n",
      " 0.60739595 0.78897504 0.29665314 0.24055047 0.20044419 0.06996755\n",
      " 0.54174499 0.92181223 0.83721661 0.21816955 0.88437088 0.21271589\n",
      " 0.64056205 0.2672448  0.54850096 0.46533883 0.09280307 0.18752281\n",
      " 0.4287706  0.94220799 0.26810637 0.54129224 0.59210677 0.83013717\n",
      " 0.69507358 0.42855811 0.58386968 0.62940311 0.79741223 0.61722501\n",
      " 0.70754789 0.52449072 0.86754039 0.281247   0.22644378 0.4391249\n",
      " 0.11998581 0.48718459 0.78856211 0.91359265 0.34972182 0.52823637\n",
      " 0.90123854 0.17624384 0.09017632 0.23378804 0.89659026 0.04480253\n",
      " 0.81989601 0.94855783 0.50346173 0.53156291 0.11343943 0.23057265\n",
      " 0.06909461 0.83791952 0.17532041 0.13052854 0.32824313 0.17622735\n",
      " 0.24049316 0.45316979 0.03831459 0.56654868 0.99276853 0.37628287\n",
      " 0.30647004 0.48150671 0.46914571 0.62833411 0.64900906 0.08954631\n",
      " 0.82590876 0.95051979 0.40711035 0.06796014 0.97007509 0.17193391\n",
      " 0.42966736 0.83882774 0.16895358 0.41980394 0.60722607 0.53957475\n",
      " 0.86106791 0.55547433 0.30756267 0.34678514 0.06434983 0.23856768\n"
     ]
    },
    {
     "name": "stdout",
     "output_type": "stream",
     "text": [
      " 0.97262662 0.99150924 0.96036521 0.03185146]\n"
     ]
    },
    {
     "data": {
      "image/png": "[encoded data removed]",
      "text/plain": [
       "<Figure size 432x288 with 1 Axes>"
      ]
     },
     "metadata": {
      "needs_background": "light"
     },
     "output_type": "display_data"
    }
   ],
   "source": [
    "# if one one number is given it returns an array of a single row containing that amount of elements\n",
    "%matplotlib inline\n",
    "rand = np.random.rand(1000)\n",
    "print(rand)\n",
    "plt.hist(rand)\n",
    "plt.title('Uniform Distribution of 1000 Numbers')\n",
    "plt.show()"
   ]
  },
  {
   "cell_type": "markdown",
   "metadata": {},
   "source": [
    "### random.randn"
   ]
  },
  {
   "cell_type": "code",
   "execution_count": 27,
   "metadata": {},
   "outputs": [
    {
     "data": {
      "text/plain": [
       "array([[-1.1302744 , -0.85141209,  0.38292185],\n",
       "       [-0.64299457, -0.84528986, -0.85125379],\n",
       "       [-0.49136789, -0.31967634,  0.65622258],\n",
       "       [-0.5660243 ,  0.35815139,  1.96155201]])"
      ]
     },
     "execution_count": 27,
     "metadata": {},
     "output_type": "execute_result"
    }
   ],
   "source": [
    "#This function returns a floating point number from the normal(Gaussian) distribution, returns a floating point number in from the range (0,1]\n",
    "np.random.randn(4,3)"
   ]
  },
  {
   "cell_type": "code",
   "execution_count": 28,
   "metadata": {},
   "outputs": [
    {
     "data": {
      "text/plain": [
       "-2.4631221534797865"
      ]
     },
     "execution_count": 28,
     "metadata": {},
     "output_type": "execute_result"
    }
   ],
   "source": [
    "#If no argument is given a single floating point number is returned\n",
    "np.random.randn()"
   ]
  },
  {
   "cell_type": "code",
   "execution_count": 29,
   "metadata": {},
   "outputs": [
    {
     "name": "stdout",
     "output_type": "stream",
     "text": [
      "[ 2.63455386e-01  4.97876601e-01 -4.53088247e-01 -1.35553024e+00\n",
      "  6.02171375e-01 -1.45603764e+00  8.64901777e-02  1.36349862e+00\n",
      "  8.71548068e-01 -4.42802117e-01  8.35421338e-01  2.39765237e-02\n",
      " -1.43233134e+00  1.10037672e-01 -8.59876669e-01 -3.16585461e-01\n",
      " -1.45635721e+00 -1.21482780e+00  1.36411425e-02 -8.49075232e-01\n",
      " -3.21947728e-01  6.40450336e-01  1.40903550e+00 -7.96588580e-01\n",
      "  1.97144428e-01  6.09987160e-02 -2.52406820e-01  1.25709574e+00\n",
      "  2.25301052e-01 -1.51084510e+00 -1.25363550e+00 -1.24149774e-01\n",
      " -9.28513060e-01 -1.01889570e+00 -1.73092869e-01 -1.25011534e+00\n",
      " -6.71327742e-01  1.07721187e+00  1.23107738e+00  1.63841519e-01\n",
      " -4.38753843e-01 -1.28428228e-01  5.01743808e-01  2.10589742e-01\n",
      "  1.09511731e+00 -3.75014229e-01  6.62313471e-01 -9.38210655e-01\n",
      "  3.08164939e-01 -7.07689573e-02 -7.59282560e-01 -1.51026047e+00\n",
      "  1.37153980e-01 -3.80518357e-01  1.73285000e+00  6.12249042e-01\n",
      "  1.26919545e-01  1.82992232e-01 -1.85146410e-01 -4.58093058e-01\n",
      "  1.95992515e-01  1.49311254e+00 -1.10445285e+00 -1.39072858e+00\n",
      " -9.07392439e-01  1.51348444e-01 -7.20783299e-01 -4.77636266e-01\n",
      "  1.05899617e+00 -1.20475965e+00 -1.13457508e+00  3.35797688e-01\n",
      " -7.31274733e-01  1.13761118e+00 -1.06883882e+00  4.84064870e-01\n",
      " -2.29874455e-01 -3.37396234e-01 -2.65066241e-01  5.27310391e-01\n",
      " -1.24231351e+00 -3.41039836e-01 -4.67283419e-02 -4.53335412e-01\n",
      "  6.34956174e-01  9.66720326e-01 -2.20362263e-01 -1.49681968e+00\n",
      " -4.93969319e-01 -1.38536928e-02 -3.26138152e-01  9.47663083e-02\n",
      "  4.12731364e-01 -8.37134642e-02 -8.02161887e-01 -9.08112348e-01\n",
      "  4.62514899e-01 -2.41847669e+00 -2.61260771e-01 -1.51177051e+00\n",
      "  6.92572753e-02  4.96134454e-01 -6.83949328e-01  8.03156631e-01\n",
      "  9.05512799e-01 -2.72387832e-01 -5.63314979e-01 -9.57520717e-01\n",
      " -3.59562596e-02  2.12702739e-01  1.47448591e+00  2.74860328e-01\n",
      " -7.79767907e-02 -8.39991778e-01  7.64533201e-01  3.04215306e-01\n",
      " -1.20620203e+00 -9.22738311e-02  4.35039590e-01 -7.15407796e-01\n",
      " -1.64955685e+00  2.61205594e-01  5.85812106e-01  3.39413363e-01\n",
      " -6.36940049e-01  1.25304912e+00  1.02605385e+00  3.48984638e-01\n",
      "  1.05607112e+00  1.12651072e-01 -1.92272618e+00  1.33109102e+00\n",
      " -1.81537627e+00 -1.97855467e+00  1.29032130e+00 -2.02490924e+00\n",
      " -4.04720273e-01 -1.60817709e+00  1.80960015e+00 -1.54081715e+00\n",
      " -6.65755430e-02  1.53671930e+00  3.15475286e-01  3.61195287e-01\n",
      "  8.42122168e-01  1.15185202e+00  1.18178793e+00 -6.55145660e-01\n",
      " -8.09445781e-01  1.53285772e+00  1.06469856e+00 -6.59519718e-01\n",
      " -4.88024428e-01 -2.39072921e+00  1.31305728e+00 -7.55575018e-01\n",
      "  3.23122866e-01 -5.82343397e-01  8.88778684e-01 -1.75374060e+00\n",
      " -1.49560392e-02  2.31496347e-01 -7.11947891e-01  2.14545393e+00\n",
      " -6.12074350e-01 -2.14307794e+00  1.18013079e+00 -6.82725155e-01\n",
      "  1.25587476e+00  2.76600638e-01 -1.38384621e-01 -1.46828233e+00\n",
      "  4.88005948e-01  5.11502468e-02 -9.92068908e-01  1.41347593e+00\n",
      "  8.48198415e-02  1.69902745e-01 -1.34300910e+00  7.93720212e-01\n",
      " -1.57185774e-01 -2.31868008e-01  2.28507526e+00 -1.73361038e-01\n",
      " -1.04925533e+00 -9.51269234e-01  3.80826701e-02  6.98323120e-01\n",
      "  1.37803848e+00 -6.87271830e-01 -3.35827582e-01  2.08307909e-02\n",
      "  1.61324683e+00 -1.20240320e-01  6.91023455e-02  1.19566751e+00\n",
      " -6.86413596e-01 -8.79006143e-01  1.89370844e+00 -1.58644644e-01\n",
      "  1.54293342e+00  2.15601842e-01  5.39675136e-01  4.12061448e-01\n",
      " -6.04561319e-01 -5.85166941e-01  1.04919519e+00  1.01580157e+00\n",
      "  1.28893977e+00  8.46541506e-01 -3.42179835e-01 -2.85085349e-01\n",
      "  3.75393114e-01  9.16897445e-01 -3.77024183e-01 -4.75483115e-01\n",
      " -5.55097511e-01  9.74933372e-01  9.57480344e-01  3.52470469e-01\n",
      " -9.29709420e-01  7.50485448e-01  1.96335970e-01 -5.48844843e-02\n",
      "  8.28855830e-01  1.87359734e+00  3.32181307e-02 -5.96863952e-01\n",
      " -7.25516476e-01 -1.23906054e+00 -4.59596705e-01 -1.55108044e+00\n",
      "  1.79998093e+00  4.61708755e-01  9.10209224e-01  4.55482934e-01\n",
      " -1.20094727e+00 -5.93273073e-01  1.18281032e+00  7.22161436e-01\n",
      " -8.29504876e-01  7.00481273e-01  1.32049642e+00  5.61128561e-01\n",
      " -1.19813195e+00 -6.75251489e-01  4.73228260e-01 -6.85714969e-01\n",
      " -7.61411286e-02 -6.99712112e-01 -4.08133414e-01 -1.98028006e+00\n",
      " -1.10199431e+00  3.30158065e-01  8.91340550e-01  1.91295995e+00\n",
      "  1.13942480e+00 -6.10381093e-01  2.57962828e+00 -1.83288595e-03\n",
      "  6.89444663e-01 -1.22295759e+00 -5.59526411e-01 -1.88502396e+00\n",
      " -3.11794865e-01 -1.21784466e+00 -1.09299479e+00  7.59814948e-02\n",
      " -9.03250929e-01 -7.20910520e-01 -2.60792017e-01  1.06013529e+00\n",
      "  3.38279808e-01 -4.31469742e-01  5.57831690e-01 -4.69458668e-01\n",
      " -2.05041130e+00 -1.08085122e-01 -1.54496741e-01  1.58715957e+00\n",
      " -2.14094483e-02  5.90028997e-01 -7.20394783e-02  2.56320810e-02\n",
      "  6.14687014e-01  2.19136799e-01 -3.82870901e-01 -1.24704840e+00\n",
      "  3.50696799e-01  1.88626482e+00 -2.07504355e+00 -1.45406948e+00\n",
      "  2.08828861e-01  3.94952735e-01 -4.10643437e-01  1.01838092e+00\n",
      " -7.41634403e-01  4.99472434e-01  1.65777950e+00  2.01099686e+00\n",
      "  8.15994407e-01  8.77276592e-01  6.69404740e-01 -2.00420214e+00\n",
      "  5.74183164e-01  1.20516683e+00 -1.23721724e-03 -7.95325302e-01\n",
      "  1.03434718e-01  4.31213322e-01 -2.07636311e-01 -4.42204456e-01\n",
      "  1.41926455e+00 -1.21656850e+00 -2.08840268e-01 -4.50319528e-02\n",
      "  1.58949872e+00 -1.94382020e-01  4.86836448e-01  5.94042262e-02\n",
      "  4.97647504e-02 -2.18353638e-02  2.56698777e-02  3.65779448e-01\n",
      "  5.16081282e-01  3.08173525e-01 -1.84187666e-01  1.67024550e+00\n",
      " -1.70429514e+00 -5.05070999e-01  2.79218252e-02 -8.06109171e-01\n",
      " -7.25549337e-01  7.74471761e-01 -1.40756168e-02  2.00171915e-01\n",
      " -3.16598818e-01  1.06998840e-01  4.87577993e-01 -9.80972656e-02\n",
      " -1.01694976e+00 -1.82460789e+00  1.38198540e+00  8.41169607e-01\n",
      "  3.46890651e-01  2.43381955e-01  4.28095517e-01 -1.27779168e+00\n",
      "  4.09886167e-01  1.24203359e+00 -7.56575909e-01  5.79177248e-01\n",
      "  1.04540831e+00  7.33999795e-01 -9.55743697e-01 -7.30713387e-01\n",
      " -1.66502648e+00  1.16909722e+00  3.61679375e-01 -2.01086793e+00\n",
      " -5.14878978e-01 -2.73584044e-01 -7.12047525e-02  6.90805276e-01\n",
      "  1.99468810e+00  9.62244993e-01  4.93795926e-01  8.75573957e-01\n",
      "  1.41982844e+00  1.09545514e-02 -9.50526758e-02  7.19190885e-01\n",
      "  5.71083260e-01 -2.22339175e-01 -3.88622016e-01 -1.68683525e+00\n",
      "  1.72480500e+00 -7.28575172e-01  6.91722180e-02 -8.60106964e-01\n",
      "  1.31949352e-01 -8.04439981e-01 -9.98339792e-01 -2.06643148e+00\n",
      " -8.89457486e-01  6.15232705e-01  9.62288259e-01  2.52638490e-01\n",
      " -4.71674956e-02 -1.10483993e+00 -1.00778067e-03 -3.49490516e-01\n",
      " -1.91241492e-01 -1.37057625e+00  1.08545732e+00 -2.12077467e+00\n",
      " -2.45412346e-02 -6.29188370e-01  9.19209983e-01  1.67946018e+00\n",
      " -3.35809947e-01 -2.38704872e-01 -9.63153813e-01 -2.62615417e-01\n",
      "  8.21560194e-01  8.85261029e-01 -2.18074365e-01  4.14168687e-01\n",
      "  1.37476547e+00 -1.91906971e-01 -8.79586672e-01 -8.87063421e-01\n",
      " -7.92578343e-01  7.00073144e-01 -1.66422068e+00 -4.35215507e-01\n",
      " -6.50961760e-01  5.72513948e-01 -5.41046107e-01 -1.43839417e+00\n",
      " -6.60230932e-01 -1.84300326e+00  7.24376083e-01  2.79984905e-02\n",
      "  8.65535741e-01  4.68591992e-01  3.88709779e-01 -1.98311995e+00\n",
      " -5.89535663e-01  3.11319890e-01 -8.63183314e-02 -3.96190513e-01\n",
      " -6.22815796e-02  4.03925441e-01 -5.62125883e-02 -2.00365198e-01\n",
      "  1.14676795e+00 -8.63915749e-01  1.60390929e+00  1.07861558e+00\n",
      "  1.49722366e+00  2.84036998e-01 -6.45789242e-01 -9.98610601e-01\n",
      "  8.37093108e-01  1.55350397e-01 -5.16569893e-01 -5.04312939e-01\n",
      " -1.33015056e+00  1.29201813e+00  8.38669234e-02 -6.41290192e-01\n",
      "  1.97214882e+00  4.53585911e-03 -1.06435637e+00 -1.30713827e-01\n",
      " -2.38467418e+00 -1.15380087e+00  1.54255256e+00 -8.71360727e-01\n",
      "  6.75208664e-01  3.77994410e-01  1.54316296e-01 -2.57754660e-02\n",
      "  1.63043657e+00  9.12142778e-02 -5.21841754e-02  1.02425931e+00\n",
      "  1.30155145e+00  7.30031585e-01 -3.15127798e-01 -3.34629648e-01\n",
      " -3.52497123e-01  3.24317321e-01 -1.08150306e-01  6.20571377e-01\n",
      "  1.39917667e+00 -4.56622526e-01  7.52582133e-01 -4.06935566e-01\n",
      " -7.50384211e-01  3.80163438e-01 -4.49357840e-02  7.54014846e-01\n",
      "  9.98949867e-01 -1.32020313e+00 -3.87421389e-01 -5.22097234e-01\n",
      "  5.24506598e-01 -2.11411170e+00 -1.39680859e+00 -1.13722555e-01\n",
      " -1.05660844e-01  3.73352084e-01  1.53498250e+00  2.54075273e-01\n",
      "  1.96095034e-01 -1.31714960e+00  7.53934234e-01 -1.09191880e+00\n",
      "  9.42526546e-01  1.97310171e+00 -1.23779581e+00 -1.64155147e+00\n",
      " -1.14650442e-01  4.96058207e-02 -1.24343150e+00  3.54814585e-02\n",
      " -1.76916499e-02 -2.62675904e-01 -1.28392805e+00 -2.11140512e-01\n",
      "  4.91463080e-02  1.41525998e+00 -1.39615593e-01 -6.01379204e-02\n",
      "  2.90290244e-01  3.98561899e-01 -2.73404519e-01 -6.49072666e-01\n",
      "  2.84464616e-02  1.49895293e+00  2.13112063e+00  9.19185926e-02\n",
      " -1.55273327e+00 -5.13266592e-01 -1.57508159e+00  1.76735312e-01\n",
      " -1.00555252e+00 -2.63981247e-01  4.53577518e-01 -1.01749691e-01\n",
      " -3.46927017e-01 -9.82204207e-02  6.86808577e-01 -3.23599268e-01\n",
      " -9.53282508e-01  3.28768363e-01  4.21818428e-01  1.61712116e+00\n",
      "  4.39166791e-01  7.53160453e-01 -2.88930353e-01 -8.17746400e-01\n",
      " -3.10346585e-01  7.34558604e-01  9.98770937e-01 -2.40808411e-01\n",
      " -2.96308053e-01  1.23352824e+00  6.80421960e-01  6.95874595e-01\n",
      " -1.22217795e+00 -2.45001312e-01  4.83214716e-02 -7.69939132e-02\n",
      "  1.75290328e+00 -8.45887747e-02 -1.12582888e+00  9.88089424e-01\n",
      " -1.19616917e-01 -5.14223626e-01 -6.85657601e-01 -5.57067424e-01\n",
      "  7.05149689e-01 -3.72524415e-01  2.97257854e-01 -1.46397573e+00\n",
      " -2.30328636e-01 -1.68008265e-01 -4.76319310e-01 -9.59756997e-01\n",
      " -7.09846491e-01  6.83402360e-01  3.17609476e-01 -1.50562763e+00\n",
      "  1.18150589e+00 -2.27960636e-01  2.79600206e-01 -3.27072284e-01\n",
      " -1.61124409e+00 -2.21322324e-01  1.04696586e+00 -5.77391576e-01\n",
      "  1.10802424e+00 -1.05444076e+00 -5.43827618e-01  9.51752297e-01\n",
      " -1.79432061e+00  3.40413119e-01  4.32816160e-01  3.96358213e-01\n",
      "  1.18592193e+00 -1.38580780e+00  2.28043979e-01  2.65755358e+00\n",
      "  5.54926637e-02 -8.60849076e-01 -1.85495058e-01 -1.23211088e+00\n",
      " -9.24261108e-02 -1.79853678e-02  5.37981763e-01 -7.77819074e-01\n",
      "  4.30369370e-01 -1.57369855e+00  1.94011554e-02  5.02464745e-01\n",
      "  2.20444476e+00 -1.07678231e+00 -1.80511465e-01  3.10306560e-01\n",
      " -5.71340958e-01 -1.08125311e+00 -1.36317481e+00 -5.56404297e-01\n",
      "  4.89457619e-01 -9.43959656e-01  9.50024351e-01  5.92575205e-01\n",
      "  1.22024485e+00  1.69152878e+00 -2.68837930e-02 -1.51843404e+00\n",
      " -2.29295362e-01  2.77306108e+00  1.85398934e+00  2.64113872e+00\n",
      "  1.43320896e-01  8.51150005e-01  9.14969081e-02 -1.41823535e+00\n",
      " -9.37208252e-01 -7.84083823e-02  1.61778712e+00 -1.85594657e-01\n",
      " -1.24961424e-01 -8.17177368e-02  8.57142481e-01  7.54907194e-01\n",
      "  8.20692042e-01  1.67567173e-02  7.18703066e-01 -1.42479854e+00\n",
      " -1.01450942e-02  2.04106935e+00  8.39837095e-01 -9.91633135e-02\n",
      " -2.06258438e+00  7.45116679e-01  8.77177447e-01  2.37963547e-02\n",
      "  7.48977970e-01 -1.64782556e+00  1.54406519e+00 -1.70324644e+00\n",
      " -1.51054648e+00  9.81127104e-01 -1.00305406e+00 -2.89698602e-01\n",
      " -1.30418671e+00  1.04604754e+00  1.38045496e+00  1.07386642e+00\n",
      "  8.97358738e-01  1.53923386e+00 -1.07129491e+00  3.03130072e-01\n",
      "  3.70593856e-01  2.68291306e-01  1.23584192e+00 -1.21888236e-01\n",
      " -1.20815058e+00 -7.99667911e-01  7.95872118e-02  3.03077656e-02\n",
      "  1.75288330e+00 -1.17279465e+00 -1.83071596e+00 -2.44701480e-01\n",
      "  2.76403250e-01  3.19751374e-01  5.08909871e-01  8.25362910e-01\n",
      " -1.38789829e+00 -1.05429489e+00 -1.25797220e+00  1.72510794e+00\n",
      "  6.56029155e-01 -7.17268067e-01 -1.24020540e+00  1.72370210e+00\n",
      " -1.20579421e+00 -1.09740172e+00  1.98136625e-01  7.33743224e-01\n",
      "  1.70168761e+00  2.27424992e+00 -6.58826401e-02  2.41672989e+00\n",
      "  5.62219437e-01 -1.12745000e+00  2.97261690e-01  3.30263440e-01\n",
      "  4.04445256e-01  2.93324382e-01  4.98464008e-01 -2.16754226e-01\n",
      "  1.90777088e+00  1.89370064e-02 -1.33002224e+00  2.24573897e-01\n",
      " -3.28601592e-01  1.11530614e+00  6.27088029e-01  2.07736580e-01\n",
      "  1.84339810e-01  1.71228561e+00 -1.36625007e-01  4.74803305e-02\n",
      " -1.33593634e+00 -9.72983471e-02 -8.95508983e-01 -2.33697395e-01\n",
      " -1.53642444e+00 -4.57006683e-01  5.75633929e-01 -1.28387824e+00\n",
      "  9.23529550e-01  3.26794305e-01  1.30488079e+00 -2.42909189e+00\n",
      " -7.28429452e-01 -4.49483693e-01 -1.68225690e+00  5.40783311e-02\n",
      " -1.15178438e+00 -3.16876660e-01 -3.02215398e-01  9.89891681e-01\n",
      " -1.62237540e+00  1.89986219e-01 -4.47914244e-01 -2.71538366e-01\n",
      "  1.15195784e-01  1.46274924e+00  1.06562666e+00  6.24989499e-01\n",
      "  1.45770621e-01  1.71246797e-01 -7.82742298e-01  8.73589169e-01\n",
      "  7.81884850e-01  9.39107355e-01 -4.48747940e-01  1.61161242e+00\n",
      " -1.65858199e+00 -2.04399464e+00 -1.07844365e+00 -1.80719417e+00\n",
      " -1.62399008e-01 -5.15395229e-01 -7.96668322e-02 -1.44439865e+00\n",
      "  7.50105462e-01  1.09091634e+00 -1.17479076e+00  3.46368675e-01\n",
      " -7.08378258e-02 -2.51513380e-01 -1.26735494e+00 -1.49208025e+00\n",
      "  7.71524105e-01 -7.38655561e-01 -1.32176327e+00 -1.79833111e+00\n",
      " -1.19176960e+00 -7.09991813e-01  7.29642025e-03 -1.42603306e+00\n",
      "  4.28365242e-01 -1.98722090e-01 -1.49715778e+00  8.15321218e-01\n",
      "  1.65898661e-01  1.48504689e+00 -3.23205481e+00  2.00061247e-01\n",
      " -1.07357099e+00  5.87663441e-01 -3.36459797e+00  5.19214207e-01\n",
      "  1.86809639e+00 -3.95879191e-01  1.64400376e+00  5.38282321e-01\n",
      "  1.46188405e+00 -7.17791334e-01  7.13972102e-01  1.04121588e+00\n",
      " -8.49657893e-01  3.65200928e-01  9.55660600e-01  1.34160028e+00\n",
      " -6.70829827e-01  9.91883589e-01 -4.21045097e-01  4.08463438e-01\n",
      " -1.83428569e-01 -1.25188415e+00  2.91475857e-02 -2.80161071e-01\n",
      "  1.23901305e+00  5.41841468e-01  1.25975131e+00  3.72443965e-01\n",
      " -6.09772109e-01  3.30313420e-01 -9.22537937e-01  4.23585722e-01\n",
      " -3.80233764e-01 -7.80883071e-01 -1.12362472e+00 -1.50476645e-01\n",
      " -5.35124136e-01 -9.29635213e-04 -2.11919059e+00  1.06820357e+00\n",
      " -5.48471851e-02  3.80232945e-02  8.37440623e-01 -5.50658234e-01\n",
      " -2.10596986e+00  1.49499518e+00  1.14303234e+00 -1.78063861e+00\n",
      "  9.20340345e-01 -1.07343088e+00 -2.31298707e-01  1.11145935e+00\n",
      "  4.84382081e-04  1.17580738e+00  7.60784556e-01 -2.76364732e-01\n",
      "  6.20919869e-01 -1.09092654e+00 -8.46668333e-01  2.29927673e-01\n",
      "  3.45255360e-01 -2.23857921e+00 -4.96213356e-01 -5.92795166e-01\n",
      "  3.90309642e-02 -1.40765928e+00  2.16686888e+00 -7.80310353e-03\n",
      "  1.53525173e+00  4.86650130e-01 -1.05547647e+00  1.08790618e+00\n",
      " -8.54760796e-01  2.00700221e+00  1.01589522e+00 -1.32407273e-01\n",
      " -1.42999880e+00  1.18240022e+00  1.30272408e-01  1.90551427e-01\n",
      "  6.61478047e-01  1.68207747e+00  6.30743684e-01 -8.14623447e-01\n",
      "  2.33814411e-02 -1.37349859e+00  7.03191088e-01 -5.98227750e-01\n",
      " -5.42229753e-01 -9.09503197e-01  2.92965895e-01 -1.19346228e+00\n",
      "  2.04564417e-01 -2.77458402e-01 -3.67646120e-01  9.00809274e-01\n",
      " -7.14329468e-01  1.27147147e+00  1.08780788e+00 -8.22152467e-01\n",
      "  4.52893781e-01 -1.61706694e+00 -2.49327844e-01 -1.04572896e+00\n",
      "  1.18091792e-01 -1.76634322e+00 -1.25615725e-01  5.37475172e-01\n",
      " -8.91924442e-01  5.68064167e-02  1.04489201e-01 -3.07738473e-01\n",
      " -3.96352945e-01  1.08978472e-03 -1.96232200e+00 -3.02308845e-01\n",
      "  1.75006965e+00 -4.48431860e-01  7.86636369e-01 -8.41669768e-01\n",
      " -3.82161995e-01 -2.20245643e-01 -2.92112098e-01 -9.98314901e-01\n",
      "  3.33638273e-01 -1.05102745e+00 -2.62401383e-01  2.96672133e-02\n",
      "  3.95812836e-01  9.20098946e-02 -2.47444957e-01  1.42151413e+00\n",
      " -2.73449879e-01 -1.79942463e+00  1.86175909e+00 -9.16538661e-03\n",
      " -1.29362928e+00  5.38497344e-01  8.90667428e-01 -1.30484731e+00\n",
      "  4.76236675e-01 -1.70626794e+00 -1.44276746e+00 -6.61666199e-01\n",
      " -3.16908374e-01  7.28415419e-02 -1.64219744e-01 -9.64930319e-01\n",
      "  4.02479349e-01  1.34614642e+00  5.04859398e-01 -9.22692286e-01\n",
      " -1.00987938e+00 -4.96436958e-01  9.85387458e-01  1.61673416e+00\n",
      "  1.36881394e+00  1.67001165e-01  1.15481290e+00  2.02578221e-01\n",
      " -7.40037152e-02 -1.46375719e+00  7.24166319e-02  7.90150475e-01\n",
      " -3.77940333e-01  1.24886464e+00 -9.08510843e-01  6.91549876e-01\n",
      " -5.13367285e-01 -2.28205902e-01 -1.27882547e+00 -8.05732188e-01\n",
      "  1.10499805e-02 -1.13224643e+00  6.69920542e-01 -1.77118737e-01\n",
      "  1.71701127e-01  2.46062358e-01  1.16851385e+00 -9.38480587e-01\n",
      "  1.89590055e+00 -1.02302984e+00  2.13356991e+00 -2.15661637e+00\n",
      "  1.14691671e+00  4.88543886e-01  9.54732600e-01 -4.06356738e-01\n",
      "  4.30186780e-01 -1.84232733e-01 -1.10998795e-01 -1.04266525e-01\n",
      " -2.46399651e-01  6.62158256e-01 -3.52032202e-01  2.18125099e-01\n",
      " -1.09311342e+00 -2.72999890e-02 -5.14020253e-01 -5.96088012e-01\n",
      "  2.21408020e-01 -9.33016250e-01  1.06491034e+00  3.06114645e-01\n",
      "  1.78462143e+00  1.08281683e+00  9.77779065e-01  1.09780820e+00\n",
      "  5.66607425e-01 -9.16940120e-01 -1.18609899e+00  1.67085811e+00]\n"
     ]
    },
    {
     "data": {
      "image/png": "[encoded data removed]",
      "text/plain": [
       "<Figure size 432x288 with 1 Axes>"
      ]
     },
     "metadata": {
      "needs_background": "light"
     },
     "output_type": "display_data"
    }
   ],
   "source": [
    "# if one one number is given it returns an array of a single row containing that amount of elements\n",
    "%matplotlib inline\n",
    "randn = np.random.randn(1000)\n",
    "print(randn)\n",
    "plt.hist(randn)\n",
    "plt.title('Gaussian Distribution of 1000 Numbers')\n",
    "plt.show()"
   ]
  },
  {
   "cell_type": "markdown",
   "metadata": {},
   "source": [
    "The numpy.random.randint code below was taken from [SciPy random.randint](https://docs.scipy.org/doc/numpy/reference/random/index.html?highlight=numpy%20random#module-numpy.random)"
   ]
  },
  {
   "cell_type": "code",
   "execution_count": 30,
   "metadata": {},
   "outputs": [
    {
     "name": "stdout",
     "output_type": "stream",
     "text": [
      "[2 5 5 0 1 4 0 1 3 2]\n",
      "10\n",
      "1\n",
      "int32\n"
     ]
    }
   ],
   "source": [
    "# numpy random.randint generates random integers of uniform distribution over [0,1), this size of the array is 10 items.\n",
    "\n",
    "a = np.random.randint(low = 0, high = 7, size = 10)\n",
    "\n",
    "print(a)\n",
    "print(a.size)\n",
    "print(a.ndim)\n",
    "print(a.dtype)"
   ]
  },
  {
   "cell_type": "markdown",
   "metadata": {},
   "source": [
    "### 2.2 Permutations"
   ]
  },
  {
   "cell_type": "markdown",
   "metadata": {},
   "source": [
    "## 3. Five Distribution Functions"
   ]
  },
  {
   "cell_type": "code",
   "execution_count": null,
   "metadata": {},
   "outputs": [],
   "source": []
  },
  {
   "cell_type": "markdown",
   "metadata": {},
   "source": [
    "## 4. Seeds in generating pseudorandom numbers"
   ]
  },
  {
   "cell_type": "code",
   "execution_count": null,
   "metadata": {},
   "outputs": [],
   "source": []
  },
  {
   "cell_type": "markdown",
   "metadata": {},
   "source": [
    "## References"
   ]
  },
  {
   "cell_type": "markdown",
   "metadata": {},
   "source": [
    " * Scipy Numpy Random Documentation https://docs.scipy.org/doc/numpy-1.16.1/reference/routines.random.html \n",
    " * Free Code Camp https://www.freecodecamp.org\n",
    " * Numpy Arrange function https://appdividend.com/2019/01/31/numpy-arange-tutorial-with-example-python-numpy-functions/\n",
    " * Arrays in Memory http://faculty.tamuc.edu/dcreider/csci515/Note515/Note%203.htm\n",
    " * Numpy Basics https://docs.scipy.org/doc/numpy-1.16.0/user/basics.html\n",
    " * Creating Arrays in Numpy https://docs.scipy.org/doc/numpy-1.13.0/user/basics.creation.html\n",
    " * Creating links using Markdown https://stackoverflow.com/questions/2822089/how-to-link-to-part-of-the-same-document-in-markdown\n",
    " * Jupyter https://jupyter.org/"
   ]
  },
  {
   "cell_type": "code",
   "execution_count": null,
   "metadata": {},
   "outputs": [],
   "source": []
  }
 ],
 "metadata": {
  "kernelspec": {
   "display_name": "Python 3",
   "language": "python",
   "name": "python3"
  },
  "language_info": {
   "codemirror_mode": {
    "name": "ipython",
    "version": 3
   },
   "file_extension": ".py",
   "mimetype": "text/x-python",
   "name": "python",
   "nbconvert_exporter": "python",
   "pygments_lexer": "ipython3",
   "version": "3.7.1"
  }
 },
 "nbformat": 4,
 "nbformat_minor": 2
}

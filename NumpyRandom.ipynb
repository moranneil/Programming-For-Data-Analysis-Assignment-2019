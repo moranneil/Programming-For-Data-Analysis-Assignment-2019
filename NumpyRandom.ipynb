{
 "cells": [
  {
   "cell_type": "markdown",
   "metadata": {},
   "source": [
    "# Numpy Random Package\n",
    "\n",
    "\n",
    "\n",
    "<img src='NJP-Symbols.jpg' />\n",
    "\n",
    "This is an investigation in to the Numpy random package. This investigation is divided in to four parts see links below. There is also a Reference section that provides a list of links used in this investigation.\n",
    "\n",
    "[1. Introduction to Numpy random](#1.-Introduction-to-Numpy-random)\n",
    "\n",
    "[2. Simple random data & Permutations](#2.-Simple-random-data-&-Permutations)\n",
    "\n",
    "[3. Five Distribution Functions](#3.-Five-Distribution-Functions)\n",
    "\n",
    "[4. Seeds in generating pseudorandom numbers](#4.-Seeds-in-generating-pseudorandom-numbers)\n",
    "\n",
    "[References](#References)\n"
   ]
  },
  {
   "cell_type": "markdown",
   "metadata": {},
   "source": [
    "## 1. Introduction to Numpy random"
   ]
  },
  {
   "cell_type": "markdown",
   "metadata": {},
   "source": [
    "- Numpy random is a sub package of the Numpy \n",
    "- Numpy random package is a way of generating random numbers or psuedo random numbers for computers\n",
    "- Generates arrays of numbers, arrays is a grouping of homogenous data types, the data element have to be of the same type.\n",
    "- Usually don't use Numpy directly its usually used with other packages such as pandas or SciPy"
   ]
  },
  {
   "cell_type": "code",
   "execution_count": 7,
   "metadata": {},
   "outputs": [],
   "source": [
    "# To start this investigation the Numpy package is imported as np & matplotlib.pyplot package is imported a plt\n",
    "\n",
    "import numpy as np\n",
    "import matplotlib.pyplot as plt\n"
   ]
  },
  {
   "cell_type": "markdown",
   "metadata": {},
   "source": [
    "* The next few functions will demonstrate how Numpy generates simple arrays and functions that will give information on these arrays."
   ]
  },
  {
   "cell_type": "code",
   "execution_count": 15,
   "metadata": {},
   "outputs": [
    {
     "data": {
      "text/plain": [
       "array([1, 2])"
      ]
     },
     "execution_count": 15,
     "metadata": {},
     "output_type": "execute_result"
    }
   ],
   "source": [
    "# Create an Array\n",
    "np.array([1,2])"
   ]
  },
  {
   "cell_type": "code",
   "execution_count": 26,
   "metadata": {},
   "outputs": [
    {
     "name": "stdout",
     "output_type": "stream",
     "text": [
      "[[1 2 3 4]\n",
      " [5 6 7 8]]\n"
     ]
    }
   ],
   "source": [
    "# Create an array assign it to x\n",
    "x = np.array([[1,2,3,4],[5,6,7,8]])\n",
    "print(x)"
   ]
  },
  {
   "cell_type": "code",
   "execution_count": 29,
   "metadata": {},
   "outputs": [
    {
     "data": {
      "text/plain": [
       "(2, 4)"
      ]
     },
     "execution_count": 29,
     "metadata": {},
     "output_type": "execute_result"
    }
   ],
   "source": [
    "#Prints out the shape of array x two rows with 4 columns\n",
    "np.shape(x)"
   ]
  },
  {
   "cell_type": "code",
   "execution_count": 30,
   "metadata": {},
   "outputs": [
    {
     "data": {
      "text/plain": [
       "array([0, 1, 2, 3, 4, 5, 6, 7, 8, 9])"
      ]
     },
     "execution_count": 30,
     "metadata": {},
     "output_type": "execute_result"
    }
   ],
   "source": [
    "np.arange(10)"
   ]
  },
  {
   "cell_type": "code",
   "execution_count": 36,
   "metadata": {},
   "outputs": [
    {
     "name": "stdout",
     "output_type": "stream",
     "text": [
      "[2.  2.5 3.  3.5 4.  4.5]\n"
     ]
    }
   ],
   "source": [
    "y = np.arange(2, 5, 0.5)\n",
    "print(y)"
   ]
  },
  {
   "cell_type": "code",
   "execution_count": 39,
   "metadata": {},
   "outputs": [
    {
     "ename": "AttributeError",
     "evalue": "'builtin_function_or_method' object has no attribute 'dtype'",
     "output_type": "error",
     "traceback": [
      "\u001b[1;31m---------------------------------------------------------------------------\u001b[0m",
      "\u001b[1;31mAttributeError\u001b[0m                            Traceback (most recent call last)",
      "\u001b[1;32m<ipython-input-39-c6cd828644bd>\u001b[0m in \u001b[0;36m<module>\u001b[1;34m\u001b[0m\n\u001b[1;32m----> 1\u001b[1;33m \u001b[0mnp\u001b[0m\u001b[1;33m.\u001b[0m\u001b[0marray\u001b[0m\u001b[1;33m.\u001b[0m\u001b[0mdtype\u001b[0m\u001b[1;33m(\u001b[0m\u001b[0my\u001b[0m\u001b[1;33m)\u001b[0m\u001b[1;33m\u001b[0m\u001b[1;33m\u001b[0m\u001b[0m\n\u001b[0m",
      "\u001b[1;31mAttributeError\u001b[0m: 'builtin_function_or_method' object has no attribute 'dtype'"
     ]
    }
   ],
   "source": [
    "np.array.dtype(y)"
   ]
  },
  {
   "cell_type": "code",
   "execution_count": 28,
   "metadata": {},
   "outputs": [],
   "source": [
    "#This is a random (float) number generator of uniform distribution over [0,1) in the example the array dimensions are 4 rows x 3 columns\n",
    "a = np.random.rand(4,3)\n"
   ]
  },
  {
   "cell_type": "markdown",
   "metadata": {},
   "source": [
    "## 2. Simple random data & Permutations\n",
    "\n",
    "In this section we will investigate a few simple random data and Permutation functions.\n",
    "\n",
    "### 2.1 Simple random data\n",
    "\n",
    "To illustrate simple random data in numpy the following functions are discussed\n",
    "\n",
    "- *numpy.random.rand*\n",
    "- *numpy.random.randn*"
   ]
  },
  {
   "cell_type": "markdown",
   "metadata": {},
   "source": [
    "#### random.rand\n",
    "This is part of the simple random data sampling, this function uses uniform distribution, the plots show the difference between it and random.randn which uses normal or Gaussian distribution"
   ]
  },
  {
   "cell_type": "code",
   "execution_count": 5,
   "metadata": {},
   "outputs": [
    {
     "data": {
      "text/plain": [
       "0.10026821405705655"
      ]
     },
     "execution_count": 5,
     "metadata": {},
     "output_type": "execute_result"
    }
   ],
   "source": [
    "#If no argument is given a single floating point number is returned\n",
    "np.random.rand()"
   ]
  },
  {
   "cell_type": "code",
   "execution_count": 26,
   "metadata": {},
   "outputs": [
    {
     "name": "stdout",
     "output_type": "stream",
     "text": [
      "[3.89441494e-01 2.71031596e-02 8.30615782e-01 1.92555499e-01\n",
      " 7.13831074e-01 8.30366201e-01 5.64696270e-01 3.65501393e-01\n",
      " 4.60895301e-01 9.27008066e-01 2.05700169e-01 7.71889636e-01\n",
      " 3.04438373e-01 5.14494040e-01 3.06003530e-01 6.85114925e-01\n",
      " 4.18507850e-01 6.58189601e-01 1.02718708e-01 1.03585622e-01\n",
      " 9.10489755e-01 7.56283169e-01 7.09473690e-01 4.43876493e-01\n",
      " 6.47233658e-01 9.07757244e-01 2.04088928e-01 4.12279763e-01\n",
      " 2.05258665e-01 8.67713575e-01 6.89492509e-01 8.42416768e-01\n",
      " 2.79585202e-01 6.88142313e-01 9.90084758e-01 8.41924246e-01\n",
      " 4.45384099e-01 1.54145783e-01 1.50034250e-01 6.03976433e-01\n",
      " 4.82576473e-01 5.19111524e-01 7.90039477e-01 5.14149586e-01\n",
      " 4.62849656e-01 5.66402859e-01 1.46677136e-01 1.56436369e-01\n",
      " 4.67609914e-01 2.56888995e-01 4.40270287e-01 4.72315383e-01\n",
      " 2.82783727e-01 9.94377907e-01 5.33263026e-01 4.74343530e-01\n",
      " 1.54983874e-01 7.62984301e-01 9.82256561e-01 6.69610222e-01\n",
      " 7.69470535e-01 4.61639285e-01 4.73021173e-02 2.68525873e-01\n",
      " 5.76676914e-01 1.89564578e-01 9.73812076e-01 2.71818464e-02\n",
      " 8.05111844e-01 4.57807776e-01 3.00181292e-01 8.71474371e-01\n",
      " 7.80277530e-01 7.38579357e-01 6.21143003e-01 3.75912209e-01\n",
      " 2.00571322e-01 3.50329519e-01 7.49396734e-01 5.22383098e-01\n",
      " 6.06558691e-01 6.05272266e-01 2.22103230e-01 3.02106929e-01\n",
      " 2.33510643e-01 8.78203750e-01 1.11659951e-01 1.14475708e-01\n",
      " 3.78752488e-01 2.84964348e-01 3.64826051e-01 1.43336039e-01\n",
      " 8.26120083e-01 9.15467648e-01 8.85917202e-01 1.15013159e-01\n",
      " 7.43328643e-01 2.52567174e-01 7.74011273e-01 7.82075509e-01\n",
      " 6.47886608e-01 2.19115136e-02 8.77686143e-01 2.65691454e-01\n",
      " 5.43005660e-01 4.49187285e-01 7.08698444e-01 4.31818015e-01\n",
      " 4.16655547e-01 9.77440362e-01 1.96056212e-01 6.28765435e-01\n",
      " 5.61158182e-01 3.05097110e-01 7.39390458e-01 2.71080052e-01\n",
      " 9.52112757e-01 7.73720880e-01 5.83695941e-01 8.01201026e-01\n",
      " 5.56531613e-02 9.88212196e-01 9.47421330e-01 1.03330758e-01\n",
      " 8.09535937e-01 5.42958848e-01 9.21579177e-01 8.33967054e-01\n",
      " 7.64223281e-01 7.03128392e-01 3.18994109e-01 2.45295759e-01\n",
      " 8.93414391e-01 5.81620542e-01 4.10301936e-01 3.48201040e-01\n",
      " 6.68798716e-01 2.04240612e-01 1.95442495e-01 8.28412836e-01\n",
      " 7.89489190e-01 2.69546204e-01 3.68267614e-01 4.35475328e-01\n",
      " 7.94379011e-02 5.78114421e-01 2.27446898e-01 5.30519482e-01\n",
      " 1.69804368e-01 8.65232732e-01 7.41933419e-01 7.96616380e-01\n",
      " 7.13508166e-01 9.64937720e-01 9.08076615e-01 9.36808846e-01\n",
      " 4.58307127e-01 2.21704676e-01 9.69548106e-01 2.51664546e-01\n",
      " 6.41252216e-01 4.83538709e-01 5.66823439e-01 3.56170275e-01\n",
      " 8.72919034e-01 5.06039244e-01 6.22648742e-01 8.39280496e-01\n",
      " 9.11053328e-01 3.28946490e-01 7.53165167e-01 6.38744398e-01\n",
      " 8.84240651e-01 4.05663899e-01 1.68345675e-01 1.08850310e-01\n",
      " 8.94576317e-01 6.23240006e-01 9.71034373e-01 8.63929467e-01\n",
      " 2.11081634e-02 6.96653962e-01 3.92063026e-01 1.39808248e-01\n",
      " 2.68444858e-01 6.00542448e-01 1.60422352e-01 9.75864617e-01\n",
      " 5.89128244e-01 3.98648302e-01 2.83331428e-01 3.97142925e-01\n",
      " 9.63809957e-01 6.00745126e-01 9.81313026e-01 1.50929241e-01\n",
      " 9.58208841e-01 7.04240367e-01 5.11466240e-01 6.83412262e-02\n",
      " 3.42679987e-03 5.13999992e-01 9.92201703e-01 5.45909459e-01\n",
      " 2.28115609e-01 9.32927667e-01 7.02514303e-01 4.39360822e-01\n",
      " 6.71057710e-01 1.49907967e-01 2.66424009e-01 1.48806767e-02\n",
      " 7.46473043e-01 1.21936564e-04 5.71392064e-01 3.12279479e-01\n",
      " 4.07490676e-01 6.56014248e-02 8.63607998e-01 5.63163221e-01\n",
      " 8.37925796e-01 7.58562967e-01 5.28164596e-01 3.81910736e-02\n",
      " 9.97915747e-01 4.38626598e-01 1.77060979e-01 7.27997436e-01\n",
      " 4.38476237e-01 7.75076835e-01 8.24790020e-01 1.69136027e-01\n",
      " 9.73391212e-01 2.29025395e-01 7.86858024e-01 6.52584086e-01\n",
      " 4.09393996e-01 9.94633870e-01 5.97082030e-01 2.96405439e-01\n",
      " 8.93861542e-01 1.17617872e-01 2.86759671e-01 3.73711977e-01\n",
      " 2.88509731e-01 2.05155481e-01 3.85460636e-01 1.55944181e-01\n",
      " 3.91200841e-01 3.82657852e-01 6.14475928e-01 1.20739677e-01\n",
      " 4.89647629e-01 9.17736304e-01 3.11567770e-01 2.18892108e-01\n",
      " 1.67712576e-01 9.35774280e-01 8.13177325e-02 9.19630360e-01\n",
      " 3.04912251e-02 6.35153143e-02 4.42129946e-01 3.70931385e-01\n",
      " 2.36378875e-01 6.77684856e-01 5.89020068e-01 3.27211027e-01\n",
      " 8.90810928e-01 5.54546894e-01 2.34745832e-01 6.05279688e-01\n",
      " 9.56632523e-01 7.59460943e-01 8.75512678e-01 6.80322487e-01\n",
      " 6.67559486e-01 2.90266537e-01 5.06000101e-01 5.55221236e-01\n",
      " 9.04345141e-01 2.39828785e-01 8.85111546e-01 1.61063497e-01\n",
      " 4.03405277e-01 7.76421086e-01 7.96562219e-01 7.25975279e-01\n",
      " 4.54215205e-01 7.92236307e-01 3.98695474e-01 1.22653852e-01\n",
      " 3.50102045e-01 6.45987679e-01 9.05667448e-01 8.96527089e-01\n",
      " 1.37356991e-01 6.77158765e-01 6.32579863e-01 3.20943530e-01\n",
      " 4.24992055e-01 1.03367897e-01 3.98085647e-02 3.43063392e-01\n",
      " 5.14348461e-01 9.64226769e-01 6.93807210e-01 5.98539403e-01\n",
      " 6.79385531e-01 4.23993448e-01 6.78005066e-01 2.00611651e-01\n",
      " 8.36018728e-01 4.55130657e-01 6.05874481e-01 6.69570337e-01\n",
      " 2.64949311e-01 4.21263963e-02 8.33003636e-01 8.57608767e-01\n",
      " 3.68423078e-01 6.52633527e-01 4.12909089e-01 5.06220450e-01\n",
      " 5.02235107e-01 6.56555585e-01 2.39938679e-01 6.38580971e-01\n",
      " 9.83980273e-01 3.92303668e-01 3.98193281e-01 3.14051595e-01\n",
      " 8.01414761e-01 5.80564553e-01 1.35836475e-01 2.42491502e-01\n",
      " 3.54008189e-01 4.37087621e-01 5.79237819e-03 3.90300703e-01\n",
      " 5.17841849e-01 6.18596181e-01 6.68371272e-01 2.93049015e-01\n",
      " 2.83694001e-01 7.63803389e-01 4.90447167e-01 9.06257279e-01\n",
      " 8.60608395e-01 4.42429049e-01 9.78866583e-01 5.29389482e-01\n",
      " 6.89090902e-01 8.21417317e-01 1.68876155e-01 3.69394918e-02\n",
      " 9.44212998e-01 2.56648622e-01 8.85135932e-01 6.08285909e-01\n",
      " 4.46595430e-01 6.87793155e-01 7.19087411e-01 5.67571030e-01\n",
      " 6.84818957e-01 8.66742976e-01 4.68921521e-01 6.68534561e-01\n",
      " 4.48621777e-01 6.81115468e-02 6.05533851e-01 1.44604621e-01\n",
      " 1.43366223e-01 9.96915072e-01 8.27209428e-01 8.96900126e-01\n",
      " 1.71007099e-01 5.20654516e-01 8.09244559e-01 1.84044358e-01\n",
      " 2.95057883e-01 1.54894456e-01 5.29740423e-01 4.39861339e-01\n",
      " 7.48654812e-01 8.25191901e-02 9.77796686e-01 3.16354824e-01\n",
      " 6.01832295e-01 6.95581815e-01 8.93099286e-01 7.54156229e-01\n",
      " 2.63424907e-01 4.66615504e-01 1.46606266e-01 9.93778279e-01\n",
      " 6.46484447e-01 2.17003726e-01 3.25512158e-01 7.20964803e-02\n",
      " 7.89257142e-01 7.53633681e-01 8.89761188e-02 7.27131135e-01\n",
      " 6.85998934e-02 8.41599412e-01 3.14980445e-01 9.04300461e-01\n",
      " 4.93719812e-01 2.62134200e-01 2.90136880e-01 7.16528255e-01\n",
      " 5.80458230e-01 6.18460259e-01 6.91008030e-01 3.86638594e-01\n",
      " 5.81373879e-01 4.05234055e-01 9.52654526e-01 1.60441665e-01\n",
      " 2.59163648e-01 9.57306085e-01 3.67570298e-01 3.67438407e-01\n",
      " 3.36368253e-01 2.40022835e-01 4.10612645e-01 5.07384421e-01\n",
      " 9.61488016e-01 4.70244541e-02 7.27162075e-01 1.46346537e-01\n",
      " 5.58681933e-01 8.96905760e-01 1.45531094e-01 2.10869177e-01\n",
      " 1.79497198e-01 8.66085222e-02 9.39534018e-01 5.11944369e-01\n",
      " 6.51206484e-01 1.06638780e-01 9.90255714e-01 7.18621271e-01\n",
      " 1.01491034e-01 5.15632692e-01 1.14626733e-01 6.11321261e-02\n",
      " 3.05147454e-02 6.84151698e-01 3.20270224e-01 8.47377002e-01\n",
      " 1.22348669e-01 2.80457592e-01 9.31871028e-01 2.87574511e-01\n",
      " 4.63116042e-01 4.31959194e-01 8.18690845e-01 5.79550031e-01\n",
      " 2.84209761e-01 2.48998867e-01 8.78543451e-01 3.18698307e-01\n",
      " 8.18213268e-01 6.82303794e-01 2.13958947e-01 3.99136299e-01\n",
      " 2.50184149e-01 7.65250566e-01 1.92112477e-01 8.30107071e-02\n",
      " 4.43396871e-02 4.84799012e-01 7.25333317e-01 5.88131291e-01\n",
      " 4.97968585e-02 5.79045763e-01 4.66176891e-01 8.36901487e-01\n",
      " 6.46230135e-01 3.15060480e-01 6.37194940e-01 5.54562223e-02\n",
      " 1.93337885e-01 9.98380003e-02 8.68343824e-01 1.28450305e-01\n",
      " 9.19528097e-01 6.80501154e-01 8.82483849e-01 7.59649866e-01\n",
      " 3.33482564e-01 4.73654680e-02 9.60285193e-01 5.36350616e-01\n",
      " 3.35114209e-01 2.57409021e-01 3.66731383e-01 3.58122447e-01\n",
      " 2.00711373e-01 8.99393438e-01 8.45644796e-01 4.79326048e-02\n",
      " 3.98467506e-01 1.65204263e-01 8.53695577e-01 1.17844936e-01\n",
      " 4.53168569e-01 1.59708200e-01 8.13733894e-01 6.79663740e-01\n",
      " 2.53846388e-01 3.41081073e-01 4.90244760e-01 1.88362600e-02\n",
      " 9.71066552e-01 9.51999386e-01 6.78390671e-01 1.02228652e-01\n",
      " 5.83908705e-01 5.26139216e-01 1.33768132e-01 5.33904952e-01\n",
      " 6.87841983e-01 2.08156885e-01 5.65890453e-01 6.89466084e-01\n",
      " 2.59481769e-01 2.46461397e-01 8.94907409e-01 5.84074795e-02\n",
      " 3.20129538e-01 3.12538763e-01 3.67369154e-01 8.81743322e-01\n",
      " 8.56847241e-01 5.45251333e-01 6.88535231e-01 2.60600121e-01\n",
      " 1.24124466e-01 1.56184832e-01 6.39302954e-01 8.85826004e-01\n",
      " 2.61336026e-01 3.14747810e-01 4.11894357e-01 7.21983164e-01\n",
      " 6.46334858e-03 7.10323562e-01 7.68066471e-01 3.02996287e-01\n",
      " 3.78830807e-01 4.08757186e-01 6.56376914e-01 5.69584865e-01\n",
      " 9.80901359e-01 6.52000041e-01 2.58196683e-01 3.16518362e-01\n",
      " 5.95675538e-01 9.20109810e-01 1.66025256e-01 5.55904570e-01\n",
      " 5.33927958e-01 1.96871870e-01 1.41249549e-01 9.27360790e-01\n",
      " 3.57703605e-01 7.99891896e-01 8.55109516e-01 8.08721495e-01\n",
      " 8.57177073e-01 8.30804876e-01 6.78227034e-01 4.20444650e-01\n",
      " 5.24533337e-01 4.00106325e-01 3.27026471e-01 6.33574778e-01\n",
      " 4.44433309e-02 7.69239431e-01 4.35392018e-02 9.08253391e-01\n",
      " 5.06050173e-01 3.72244195e-01 2.41875760e-01 2.27503655e-01\n",
      " 2.97506071e-03 7.19652182e-01 6.05025212e-01 1.32618684e-01\n",
      " 4.23608905e-02 9.94211641e-01 3.65124854e-01 8.06969159e-01\n",
      " 8.71552139e-01 2.57637470e-01 3.35348871e-01 6.56602395e-01\n",
      " 9.65318491e-01 5.98426542e-01 7.84696262e-01 3.99096797e-01\n",
      " 8.56571716e-01 3.01339743e-01 2.20079674e-01 6.76582695e-01\n",
      " 7.56112607e-02 9.45758573e-01 5.24637419e-01 2.00452248e-01\n",
      " 9.04998795e-02 5.30526652e-01 7.82093050e-01 8.38741647e-01\n",
      " 6.92470644e-01 2.83971765e-02 1.32736516e-01 6.91855345e-01\n",
      " 8.26517748e-01 9.09572034e-01 6.44853032e-01 7.60627855e-01\n",
      " 3.23479963e-01 8.48357523e-01 9.69074870e-01 3.83873400e-01\n",
      " 8.24825891e-01 9.87638859e-01 8.24502804e-01 4.70838343e-01\n",
      " 7.47356432e-01 1.78912762e-01 7.08227035e-01 1.82367242e-01\n",
      " 8.10610112e-01 6.30215502e-01 5.73594986e-01 6.68444545e-01\n",
      " 6.81539150e-02 4.83871346e-01 5.75614041e-01 4.24219933e-01\n",
      " 8.15816928e-01 7.89756016e-01 3.37818267e-01 3.80589031e-01\n",
      " 8.45962068e-01 5.21342343e-01 8.65472699e-01 7.24474143e-01\n",
      " 8.22502760e-01 8.39748359e-01 5.90408607e-01 1.97877381e-01\n",
      " 7.70530115e-01 1.39262192e-01 8.17364815e-01 8.80881916e-01\n",
      " 6.67446810e-01 8.87570537e-01 7.25734426e-01 8.03863296e-01\n",
      " 1.27943817e-01 5.79335060e-01 4.33955946e-01 8.52805388e-01\n",
      " 5.01276505e-01 1.13272932e-01 4.36785041e-01 4.85474195e-01\n",
      " 2.87940154e-01 6.42855278e-01 2.83939183e-01 4.37299256e-02\n",
      " 3.79071029e-01 6.22642258e-01 7.79385832e-01 6.00773502e-01\n",
      " 6.25549528e-01 7.18464491e-01 3.87630856e-01 2.35333995e-01\n",
      " 7.65387708e-01 5.74483439e-01 9.57506862e-01 8.75408412e-01\n",
      " 6.02203384e-01 1.31820636e-01 4.33733182e-01 9.89746231e-01\n",
      " 4.48832081e-01 8.75122952e-01 8.88345368e-01 2.97899591e-02\n",
      " 8.70811529e-01 4.59000667e-01 8.78874703e-01 6.21756420e-02\n",
      " 3.74840887e-01 9.87239340e-01 7.70057220e-01 4.38037640e-01\n",
      " 3.64790981e-01 4.38071877e-02 1.31671489e-01 2.31161428e-01\n",
      " 8.89015748e-01 1.45899026e-02 5.53692867e-01 7.77455214e-01\n",
      " 5.56783184e-01 1.05582340e-01 8.47394839e-01 2.19965788e-01\n",
      " 7.12353176e-01 2.88746659e-01 5.26668787e-01 1.84457836e-01\n",
      " 4.26378998e-01 7.12397477e-01 8.56488573e-01 6.03623130e-01\n",
      " 9.28593979e-01 7.23957351e-02 7.02594952e-01 1.95485562e-01\n",
      " 6.33317630e-01 6.21195492e-01 3.34972068e-01 9.54856012e-01\n",
      " 8.33543216e-01 9.89646284e-01 3.56890707e-01 3.55450053e-01\n",
      " 5.42181957e-01 6.14711629e-01 3.85314150e-01 1.17068239e-01\n",
      " 7.18102075e-01 4.45708743e-01 8.88175302e-01 5.42248839e-01\n",
      " 4.86946283e-02 1.79564964e-01 8.07281373e-01 1.10984385e-02\n",
      " 5.43171939e-01 9.53619256e-01 3.48368026e-01 9.10776249e-01\n",
      " 8.79809815e-01 3.05849674e-01 4.65722935e-01 4.08352380e-01\n",
      " 7.61923387e-01 4.54627124e-01 7.81594446e-01 6.09717934e-01\n",
      " 4.52481483e-01 5.99483179e-01 3.62533019e-01 2.31439544e-01\n",
      " 5.21737745e-02 3.23906700e-01 6.58470660e-01 5.86756350e-01\n",
      " 2.60108467e-01 5.65364765e-01 1.52085776e-01 6.13464543e-01\n",
      " 5.92134387e-01 3.55695867e-01 4.60518399e-01 9.12153328e-01\n",
      " 9.87206804e-01 6.33239268e-01 8.98215843e-01 4.55591493e-01\n",
      " 1.09247434e-01 3.19346440e-01 3.27018094e-01 1.70065052e-01\n",
      " 7.19798442e-01 4.35359778e-02 2.49049678e-02 1.17136213e-01\n",
      " 7.81897830e-01 5.52412178e-01 5.26687999e-01 4.79786734e-01\n",
      " 4.96841800e-01 8.75496429e-01 5.01043689e-01 9.30418355e-01\n",
      " 2.94314200e-01 7.03645560e-02 8.57078428e-01 2.73543896e-02\n",
      " 5.68951082e-01 3.81845034e-01 9.71840242e-02 9.97544828e-01\n",
      " 9.82049903e-01 7.92928909e-01 7.97472195e-02 9.53946941e-02\n",
      " 3.11856113e-01 7.60975674e-01 2.79299355e-01 5.18777524e-01\n",
      " 1.51055370e-01 9.64640050e-01 4.31678268e-01 8.16381152e-01\n",
      " 9.32093065e-01 2.23420347e-01 8.51829031e-01 8.66776822e-01\n",
      " 7.60927621e-01 4.20190784e-01 5.89007296e-01 6.62410641e-01\n",
      " 5.24769143e-01 7.75495781e-01 3.88776276e-01 2.21263034e-02\n",
      " 7.87314194e-01 6.53384159e-01 3.18248817e-01 6.28593609e-01\n",
      " 5.43444328e-01 1.82474637e-01 7.80275294e-01 4.72460274e-01\n",
      " 1.27879894e-01 4.28584045e-01 2.97033442e-01 4.51417241e-01\n",
      " 6.91350153e-01 4.16296500e-01 2.52248799e-01 5.36435270e-01\n",
      " 5.61838244e-01 5.15095692e-02 7.76360622e-01 3.69102808e-01\n",
      " 1.13943313e-01 5.00242872e-01 7.91451583e-01 9.33678470e-01\n",
      " 6.74543755e-01 5.20199248e-01 2.06822288e-01 8.45833024e-01\n",
      " 6.11826625e-01 5.88667824e-01 4.69087887e-01 2.96897584e-01\n",
      " 1.68346124e-01 8.35988321e-01 5.76113560e-01 6.54872419e-01\n",
      " 3.66893556e-01 4.77545377e-01 9.26526803e-01 7.26501777e-02\n",
      " 1.82284694e-01 4.85625778e-01 3.97415691e-01 6.16040858e-01\n",
      " 3.59903068e-02 8.44781953e-01 3.31725813e-01 4.29270281e-01\n",
      " 3.88792240e-01 3.44807603e-01 4.46686047e-01 5.91209551e-01\n",
      " 7.30881185e-01 1.63965586e-01 4.66659468e-01 8.62123575e-01\n",
      " 3.79490478e-01 6.64581962e-02 7.86436148e-01 6.66665314e-01\n",
      " 4.47789043e-01 2.91028665e-01 2.13349341e-01 7.62616930e-01\n",
      " 2.89196617e-02 4.45470192e-02 6.27476311e-01 7.42657710e-01\n",
      " 9.49880111e-01 7.82789932e-01 6.70666758e-01 8.48527147e-02\n",
      " 3.50727039e-01 6.65013719e-01 6.95880339e-01 5.77007037e-01\n",
      " 8.48486471e-01 1.73375222e-01 3.92130882e-01 8.41089790e-01\n",
      " 2.00898964e-01 6.65562585e-01 2.19287090e-01 6.94032903e-01\n",
      " 1.14906870e-01 5.14824943e-01 7.84394261e-01 3.76852593e-01\n",
      " 8.92292835e-01 8.57298125e-01 2.62337139e-01 1.84683181e-02\n",
      " 2.56673504e-02 3.14381519e-01 9.66804396e-01 1.82002800e-01\n",
      " 7.84136349e-01 6.85711530e-01 7.06319129e-01 1.59509428e-01\n",
      " 5.02808416e-01 5.69593756e-01 3.04107785e-01 3.47162407e-01\n",
      " 3.49171535e-01 7.00850452e-01 8.64148454e-01 8.83172066e-01\n",
      " 2.96291057e-01 1.07811709e-01 1.36178383e-01 7.52913284e-01\n",
      " 6.47837422e-01 6.78908611e-01 7.09762755e-01 6.18819015e-01\n",
      " 8.21031509e-01 8.90293373e-01 4.15986798e-01 2.18046997e-01\n",
      " 6.78141884e-01 5.71005713e-01 2.42072106e-01 8.69867198e-01\n",
      " 1.06029317e-02 3.57854568e-01 9.43039353e-01 3.63671389e-01\n",
      " 8.73047177e-01 3.19594610e-01 5.82039462e-01 7.21482276e-01\n",
      " 5.14992340e-01 7.34747735e-01 6.73565288e-01 3.13625198e-04\n",
      " 9.33897714e-01 8.27905104e-01 3.14586589e-01 9.25396607e-01\n",
      " 8.15317187e-01 1.77984654e-01 6.67146549e-01 7.60816355e-01\n",
      " 1.24582660e-01 2.04644723e-01 7.00571141e-01 5.08336240e-01\n",
      " 4.90227240e-01 8.97549391e-01 1.97692375e-01 1.84382346e-01\n",
      " 5.92113054e-01 8.86832305e-01 3.95812108e-01 6.24590489e-01\n",
      " 1.20734555e-01 8.24665954e-01 5.37973608e-01 2.14420449e-01\n",
      " 2.88847203e-01 1.80800924e-02 5.44947202e-01 3.77259710e-02\n",
      " 3.08929050e-01 1.40162048e-01 6.62866159e-01 4.87229437e-01\n",
      " 7.09599763e-01 9.70552388e-01 7.28755893e-02 9.04969378e-01]\n"
     ]
    },
    {
     "data": {
      "image/png": "[encoded data removed]",
      "text/plain": [
       "<Figure size 432x288 with 1 Axes>"
      ]
     },
     "metadata": {
      "needs_background": "light"
     },
     "output_type": "display_data"
    }
   ],
   "source": [
    "# if one one number is given it returns an array of a single row containing that amount of elements\n",
    "%matplotlib inline\n",
    "rand = np.random.rand(1000)\n",
    "print(rand)\n",
    "plt.hist(rand)\n",
    "plt.title('Uniform Distribution of 1000 Numbers')\n",
    "plt.show()"
   ]
  },
  {
   "cell_type": "markdown",
   "metadata": {},
   "source": [
    "### random.randn"
   ]
  },
  {
   "cell_type": "code",
   "execution_count": 22,
   "metadata": {},
   "outputs": [
    {
     "data": {
      "text/plain": [
       "array([[-0.76072154,  0.42999775,  0.82455282],\n",
       "       [ 0.08749659,  0.43303339, -0.81240205],\n",
       "       [-1.75441136, -1.11538762,  0.23051601],\n",
       "       [-1.2310107 , -2.36426416, -3.48492681]])"
      ]
     },
     "execution_count": 22,
     "metadata": {},
     "output_type": "execute_result"
    }
   ],
   "source": [
    "#This function returns a floating point number from the normal(Gaussian) distribution, returns a floating point number in from the range (0,1]\n",
    "np.random.randn(4,3)"
   ]
  },
  {
   "cell_type": "code",
   "execution_count": 9,
   "metadata": {},
   "outputs": [
    {
     "data": {
      "text/plain": [
       "-1.5059240298338668"
      ]
     },
     "execution_count": 9,
     "metadata": {},
     "output_type": "execute_result"
    }
   ],
   "source": [
    "#If no argument is given a single floating point number is returned\n",
    "np.random.randn()"
   ]
  },
  {
   "cell_type": "code",
   "execution_count": 27,
   "metadata": {},
   "outputs": [
    {
     "name": "stdout",
     "output_type": "stream",
     "text": [
      "[-5.26558590e-01  4.22455844e-01 -1.14971132e+00 -8.84205702e-01\n",
      "  1.41219124e+00  7.56767080e-01  3.31647803e-01 -5.77587039e-01\n",
      " -1.07793406e-01  3.89155171e-01  3.48470139e-01  9.40536283e-01\n",
      " -1.06610578e+00 -1.64150311e+00 -2.95835761e-01  1.16297642e+00\n",
      "  1.59906064e+00  1.60065941e+00 -7.77868963e-01 -3.08175832e-01\n",
      " -9.07782822e-01 -2.60928299e+00 -9.02832364e-01  2.83188905e-01\n",
      " -7.32600732e-01 -4.38680198e-01  6.12851124e-02 -7.16008249e-01\n",
      "  9.36983414e-01 -6.84398366e-01 -3.75903045e-02 -2.23442145e-01\n",
      "  1.75184535e+00 -1.62842101e+00 -1.34245621e+00  3.84453863e-01\n",
      "  1.34864473e+00 -3.32014917e-01 -1.31561996e+00 -1.77261218e+00\n",
      " -9.80498081e-01  2.00411058e-01 -1.21188325e+00 -1.10356060e+00\n",
      " -8.46977418e-01  2.88611142e-01  5.06430342e-01 -2.32368327e-01\n",
      " -1.11332316e+00 -1.71369839e-01  7.08617993e-01  1.07865078e-01\n",
      "  7.74405021e-01  1.37183302e+00  6.72735197e-02 -2.00950099e+00\n",
      "  1.22100232e+00 -5.99617617e-01  3.45772685e-01 -1.19098330e+00\n",
      " -1.32740906e+00  9.01723678e-01 -5.76151956e-01 -7.49933957e-01\n",
      "  2.29704536e+00 -1.72631503e-01 -3.57265077e-01  1.41328680e+00\n",
      " -3.65296083e-03 -8.07846580e-01  1.11142738e+00  1.81835827e+00\n",
      "  1.54970121e-01 -5.63875531e-02 -1.84381718e+00  1.11056445e+00\n",
      " -1.16753283e+00 -1.08310230e+00  1.51069184e-01  1.24336685e+00\n",
      " -2.34565133e-01 -9.30866149e-01  2.38013312e+00  5.68751242e-01\n",
      " -9.55431718e-03 -9.07860668e-01  1.08039913e+00  8.26075442e-01\n",
      "  3.03499967e-01 -1.05913416e-02 -9.77939939e-01  9.04332599e-01\n",
      "  5.09896246e-01  6.68529653e-03  3.40863399e-01 -4.19250010e-02\n",
      " -1.72922104e+00 -9.14253784e-01  1.56561586e+00  1.47008399e+00\n",
      " -1.27747266e+00  3.20253843e-02  1.79645715e-01  7.90337173e-01\n",
      " -1.23613700e+00 -1.43445137e-01  6.42809234e-01  1.21049095e+00\n",
      "  1.31671551e-01 -1.36934401e-01  1.74320404e-01  1.04249026e+00\n",
      "  5.58731692e-01  5.15978675e-01  1.31306590e+00 -8.20463823e-01\n",
      "  3.88002663e-01  2.18843465e+00 -1.22914411e-01  2.65525609e-01\n",
      " -1.12147542e+00 -3.49428670e-01  5.57006303e-01 -7.94538373e-01\n",
      "  3.99219223e-01  9.40949160e-01 -6.34104456e-01  1.09667535e+00\n",
      " -3.54127192e-01  6.62930647e-03  2.00922383e+00  2.06305749e+00\n",
      " -1.71843020e+00 -5.96339272e-01 -1.20431474e+00 -1.09384996e-01\n",
      "  2.32512074e-01 -6.80169343e-01 -1.16898504e+00 -2.02852016e+00\n",
      " -3.96487866e-02  1.73602067e-01  1.26071864e+00 -5.23250730e-01\n",
      " -1.62051810e+00 -7.57256642e-01 -4.33868020e-01  3.93803759e-01\n",
      " -9.18183713e-01  1.35437538e+00  1.03286561e+00 -1.37847702e-01\n",
      "  6.03023242e-01 -2.11648700e+00 -1.18126852e+00  3.15596309e-01\n",
      "  2.95124279e-01  8.58882542e-01  9.09787371e-01  7.56148509e-01\n",
      " -2.01047752e-01 -1.22265058e+00 -4.42281677e-01 -2.90210543e+00\n",
      "  9.53611203e-01 -5.71012048e-01 -8.08493009e-01  8.43641676e-01\n",
      " -4.04841438e-02  1.50811649e+00 -9.29656745e-01 -3.47896239e-01\n",
      "  1.34675822e-01 -3.43087262e-01 -2.21693411e+00 -7.62974087e-01\n",
      "  1.07898447e+00 -1.48543938e+00 -1.23916425e+00  8.26625657e-01\n",
      "  7.09442060e-01 -5.42147320e-02 -4.34747937e-01  2.16320089e-01\n",
      "  1.74512038e+00  5.21018489e-01  5.26102982e-01 -1.70778620e+00\n",
      " -2.17677463e+00 -1.53096830e+00 -1.92443115e+00 -4.11979502e-01\n",
      "  6.17505619e-01 -1.20827191e+00  1.54557105e+00 -9.78476724e-01\n",
      "  3.82750244e-01  8.27208394e-01 -2.49671116e-02  1.21949756e-01\n",
      " -3.06367774e-01 -1.53697986e+00  1.47310900e+00  5.07694295e-01\n",
      "  1.70701363e+00  5.64291306e-02  1.07338990e-01  7.62252589e-02\n",
      "  7.83764150e-01  5.93318484e-01  8.28446089e-01 -1.02603156e+00\n",
      "  4.89611385e-01 -3.65711789e-02  1.12979581e+00  3.58316160e-01\n",
      "  8.81556695e-01 -6.56181478e-01 -3.43703277e-01  1.32630129e+00\n",
      "  1.55845831e-01  3.58858262e-01 -1.62385086e+00  2.24811546e+00\n",
      "  1.05903630e+00 -6.45879703e-01  3.74584140e-01 -9.63294846e-02\n",
      " -3.20961852e-01  2.37321715e-01 -7.20724179e-01  2.04778506e-01\n",
      "  1.58542806e-01  2.06067724e+00  5.92514650e-01  8.05018843e-01\n",
      " -4.26366514e-01 -2.77895220e-01  1.02760661e+00  1.50771620e+00\n",
      "  3.87047375e-01  2.18723766e+00  4.57598145e-01  3.83447796e-01\n",
      "  2.56513104e-01 -9.39718386e-01 -2.48361488e+00  3.31451090e-02\n",
      " -3.70534518e-01  5.77033394e-01 -1.95330940e+00  4.75803554e-01\n",
      "  7.14559761e-01  5.91506321e-01 -7.34937370e-01 -3.32163822e-01\n",
      " -2.57959815e-02  9.98424298e-01 -9.08566409e-01  9.16858483e-02\n",
      "  1.72591322e+00 -1.04190081e-01  4.55560418e-01  1.03046325e+00\n",
      "  9.12955474e-01 -1.81237142e-01  3.13439895e-01 -3.14685804e-01\n",
      "  2.64666198e+00  6.35320421e-01 -1.40707650e-01 -6.77829476e-01\n",
      " -2.22308726e+00  6.30630184e-01 -1.43511704e+00  8.99057001e-01\n",
      "  3.85382599e-01  1.10219973e-01 -1.23963430e+00  3.12357781e-02\n",
      "  3.19107300e-01 -6.14608322e-02 -8.93007526e-01 -2.22047817e-02\n",
      " -1.09084012e+00  1.54271079e+00  1.71958623e+00  1.02883285e-01\n",
      " -9.39517986e-01  7.10306967e-01 -1.83194860e+00  8.81766737e-01\n",
      " -2.56355193e+00 -5.32465114e-01 -4.05210907e-01 -2.78781749e-01\n",
      " -9.48083763e-01 -5.92641877e-01  1.62035195e-01  9.78916388e-01\n",
      "  1.35254901e+00 -1.01580606e+00  1.58174729e+00 -2.27844843e-01\n",
      " -2.34805842e+00 -4.75730364e-02 -1.29558433e+00  8.58043211e-01\n",
      " -9.77621639e-01 -7.14120603e-01 -7.54127120e-01 -1.30370586e+00\n",
      " -8.50894738e-01  8.94624797e-01  1.78024678e+00 -1.11524106e+00\n",
      " -8.95446085e-01 -1.64003010e+00 -8.28404346e-01 -8.50029576e-01\n",
      " -9.47597684e-01 -2.68714625e-01 -7.09983209e-01  7.95515554e-01\n",
      " -6.69324582e-01 -4.05392761e-01  1.85329467e-01 -2.52919423e-01\n",
      "  1.49157844e+00 -8.25343437e-01  6.40796496e-01 -4.44458864e-01\n",
      "  2.82030266e+00  8.41515375e-01 -1.02807361e-01 -1.23627733e+00\n",
      " -1.02354055e+00 -7.80660940e-01  1.29860283e-03  3.42365758e-01\n",
      " -3.67265570e-01  1.55686931e+00  6.80709039e-01 -9.87661945e-01\n",
      " -1.50542572e+00  1.17005379e-01 -8.09544523e-01 -8.18974555e-01\n",
      " -1.27817246e+00  3.15713538e-01 -1.05952747e+00  5.68448706e-01\n",
      "  2.16875505e+00  7.76463271e-02 -1.39657301e-01 -9.04611754e-01\n",
      " -2.08802326e-01 -4.55496684e-01  4.05535253e-01 -4.14703533e-01\n",
      "  8.67479418e-01  1.17866418e-01  1.08115402e-01  1.41671220e-01\n",
      "  1.50315533e+00  2.37800298e-01  1.15496786e+00  2.42909206e-01\n",
      "  4.31293006e-01  7.92448624e-02 -1.89621585e+00 -1.24546484e+00\n",
      "  6.67881070e-02 -1.15474999e+00 -2.16696419e-01 -3.27715570e-01\n",
      "  7.50544111e-01 -1.60693642e+00  2.27749658e+00  2.05845116e+00\n",
      "  2.35306386e-01 -1.77970618e-02 -2.03813586e+00  9.19548118e-01\n",
      "  6.22084978e-01  1.11685474e+00 -2.69004977e-01 -6.08552248e-01\n",
      "  3.38656707e-01  3.61662829e-01 -5.29187064e-02  1.05180254e-01\n",
      " -6.93601310e-02 -3.56925047e-01  1.25996098e+00 -8.39183999e-01\n",
      "  3.30806580e-02 -5.32140656e-01 -5.19619482e-01 -1.10768001e+00\n",
      "  5.99298784e-02 -5.12719248e-01  6.40032852e-01  2.17168550e+00\n",
      " -9.90888118e-01  1.27222609e+00  1.10686176e-01  4.89438352e-01\n",
      "  4.80888185e-01  6.73185494e-01  3.29947369e-01  3.37698900e-01\n",
      "  1.10818971e+00 -1.19001458e+00  6.55411790e-01 -6.91642709e-01\n",
      " -2.92264847e+00 -1.13496833e+00 -2.32539476e-01  1.04168603e+00\n",
      "  1.11178376e+00  4.93139995e-01  2.03517213e-01 -3.76789798e-01\n",
      "  7.25760547e-01 -9.97027013e-01 -5.73950688e-01 -5.27062438e-01\n",
      "  9.62851152e-01 -4.89324250e-01  1.27619871e+00 -1.59219339e+00\n",
      " -1.27387840e+00 -1.21225551e-01 -8.21992295e-01 -1.71790779e+00\n",
      " -3.88807420e-01 -5.12553448e-02 -8.63740917e-01  9.40595839e-01\n",
      " -6.25381772e-01  2.99516075e-01 -9.86130549e-01 -2.07730755e-01\n",
      " -1.77479829e-01 -1.99930193e-01  5.71036479e-01 -8.09052618e-01\n",
      " -4.76792076e-01 -1.83968364e-01 -3.84248723e-01  3.03171562e-01\n",
      "  2.60141728e-01 -5.29950004e-01  8.01868606e-01  1.47185955e+00\n",
      " -5.99233523e-01 -1.39088680e+00  3.10523053e-01 -4.19203685e-01\n",
      "  8.72453753e-01  7.29108908e-02 -2.44513575e+00  1.40913095e+00\n",
      " -1.93526517e+00 -2.13364472e-01  1.63272309e+00  6.68522882e-02\n",
      " -1.09571419e+00 -1.65553778e-01 -4.34102143e-01  1.04238290e+00\n",
      "  1.04356276e+00 -1.20261995e+00 -2.36278624e-01 -1.91249012e-01\n",
      " -7.77805717e-01  2.85999185e-01  1.00921684e+00 -9.40090969e-01\n",
      " -1.53398263e+00 -6.39231209e-03 -6.47793337e-01 -1.47102377e+00\n",
      "  3.09450913e-01  6.04340957e-01  1.52922188e+00 -9.30285195e-01\n",
      "  2.20161624e-02  6.31669864e-01  3.39593860e-01  1.13935024e+00\n",
      " -8.17251634e-01 -8.85204030e-01 -4.85662659e-01 -1.81387415e+00\n",
      "  1.11619434e+00 -8.22958907e-01  2.41887799e-01  1.20404561e-01\n",
      " -1.46654228e+00  1.31042093e+00  9.05534347e-01 -1.32247446e-01\n",
      "  9.64694525e-02 -1.44379965e-01 -8.26076283e-01 -7.18753534e-01\n",
      "  1.31512183e+00  3.98102874e-01 -3.10577599e-01 -5.62311151e-01\n",
      " -1.20912959e+00 -2.03642021e+00  2.55433372e-01 -1.85476389e+00\n",
      "  9.34347798e-01  7.89008144e-01 -3.20813830e-01 -7.03150991e-01\n",
      " -1.21098555e+00  1.07834811e+00  1.05158905e+00 -2.08002191e-01\n",
      "  9.92884467e-01  5.20890024e-01  1.23926067e-01 -1.74748330e-01\n",
      " -7.06786416e-01 -2.75708089e-01 -8.92447582e-01  1.34213913e+00\n",
      " -2.84935333e-01 -2.49801237e+00  4.41386968e-01 -4.06450426e-01\n",
      "  5.00630860e-01 -2.31652429e-01  7.28758025e-01 -5.51660423e-01\n",
      "  2.39241015e+00  4.81347070e-01  5.47384810e-01  1.94619162e+00\n",
      "  1.01949612e+00 -5.97675900e-01  1.13256304e+00 -2.56706773e-01\n",
      "  1.48295425e-01  1.28230929e+00 -5.35932927e-01 -9.08324350e-01\n",
      "  1.30368656e+00 -6.31307337e-01  2.72615352e-02  2.37140137e-01\n",
      " -9.89948907e-01 -1.05451146e+00  1.77749860e+00 -1.23944859e+00\n",
      "  4.73195485e-01 -7.25030820e-01  6.46304038e-02 -2.81398144e-01\n",
      " -3.59410582e-01  4.13566313e-02 -7.24694513e-01 -1.53119729e-01\n",
      "  1.38071024e+00  1.46292303e+00 -1.35848785e+00  1.17781432e+00\n",
      "  5.40302468e-01  1.23844244e-01  7.79384654e-02 -5.01913969e-01\n",
      " -5.05792273e-01  1.01394875e-01 -3.96232765e-01  1.73850583e+00\n",
      "  3.04018132e-01 -1.33758581e+00  8.18792160e-01  1.00948557e+00\n",
      "  4.58188066e-01  3.71287766e-02  4.49995812e-01  1.20863877e+00\n",
      " -5.54992547e-01 -9.65875156e-01  3.01500905e-01  5.09801220e-01\n",
      "  5.68322105e-01 -3.69333523e-02 -1.62378152e-01 -1.64551916e-01\n",
      "  3.09331492e-01 -4.85879460e-01 -1.10688693e-01  8.26510928e-01\n",
      "  1.47703279e-01  6.60076373e-01  2.13757037e+00 -5.01981511e-01\n",
      "  1.10823505e+00  4.55277667e-01  1.48483396e+00  3.84434159e-01\n",
      "  4.15486849e-01  5.63385446e-01 -2.59322682e-01 -7.52026721e-01\n",
      " -1.68368351e+00 -5.53495140e-01 -8.74664321e-01  1.12218129e+00\n",
      " -3.12915249e-01 -8.19236514e-01  5.41111518e-01 -5.32017795e-01\n",
      " -6.31800075e-01 -1.19793142e-01  4.64892848e-01 -5.90009079e-01\n",
      " -1.69511899e+00  5.25973674e-01 -4.63650766e-01 -1.28308625e+00\n",
      "  1.09522674e+00  1.76925844e+00  9.81252541e-01  6.83480628e-01\n",
      " -1.32723797e+00  3.66576254e-01  6.53981935e-01  4.72623443e-01\n",
      " -6.03195994e-01 -9.50750763e-01 -6.27158345e-01 -3.36985579e-01\n",
      "  1.05237237e+00 -1.17877056e+00  8.20635693e-01  5.60354762e-01\n",
      "  1.28613680e+00 -9.88665293e-02  6.47809573e-01 -1.15555060e+00\n",
      " -1.21776865e-01  1.66889166e-01 -6.26546393e-01  1.08635637e+00\n",
      "  1.53424411e-01 -1.77442088e+00  1.22896521e-01  6.85361288e-01\n",
      "  5.57883510e-01 -1.06297393e+00  1.94230154e-01  4.76717191e-02\n",
      " -4.98953505e-01  1.14595856e+00 -9.12087935e-02 -1.49539643e-02\n",
      " -9.46670474e-01  6.56834528e-01  1.39708758e+00 -1.67023454e+00\n",
      " -1.22554555e+00  2.50440859e-02 -3.18322294e-02 -3.66375922e-01\n",
      "  2.88825711e+00  1.30889392e+00 -2.99712064e-01  9.42519308e-01\n",
      " -1.35292003e+00  6.57631721e-03 -5.55031619e-01  4.91143471e-01\n",
      " -2.33403350e+00  6.95770742e-01 -1.87290439e-01  1.44567744e+00\n",
      " -3.95212999e-01  1.13343168e+00 -2.78266185e-01 -6.09030555e-01\n",
      "  1.31769779e+00 -4.76354423e-02  5.84652873e-01  5.77987196e-01\n",
      "  1.33013816e+00 -3.66262895e-02 -6.03795149e-01 -1.16632576e-01\n",
      " -3.21169739e-01 -9.59313746e-02 -1.80187563e+00 -1.86279210e+00\n",
      "  9.53886197e-01 -1.99654389e+00 -9.19666762e-01  1.43526147e+00\n",
      " -5.42347706e-01  8.34753344e-01 -3.98293492e-01 -1.93256804e+00\n",
      "  9.13817662e-01  1.62792271e+00 -7.50071626e-01  8.81093973e-01\n",
      "  4.29919355e-02 -2.18758753e+00 -9.06606013e-01 -4.46333564e-01\n",
      "  8.56794765e-01 -8.04603841e-02 -3.91797893e-02 -1.02405201e-01\n",
      " -6.59404785e-01  2.32044102e-01 -3.79403014e-01 -5.63252014e-02\n",
      "  8.65925676e-02  5.42730949e-01  3.51401998e-01 -1.91748659e+00\n",
      " -6.65743386e-01 -7.51493022e-01  1.40902670e-01  1.29679718e+00\n",
      " -9.45563689e-01 -1.88920577e-01 -5.06329187e-01  1.27739497e+00\n",
      " -8.51790187e-01  1.46037772e+00 -1.54376653e-01  6.30283141e-01\n",
      " -1.09507781e+00 -1.60535697e+00 -7.53881802e-01 -2.26209558e+00\n",
      " -1.26175825e+00 -2.74223000e+00 -7.44614175e-02  1.03926728e+00\n",
      "  9.34177985e-01 -1.25311996e+00 -1.16726511e+00 -9.75838294e-02\n",
      " -5.36450728e-01  7.32763076e-01 -4.37551812e-01 -1.67285177e+00\n",
      "  3.47026897e-01  1.68780902e+00  9.65644991e-01  3.77631747e-01\n",
      " -2.08840899e-01 -3.19881424e-01 -1.13724683e+00  1.81980291e+00\n",
      " -7.19591509e-01 -9.70218547e-01  2.00716596e+00 -1.89795388e+00\n",
      " -2.04985717e-01  3.92157950e-02 -7.82027548e-01 -2.73177345e+00\n",
      "  1.36964103e+00  1.80567204e-01 -2.11583375e+00 -8.31551394e-01\n",
      "  6.73874169e-02  1.09538492e+00 -1.17298743e+00 -1.43895217e+00\n",
      "  5.02553224e-01 -6.83445785e-01  2.23647145e+00 -1.10699641e+00\n",
      " -3.86408855e-01  5.65320235e-01  5.35497205e-01 -2.60850721e-01\n",
      "  2.45096925e-01  5.49991981e-01  1.65274439e+00 -8.36404177e-01\n",
      " -1.52824112e+00 -7.37068394e-01 -3.99995602e-01  1.00102418e+00\n",
      " -1.14434674e+00  1.22836207e+00  8.19867492e-01  6.07732183e-01\n",
      " -5.13338280e-01  8.06927160e-01 -8.09920686e-01  1.70493323e+00\n",
      " -5.20223739e-01 -1.25272701e+00  1.67816260e+00 -1.18967099e+00\n",
      " -1.65661744e-01  4.97051503e-01 -5.19636148e-01 -7.98814412e-01\n",
      " -4.72491333e-02 -6.17157095e-01 -9.80687048e-01 -6.33552461e-01\n",
      " -1.79906683e-01  1.19407531e+00  1.92508992e+00  1.01742637e+00\n",
      "  8.76498418e-01  2.40809774e-02  8.11770584e-01  2.54425871e-01\n",
      " -5.92768212e-01 -6.36842955e-01  6.33815778e-01  7.37800897e-01\n",
      " -1.88675073e-01  9.03762347e-01  5.46830032e-01  1.37824444e+00\n",
      "  7.40053687e-02 -1.17577479e+00 -1.19859056e+00  2.67875441e-01\n",
      " -4.06625867e-01 -2.07313248e-01  7.13734490e-01 -3.93183892e-01\n",
      " -1.85458612e-01 -1.56919601e+00 -4.66359212e-01  7.96740071e-02\n",
      "  1.00793824e+00 -1.41185749e+00  1.99462058e+00  5.64467003e-01\n",
      " -1.16966178e+00  6.99971474e-02 -7.79255177e-02  7.15113162e-01\n",
      " -4.35322677e-01 -1.70191027e-01  1.02266950e+00 -8.60941772e-01\n",
      " -1.18203570e+00 -9.57734292e-02 -6.28903441e-01  1.41363430e+00\n",
      " -9.23486837e-02  1.12152903e+00 -7.47735584e-01  8.99741013e-01\n",
      " -1.79150595e-01 -5.72165079e-01 -7.24293028e-01  1.01099999e-01\n",
      "  9.06663582e-01  3.19070163e-01 -9.50185471e-01 -4.49371565e-01\n",
      " -3.96077107e-01 -3.66953396e-02  1.79920171e+00  1.37774348e+00\n",
      "  3.38277232e-01 -8.78320088e-01  1.23633396e-01  8.50492207e-01\n",
      " -7.42827899e-01  2.16457562e-01  2.42709391e+00 -1.40407446e+00\n",
      " -1.57647292e+00  1.59720096e+00  7.53653388e-01 -1.22723094e+00\n",
      "  1.49036466e+00 -2.30461642e+00  9.49707971e-01 -3.19597951e-01\n",
      "  7.89371731e-01  3.24359999e-01  3.32178205e-01 -1.07079055e+00\n",
      " -1.41434396e+00  5.46610240e-01  3.84788378e-01 -4.57545707e-01\n",
      "  9.17871692e-01  8.86279399e-01  5.72733140e-01 -9.02210528e-01\n",
      "  2.19903476e-02  1.22161970e+00 -3.70322899e-01 -3.05931086e-01\n",
      "  1.87391492e+00 -6.20730460e-01 -1.19267273e+00  9.40368760e-01\n",
      " -2.94416435e-01  5.44749749e-01  4.42960481e-01  2.02603847e+00\n",
      " -5.74500319e-01  7.54081576e-01  1.53907767e-01 -1.84323916e+00\n",
      " -1.42395959e+00 -9.60625808e-01 -2.29667073e+00 -6.17584082e-01\n",
      " -1.90446061e-01  3.30023688e-01  1.58887535e+00 -6.23268392e-02\n",
      " -7.25860848e-01  3.39996091e-02 -7.45638867e-02 -4.22607177e-02\n",
      " -8.55450846e-01 -9.65680522e-01 -7.87482413e-01 -4.08758369e-01\n",
      "  1.59338765e+00 -2.03400437e-01 -1.07309728e+00 -1.60511187e+00\n",
      " -2.75902365e-01  1.22691428e-01  4.39001540e-02 -3.82169068e-02\n",
      "  7.77856688e-01 -2.60803072e-01 -7.58017340e-01  7.75640707e-01\n",
      "  5.04340401e-01 -3.49356577e-01 -3.18363135e-01  5.83466761e-01\n",
      "  1.35935568e-01  1.83305958e+00 -1.71303815e+00 -7.61360245e-01\n",
      "  9.70371037e-01 -8.16587223e-01  7.21725547e-01  1.67674948e+00\n",
      " -2.17780901e+00  1.00094291e+00  7.94512322e-01 -1.70710451e+00\n",
      "  2.27166900e+00  4.03676461e-01  3.09607101e-01  4.34389433e-02\n",
      "  1.40566879e+00 -2.97964095e-01  6.11424102e-01  1.56772404e+00\n",
      "  1.80472353e+00 -8.80970580e-01  3.07206683e-01  9.19563925e-01\n",
      " -6.22015072e-01  1.80354434e-01  8.45787691e-02 -3.46829324e-01\n",
      " -4.54898330e-01 -7.78902757e-01  2.05140935e+00 -6.88709487e-01\n",
      " -9.55840868e-01 -8.44531271e-01 -2.11684431e+00 -1.29040038e-01\n",
      "  1.57410141e-02  1.37333486e-01  3.29106970e-01 -1.10852382e-01\n",
      " -4.37229180e-02  1.11117628e+00  1.83514779e-01 -7.84292817e-01\n",
      " -1.81711473e+00 -4.51802971e-01 -2.97497710e-01 -1.46009306e+00]\n"
     ]
    },
    {
     "data": {
      "image/png": "[encoded data removed]",
      "text/plain": [
       "<Figure size 432x288 with 1 Axes>"
      ]
     },
     "metadata": {
      "needs_background": "light"
     },
     "output_type": "display_data"
    }
   ],
   "source": [
    "# if one one number is given it returns an array of a single row containing that amount of elements\n",
    "%matplotlib inline\n",
    "randn = np.random.randn(1000)\n",
    "print(randn)\n",
    "plt.hist(randn)\n",
    "plt.title('Gaussian Distribution of 1000 Numbers')\n",
    "plt.show()"
   ]
  },
  {
   "cell_type": "markdown",
   "metadata": {},
   "source": [
    "The numpy.random.randint code below was taken from [SciPy random.randint](https://docs.scipy.org/doc/numpy/reference/random/index.html?highlight=numpy%20random#module-numpy.random)"
   ]
  },
  {
   "cell_type": "code",
   "execution_count": 2,
   "metadata": {},
   "outputs": [
    {
     "name": "stdout",
     "output_type": "stream",
     "text": [
      "[5 5 2 3 5 0 0 2 1 5]\n",
      "10\n",
      "1\n",
      "int32\n"
     ]
    }
   ],
   "source": [
    "# numpy random.randint generates random integers of uniform distribution over [0,1), this size of the array is 10 items.\n",
    "\n",
    "a = np.random.randint(low = 0, high = 7, size = 10)\n",
    "\n",
    "print(a)\n",
    "print(a.size)\n",
    "print(a.ndim)\n",
    "print(a.dtype)"
   ]
  },
  {
   "cell_type": "markdown",
   "metadata": {},
   "source": [
    "### 2.2 Permutations"
   ]
  },
  {
   "cell_type": "markdown",
   "metadata": {},
   "source": [
    "## 3. Five Distribution Functions"
   ]
  },
  {
   "cell_type": "code",
   "execution_count": null,
   "metadata": {},
   "outputs": [],
   "source": []
  },
  {
   "cell_type": "markdown",
   "metadata": {},
   "source": [
    "## 4. Seeds in generating pseudorandom numbers"
   ]
  },
  {
   "cell_type": "code",
   "execution_count": null,
   "metadata": {},
   "outputs": [],
   "source": []
  },
  {
   "cell_type": "markdown",
   "metadata": {},
   "source": [
    "## References"
   ]
  },
  {
   "cell_type": "markdown",
   "metadata": {},
   "source": [
    " * Scipy Numpy Random Documentation https://docs.scipy.org/doc/numpy-1.14.0/reference/routines.random.html  \n",
    " * Numpy Basics https://docs.scipy.org/doc/numpy-1.13.0/user/basics.html\n",
    " * Creating Arrays in Numpy https://docs.scipy.org/doc/numpy-1.13.0/user/basics.creation.html\n",
    " * Creating links using Markdown https://stackoverflow.com/questions/2822089/how-to-link-to-part-of-the-same-document-in-markdown\n",
    " * Jupyter https://jupyter.org/"
   ]
  },
  {
   "cell_type": "code",
   "execution_count": null,
   "metadata": {},
   "outputs": [],
   "source": []
  }
 ],
 "metadata": {
  "kernelspec": {
   "display_name": "Python 3",
   "language": "python",
   "name": "python3"
  },
  "language_info": {
   "codemirror_mode": {
    "name": "ipython",
    "version": 3
   },
   "file_extension": ".py",
   "mimetype": "text/x-python",
   "name": "python",
   "nbconvert_exporter": "python",
   "pygments_lexer": "ipython3",
   "version": "3.7.1"
  }
 },
 "nbformat": 4,
 "nbformat_minor": 2
}

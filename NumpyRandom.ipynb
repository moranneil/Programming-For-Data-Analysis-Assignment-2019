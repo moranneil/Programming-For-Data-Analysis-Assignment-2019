{
 "cells": [
  {
   "cell_type": "markdown",
   "metadata": {},
   "source": [
    "# Numpy Random Package\n",
    "\n",
    "\n",
    "\n",
    "<img src='NJP-Symbols.jpg' />\n",
    "\n",
    "This is an investigation in to the Numpy random package. This investigation is divided in to four parts see links below. There is also a Reference section that provides a list of links used in this investigation.\n",
    "\n",
    "[1. Introduction to Numpy random](#1.-Introduction-to-Numpy-random)\n",
    "\n",
    "[2. Simple random data & Permutations](#2.-Simple-random-data-&-Permutations)\n",
    "\n",
    "[3. Five Distribution Functions](#3.-Five-Distribution-Functions)\n",
    "\n",
    "[4. Seeds in generating pseudorandom numbers](#4.-Seeds-in-generating-pseudorandom-numbers)\n",
    "\n",
    "[References](#References)\n"
   ]
  },
  {
   "cell_type": "markdown",
   "metadata": {},
   "source": [
    "## 1. Introduction to Numpy and Numpy random"
   ]
  },
  {
   "cell_type": "markdown",
   "metadata": {},
   "source": [
    "- Numpy is a multidimensional array library, it can create and manliplate multiple sizes of arrays for example 1-dimensional, 2-dimensional 3-dimensional etc arrays.\n",
    "- Numpy arrays are a very efficient incomparsion to lists for the folllowing reasons\n",
    " * Numpy uses less memory to store arrays.\n",
    " * Numpy arrays are the same data type so no type checking is required this is not a case with lists.\n",
    " * Numyy uses contigious memory blocks to store array values this allows SIMD (Single Instruction Multiple Data) vector processing to perform multiple calulations of arrays that are sequentially stored in memory, this allows for more efficent CPU usage in processing calculations for arrays. Its also allows for efficient cache usage. \n",
    " \n",
    "- Numpy random is a sub package of the Numpy\n",
    "- Numpy random package is a way of generating random numbers or psuedo random numbers for computers\n",
    "- Generates arrays of numbers, arrays are a grouping of homogenous data types, the data element have to be of the same type.\n",
    "- Usually don't use Numpy directly its usually used with other packages such as pandas or SciPy"
   ]
  },
  {
   "cell_type": "code",
   "execution_count": 1,
   "metadata": {},
   "outputs": [],
   "source": [
    "# To start this investigation the Numpy package is imported as np & matplotlib.pyplot package is imported a plt\n",
    "\n",
    "import numpy as np\n",
    "import matplotlib.pyplot as plt\n"
   ]
  },
  {
   "cell_type": "markdown",
   "metadata": {},
   "source": [
    "* The next few functions will demonstrate how Numpy generates simple arrays and functions that will give information on these arrays."
   ]
  },
  {
   "cell_type": "code",
   "execution_count": 38,
   "metadata": {},
   "outputs": [],
   "source": [
    "#Creating array and assign it to x, created integers as 16bit (2 Bytes) instead of 32int default (4bytes)\n",
    "x = np.array([2, 3], dtype='int16')"
   ]
  },
  {
   "cell_type": "code",
   "execution_count": 39,
   "metadata": {},
   "outputs": [
    {
     "data": {
      "text/plain": [
       "2"
      ]
     },
     "execution_count": 39,
     "metadata": {},
     "output_type": "execute_result"
    }
   ],
   "source": [
    "#Prints the 1st value of array x\n",
    "x[0]"
   ]
  },
  {
   "cell_type": "code",
   "execution_count": 40,
   "metadata": {},
   "outputs": [
    {
     "data": {
      "text/plain": [
       "3"
      ]
     },
     "execution_count": 40,
     "metadata": {},
     "output_type": "execute_result"
    }
   ],
   "source": [
    "#Prints the 2nd value of array x\n",
    "x[1]"
   ]
  },
  {
   "cell_type": "code",
   "execution_count": 41,
   "metadata": {},
   "outputs": [
    {
     "data": {
      "text/plain": [
       "1"
      ]
     },
     "execution_count": 41,
     "metadata": {},
     "output_type": "execute_result"
    }
   ],
   "source": [
    "#Print the dimension of array x, dimension of the array is 1D\n",
    "x.ndim"
   ]
  },
  {
   "cell_type": "code",
   "execution_count": 42,
   "metadata": {},
   "outputs": [
    {
     "data": {
      "text/plain": [
       "dtype('int16')"
      ]
     },
     "execution_count": 42,
     "metadata": {},
     "output_type": "execute_result"
    }
   ],
   "source": [
    "#Prints array size as defined in above, if dtype int16 is not specified 'int32' is default for integers \n",
    "x.dtype"
   ]
  },
  {
   "cell_type": "code",
   "execution_count": 44,
   "metadata": {},
   "outputs": [
    {
     "data": {
      "text/plain": [
       "2"
      ]
     },
     "execution_count": 44,
     "metadata": {},
     "output_type": "execute_result"
    }
   ],
   "source": [
    "#Prints the item size of the array in bytes, as its int 16 each value is 2 Bytes\n",
    "x.itemsize"
   ]
  },
  {
   "cell_type": "code",
   "execution_count": 46,
   "metadata": {},
   "outputs": [
    {
     "data": {
      "text/plain": [
       "4"
      ]
     },
     "execution_count": 46,
     "metadata": {},
     "output_type": "execute_result"
    }
   ],
   "source": [
    "# Prints the total size of the array in Bytes. This is 4 Bytes, ie two 16 bit integer values.\n",
    "x.nbytes"
   ]
  },
  {
   "cell_type": "code",
   "execution_count": 3,
   "metadata": {},
   "outputs": [
    {
     "name": "stdout",
     "output_type": "stream",
     "text": [
      "[[1 2 3 4]\n",
      " [5 6 7 8]]\n"
     ]
    }
   ],
   "source": [
    "# Create an array assign it to x\n",
    "x = np.array([[1,2,3,4],[5,6,7,8]])\n",
    "print(x)"
   ]
  },
  {
   "cell_type": "code",
   "execution_count": 4,
   "metadata": {},
   "outputs": [
    {
     "data": {
      "text/plain": [
       "(2, 4)"
      ]
     },
     "execution_count": 4,
     "metadata": {},
     "output_type": "execute_result"
    }
   ],
   "source": [
    "#Prints out the shape of array x two rows with 4 columns\n",
    "np.shape(x)"
   ]
  },
  {
   "cell_type": "code",
   "execution_count": 5,
   "metadata": {},
   "outputs": [
    {
     "data": {
      "text/plain": [
       "array([0, 1, 2, 3, 4, 5, 6, 7, 8, 9])"
      ]
     },
     "execution_count": 5,
     "metadata": {},
     "output_type": "execute_result"
    }
   ],
   "source": [
    "np.arange(10)"
   ]
  },
  {
   "cell_type": "code",
   "execution_count": 6,
   "metadata": {},
   "outputs": [
    {
     "name": "stdout",
     "output_type": "stream",
     "text": [
      "[2.  2.5 3.  3.5 4.  4.5]\n"
     ]
    }
   ],
   "source": [
    "y = np.arange(2, 5, 0.5)\n",
    "print(y)"
   ]
  },
  {
   "cell_type": "code",
   "execution_count": null,
   "metadata": {},
   "outputs": [],
   "source": [
    "#This is a random (float) number generator of uniform distribution over [0,1) in the example the array dimensions are 4 rows x 3 columns\n",
    "a = np.random.rand(4,3)\n"
   ]
  },
  {
   "cell_type": "markdown",
   "metadata": {},
   "source": [
    "## 2. Simple random data & Permutations\n",
    "\n",
    "In this section we will investigate a few simple random data and Permutation functions.\n",
    "\n",
    "### 2.1 Simple random data\n",
    "\n",
    "To illustrate simple random data in numpy the following functions are discussed\n",
    "\n",
    "- *numpy.random.rand*\n",
    "- *numpy.random.randn*"
   ]
  },
  {
   "cell_type": "markdown",
   "metadata": {},
   "source": [
    "#### random.rand\n",
    "This is part of the simple random data sampling, this function uses uniform distribution, the plots show the difference between it and random.randn which uses normal or Gaussian distribution"
   ]
  },
  {
   "cell_type": "code",
   "execution_count": null,
   "metadata": {},
   "outputs": [],
   "source": [
    "#If no argument is given a single floating point number is returned\n",
    "np.random.rand()"
   ]
  },
  {
   "cell_type": "code",
   "execution_count": null,
   "metadata": {},
   "outputs": [],
   "source": [
    "# if one one number is given it returns an array of a single row containing that amount of elements\n",
    "%matplotlib inline\n",
    "rand = np.random.rand(1000)\n",
    "print(rand)\n",
    "plt.hist(rand)\n",
    "plt.title('Uniform Distribution of 1000 Numbers')\n",
    "plt.show()"
   ]
  },
  {
   "cell_type": "markdown",
   "metadata": {},
   "source": [
    "### random.randn"
   ]
  },
  {
   "cell_type": "code",
   "execution_count": null,
   "metadata": {},
   "outputs": [],
   "source": [
    "#This function returns a floating point number from the normal(Gaussian) distribution, returns a floating point number in from the range (0,1]\n",
    "np.random.randn(4,3)"
   ]
  },
  {
   "cell_type": "code",
   "execution_count": null,
   "metadata": {},
   "outputs": [],
   "source": [
    "#If no argument is given a single floating point number is returned\n",
    "np.random.randn()"
   ]
  },
  {
   "cell_type": "code",
   "execution_count": null,
   "metadata": {},
   "outputs": [],
   "source": [
    "# if one one number is given it returns an array of a single row containing that amount of elements\n",
    "%matplotlib inline\n",
    "randn = np.random.randn(1000)\n",
    "print(randn)\n",
    "plt.hist(randn)\n",
    "plt.title('Gaussian Distribution of 1000 Numbers')\n",
    "plt.show()"
   ]
  },
  {
   "cell_type": "markdown",
   "metadata": {},
   "source": [
    "The numpy.random.randint code below was taken from [SciPy random.randint](https://docs.scipy.org/doc/numpy/reference/random/index.html?highlight=numpy%20random#module-numpy.random)"
   ]
  },
  {
   "cell_type": "code",
   "execution_count": null,
   "metadata": {},
   "outputs": [],
   "source": [
    "# numpy random.randint generates random integers of uniform distribution over [0,1), this size of the array is 10 items.\n",
    "\n",
    "a = np.random.randint(low = 0, high = 7, size = 10)\n",
    "\n",
    "print(a)\n",
    "print(a.size)\n",
    "print(a.ndim)\n",
    "print(a.dtype)"
   ]
  },
  {
   "cell_type": "markdown",
   "metadata": {},
   "source": [
    "### 2.2 Permutations"
   ]
  },
  {
   "cell_type": "markdown",
   "metadata": {},
   "source": [
    "## 3. Five Distribution Functions"
   ]
  },
  {
   "cell_type": "code",
   "execution_count": null,
   "metadata": {},
   "outputs": [],
   "source": []
  },
  {
   "cell_type": "markdown",
   "metadata": {},
   "source": [
    "## 4. Seeds in generating pseudorandom numbers"
   ]
  },
  {
   "cell_type": "code",
   "execution_count": null,
   "metadata": {},
   "outputs": [],
   "source": []
  },
  {
   "cell_type": "markdown",
   "metadata": {},
   "source": [
    "## References"
   ]
  },
  {
   "cell_type": "markdown",
   "metadata": {},
   "source": [
    " * Scipy Numpy Random Documentation https://docs.scipy.org/doc/numpy-1.16.1/reference/routines.random.html \n",
    " * Free Code Camp https://www.freecodecamp.org\n",
    " * Numpy Basics https://docs.scipy.org/doc/numpy-1.16.0/user/basics.html\n",
    " * Creating Arrays in Numpy https://docs.scipy.org/doc/numpy-1.13.0/user/basics.creation.html\n",
    " * Creating links using Markdown https://stackoverflow.com/questions/2822089/how-to-link-to-part-of-the-same-document-in-markdown\n",
    " * Jupyter https://jupyter.org/"
   ]
  },
  {
   "cell_type": "code",
   "execution_count": null,
   "metadata": {},
   "outputs": [],
   "source": []
  }
 ],
 "metadata": {
  "kernelspec": {
   "display_name": "Python 3",
   "language": "python",
   "name": "python3"
  },
  "language_info": {
   "codemirror_mode": {
    "name": "ipython",
    "version": 3
   },
   "file_extension": ".py",
   "mimetype": "text/x-python",
   "name": "python",
   "nbconvert_exporter": "python",
   "pygments_lexer": "ipython3",
   "version": "3.7.1"
  }
 },
 "nbformat": 4,
 "nbformat_minor": 2
}

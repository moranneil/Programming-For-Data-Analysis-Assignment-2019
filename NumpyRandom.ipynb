{
 "cells": [
  {
   "cell_type": "markdown",
   "metadata": {},
   "source": [
    "# Numpy Random Package\n",
    "\n",
    "\n",
    "\n",
    "<img src='NJP-Symbols.jpg' />\n",
    "\n",
    "This is an investigation in to the Numpy random package. This investigation is divided in to four parts see links below. There is also a Reference section that provides a list of links used in this investigation.\n",
    "\n",
    "[1. Introduction to Numpy random](#1.-Introduction-to-Numpy-random)\n",
    "\n",
    "[2. Simple random data & Permutations](#2.-Simple-random-data-&-Permutations)\n",
    "\n",
    "[3. Five Distribution Functions](#3.-Five-Distribution-Functions)\n",
    "\n",
    "[4. Seeds in generating pseudorandom numbers](#4.-Seeds-in-generating-pseudorandom-numbers)\n",
    "\n",
    "[References](#References)\n"
   ]
  },
  {
   "cell_type": "markdown",
   "metadata": {},
   "source": [
    "## 1. Introduction to Numpy and Numpy random"
   ]
  },
  {
   "cell_type": "markdown",
   "metadata": {},
   "source": [
    "- Numpy is a multidimensional array library, it can create and manliplate multiple sizes of arrays for example 1-dimensional, 2-dimensional 3-dimensional etc arrays.\n",
    "- Numpy arrays are a very efficient incomparsion to lists for the folllowing reasons\n",
    " * Numpy uses less memory to store arrays.\n",
    " * Numpy arrays are the same data type so no type checking is required this is not a case with lists.\n",
    " * Numyy uses contigious memory blocks to store array values this allows SIMD (Single Instruction Multiple Data) vector processing to perform multiple calulations of arrays that are sequentially stored in memory, this allows for more efficent CPU usage in processing calculations for arrays. Its also allows for efficient cache usage. \n",
    " \n",
    "- Numpy random is a sub package of the Numpy\n",
    "- Numpy random package is a way of generating random numbers or psuedo random numbers for computers\n",
    "- Generates arrays of numbers, arrays are a grouping of homogenous data types, the data element have to be of the same type.\n",
    "- Usually don't use Numpy directly its usually used with other packages such as pandas or SciPy"
   ]
  },
  {
   "cell_type": "code",
   "execution_count": 1,
   "metadata": {},
   "outputs": [],
   "source": [
    "# To start this investigation the Numpy package is imported as np & matplotlib.pyplot package is imported a plt\n",
    "\n",
    "import numpy as np\n",
    "import matplotlib.pyplot as plt\n"
   ]
  },
  {
   "cell_type": "markdown",
   "metadata": {},
   "source": [
    "* The next few functions will demonstrate how Numpy generates simple arrays and functions that will give information on these arrays."
   ]
  },
  {
   "cell_type": "markdown",
   "metadata": {},
   "source": [
    "#### Create 1-Dimensional Array"
   ]
  },
  {
   "cell_type": "code",
   "execution_count": 2,
   "metadata": {},
   "outputs": [],
   "source": [
    "#Creating array and assign it to x, created integers as 16bit (2 Bytes) instead of 32int default (4bytes)\n",
    "x = np.array([2, 3], dtype='int16')"
   ]
  },
  {
   "cell_type": "code",
   "execution_count": 3,
   "metadata": {},
   "outputs": [
    {
     "data": {
      "text/plain": [
       "2"
      ]
     },
     "execution_count": 3,
     "metadata": {},
     "output_type": "execute_result"
    }
   ],
   "source": [
    "#Prints the 1st value of array x\n",
    "x[0]"
   ]
  },
  {
   "cell_type": "code",
   "execution_count": 4,
   "metadata": {},
   "outputs": [
    {
     "data": {
      "text/plain": [
       "3"
      ]
     },
     "execution_count": 4,
     "metadata": {},
     "output_type": "execute_result"
    }
   ],
   "source": [
    "#Prints the 2nd value of array x\n",
    "x[1]"
   ]
  },
  {
   "cell_type": "code",
   "execution_count": 5,
   "metadata": {},
   "outputs": [
    {
     "data": {
      "text/plain": [
       "1"
      ]
     },
     "execution_count": 5,
     "metadata": {},
     "output_type": "execute_result"
    }
   ],
   "source": [
    "#Print the dimension of array x, dimension of the array is 1D\n",
    "x.ndim"
   ]
  },
  {
   "cell_type": "code",
   "execution_count": 6,
   "metadata": {},
   "outputs": [
    {
     "data": {
      "text/plain": [
       "dtype('int16')"
      ]
     },
     "execution_count": 6,
     "metadata": {},
     "output_type": "execute_result"
    }
   ],
   "source": [
    "#Prints array size as defined in above, if dtype int16 is not specified 'int32' is default for integers \n",
    "x.dtype"
   ]
  },
  {
   "cell_type": "code",
   "execution_count": 7,
   "metadata": {},
   "outputs": [
    {
     "data": {
      "text/plain": [
       "2"
      ]
     },
     "execution_count": 7,
     "metadata": {},
     "output_type": "execute_result"
    }
   ],
   "source": [
    "#Prints the item size of the array in bytes, as its int 16 each value is 2 Bytes\n",
    "x.itemsize"
   ]
  },
  {
   "cell_type": "code",
   "execution_count": 8,
   "metadata": {},
   "outputs": [
    {
     "data": {
      "text/plain": [
       "4"
      ]
     },
     "execution_count": 8,
     "metadata": {},
     "output_type": "execute_result"
    }
   ],
   "source": [
    "# Prints the total size of the array in Bytes. This is 4 Bytes, ie two 16 bit integer values.\n",
    "x.nbytes"
   ]
  },
  {
   "cell_type": "markdown",
   "metadata": {},
   "source": [
    "#### Create 2-Dimensional Array"
   ]
  },
  {
   "cell_type": "code",
   "execution_count": 28,
   "metadata": {},
   "outputs": [
    {
     "name": "stdout",
     "output_type": "stream",
     "text": [
      "[[1 2 3 4]\n",
      " [5 6 7 8]]\n"
     ]
    }
   ],
   "source": [
    "# Create an 2D array assign it to y\n",
    "y = np.array([[1,2,3,4],[5,6,7,8]])\n",
    "print(y)"
   ]
  },
  {
   "cell_type": "code",
   "execution_count": 38,
   "metadata": {},
   "outputs": [
    {
     "data": {
      "text/plain": [
       "2"
      ]
     },
     "execution_count": 38,
     "metadata": {},
     "output_type": "execute_result"
    }
   ],
   "source": [
    "#Print the dimension of array y, dimension of the array is 2D\n",
    "y.ndim"
   ]
  },
  {
   "cell_type": "code",
   "execution_count": 29,
   "metadata": {},
   "outputs": [
    {
     "name": "stdout",
     "output_type": "stream",
     "text": [
      "7\n"
     ]
    }
   ],
   "source": [
    "#Prints the 2rd value in the 2nd row of array y, indexing of arrays start at 0\n",
    "print(y[1,2])"
   ]
  },
  {
   "cell_type": "code",
   "execution_count": 31,
   "metadata": {},
   "outputs": [
    {
     "data": {
      "text/plain": [
       "array([1, 2, 3, 4])"
      ]
     },
     "execution_count": 31,
     "metadata": {},
     "output_type": "execute_result"
    }
   ],
   "source": [
    "#Prints the entire first row of the array\n",
    "y[0, :]"
   ]
  },
  {
   "cell_type": "code",
   "execution_count": 32,
   "metadata": {},
   "outputs": [
    {
     "data": {
      "text/plain": [
       "(2, 4)"
      ]
     },
     "execution_count": 32,
     "metadata": {},
     "output_type": "execute_result"
    }
   ],
   "source": [
    "#Prints out the shape of array y two rows with 4 columns\n",
    "np.shape(y)"
   ]
  },
  {
   "cell_type": "code",
   "execution_count": 33,
   "metadata": {},
   "outputs": [
    {
     "data": {
      "text/plain": [
       "dtype('int32')"
      ]
     },
     "execution_count": 33,
     "metadata": {},
     "output_type": "execute_result"
    }
   ],
   "source": [
    "#Prints array size as defined in above, there is not dtype defined in the array so it should be 'int32' bt default\n",
    "y.dtype"
   ]
  },
  {
   "cell_type": "code",
   "execution_count": 35,
   "metadata": {},
   "outputs": [
    {
     "data": {
      "text/plain": [
       "4"
      ]
     },
     "execution_count": 35,
     "metadata": {},
     "output_type": "execute_result"
    }
   ],
   "source": [
    "#Prints the item size of the array in bytes, its default int32 so its 4 Bytes\n",
    "y.itemsize"
   ]
  },
  {
   "cell_type": "code",
   "execution_count": 40,
   "metadata": {},
   "outputs": [
    {
     "data": {
      "text/plain": [
       "32"
      ]
     },
     "execution_count": 40,
     "metadata": {},
     "output_type": "execute_result"
    }
   ],
   "source": [
    "# Prints the total size of the array in Bytes. This is 8 values @ 4Bytes each = 32 Bytes\n",
    "y.nbytes"
   ]
  },
  {
   "cell_type": "markdown",
   "metadata": {},
   "source": [
    "#### Create 3-Dimensional Array"
   ]
  },
  {
   "cell_type": "code",
   "execution_count": 62,
   "metadata": {},
   "outputs": [
    {
     "name": "stdout",
     "output_type": "stream",
     "text": [
      "[[[ 1  2  3]\n",
      "  [ 4  5  6]]\n",
      "\n",
      " [[ 7  8  9]\n",
      "  [10 11 12]]]\n"
     ]
    }
   ],
   "source": [
    "z = np.array([[[1,2,3],[4,5,6]],[[7,8,9],[10,11,12]]])\n",
    "print(z)"
   ]
  },
  {
   "cell_type": "code",
   "execution_count": 63,
   "metadata": {},
   "outputs": [
    {
     "data": {
      "text/plain": [
       "3"
      ]
     },
     "execution_count": 63,
     "metadata": {},
     "output_type": "execute_result"
    }
   ],
   "source": [
    "#Print the dimension of array z, dimension of the array is 3D\n",
    "z.ndim"
   ]
  },
  {
   "cell_type": "code",
   "execution_count": 64,
   "metadata": {},
   "outputs": [
    {
     "name": "stdout",
     "output_type": "stream",
     "text": [
      "8\n"
     ]
    }
   ],
   "source": [
    "# Access values in the 3D array, work from the outside sq brackets in\n",
    "# For example to access number 8, the 1st value would be either 0 or 1 8 is in the 2nd group so its 1, after that is just 2D array (r,c) so (0,1)\n",
    "print(z[1, 0, 1])"
   ]
  },
  {
   "cell_type": "code",
   "execution_count": 65,
   "metadata": {},
   "outputs": [
    {
     "name": "stdout",
     "output_type": "stream",
     "text": [
      "[2 8]\n"
     ]
    }
   ],
   "source": [
    "# Print the value 1st row and 2nd column from both groups\n",
    "print(z[:, 0, 1])"
   ]
  },
  {
   "cell_type": "code",
   "execution_count": 12,
   "metadata": {},
   "outputs": [
    {
     "data": {
      "text/plain": [
       "array([0, 1, 2, 3, 4, 5, 6, 7, 8, 9])"
      ]
     },
     "execution_count": 12,
     "metadata": {},
     "output_type": "execute_result"
    }
   ],
   "source": [
    "np.arange(10)"
   ]
  },
  {
   "cell_type": "code",
   "execution_count": 13,
   "metadata": {},
   "outputs": [
    {
     "name": "stdout",
     "output_type": "stream",
     "text": [
      "[2.  2.5 3.  3.5 4.  4.5]\n"
     ]
    }
   ],
   "source": [
    "y = np.arange(2, 5, 0.5)\n",
    "print(y)"
   ]
  },
  {
   "cell_type": "code",
   "execution_count": 14,
   "metadata": {},
   "outputs": [],
   "source": [
    "#This is a random (float) number generator of uniform distribution over [0,1) in the example the array dimensions are 4 rows x 3 columns\n",
    "a = np.random.rand(4,3)\n"
   ]
  },
  {
   "cell_type": "markdown",
   "metadata": {},
   "source": [
    "## 2. Simple random data & Permutations\n",
    "\n",
    "In this section we will investigate a few simple random data and Permutation functions.\n",
    "\n",
    "### 2.1 Simple random data\n",
    "\n",
    "To illustrate simple random data in numpy the following functions are discussed\n",
    "\n",
    "- *numpy.random.rand*\n",
    "- *numpy.random.randn*"
   ]
  },
  {
   "cell_type": "markdown",
   "metadata": {},
   "source": [
    "#### random.rand\n",
    "This is part of the simple random data sampling, this function uses uniform distribution, the plots show the difference between it and random.randn which uses normal or Gaussian distribution"
   ]
  },
  {
   "cell_type": "code",
   "execution_count": 15,
   "metadata": {},
   "outputs": [
    {
     "data": {
      "text/plain": [
       "0.8450893936304378"
      ]
     },
     "execution_count": 15,
     "metadata": {},
     "output_type": "execute_result"
    }
   ],
   "source": [
    "#If no argument is given a single floating point number is returned\n",
    "np.random.rand()"
   ]
  },
  {
   "cell_type": "code",
   "execution_count": 16,
   "metadata": {},
   "outputs": [
    {
     "name": "stdout",
     "output_type": "stream",
     "text": [
      "[0.27018223 0.70758519 0.87896693 0.79061014 0.85174504 0.88778672\n",
      " 0.6385535  0.43632208 0.22021599 0.46430228 0.89891515 0.17862789\n",
      " 0.79866204 0.28085589 0.37757348 0.17460474 0.11914888 0.57804673\n",
      " 0.0251357  0.82856448 0.777429   0.93075416 0.08231334 0.03397929\n",
      " 0.03955024 0.67535919 0.36954725 0.80985683 0.12044431 0.31497354\n",
      " 0.95207409 0.70440395 0.90553886 0.97948889 0.15401451 0.90032721\n",
      " 0.80204981 0.78781428 0.64291817 0.22830669 0.54499426 0.18258834\n",
      " 0.04386102 0.75086466 0.00304004 0.80952372 0.07014313 0.08173922\n",
      " 0.63239969 0.04016783 0.40950422 0.59522593 0.56656877 0.81654892\n",
      " 0.77431024 0.80832151 0.72626246 0.51613145 0.04392495 0.37527522\n",
      " 0.02925117 0.41801743 0.95727004 0.9038193  0.19022433 0.16943251\n",
      " 0.05656509 0.11292717 0.13299697 0.76768586 0.64326029 0.30539936\n",
      " 0.3385301  0.46166297 0.6180594  0.18490075 0.19373025 0.64422851\n",
      " 0.32690731 0.93584634 0.99119646 0.72765415 0.37710583 0.32648795\n",
      " 0.1352086  0.94674338 0.87140735 0.58342559 0.621721   0.29230112\n",
      " 0.84792061 0.56821592 0.98722975 0.49022868 0.543399   0.32074386\n",
      " 0.26690803 0.36859753 0.66287482 0.00587847 0.82473776 0.35427133\n",
      " 0.98629367 0.26078656 0.17163151 0.50918849 0.83983913 0.35845247\n",
      " 0.46310564 0.90822133 0.91152507 0.35046609 0.11582032 0.03094383\n",
      " 0.55637765 0.10772856 0.1147669  0.8776706  0.26496156 0.12640876\n",
      " 0.75253134 0.73263076 0.76539268 0.92789113 0.36713406 0.6387468\n",
      " 0.11154883 0.49759877 0.39165328 0.76443109 0.3347288  0.39662451\n",
      " 0.11231435 0.62450345 0.86815848 0.96749607 0.49322772 0.89771676\n",
      " 0.57014573 0.36004945 0.54376415 0.44031937 0.05852488 0.17770315\n",
      " 0.60437719 0.83753159 0.57571558 0.16647831 0.59626333 0.95082538\n",
      " 0.33240544 0.29987228 0.26794837 0.79827725 0.56783385 0.08075375\n",
      " 0.16230878 0.38373796 0.47658944 0.78431588 0.59387088 0.52767135\n",
      " 0.78792233 0.23653903 0.53251759 0.66771342 0.97819966 0.77928342\n",
      " 0.76925277 0.42449378 0.48359141 0.14974468 0.70037071 0.53126022\n",
      " 0.80404117 0.64021388 0.72976287 0.83400698 0.6360306  0.90474922\n",
      " 0.82847762 0.4570356  0.45893216 0.13235338 0.5900915  0.34425913\n",
      " 0.39637238 0.55351164 0.15198464 0.25073555 0.19977834 0.74702069\n",
      " 0.07346057 0.93225578 0.89355877 0.5907159  0.20343617 0.99441549\n",
      " 0.28747565 0.63987485 0.187151   0.1820264  0.45148465 0.57350118\n",
      " 0.97623149 0.08718711 0.93998561 0.62204723 0.84133474 0.86654218\n",
      " 0.99645392 0.97925005 0.83944003 0.22009576 0.25954874 0.50892028\n",
      " 0.09944337 0.06472038 0.45341066 0.57972506 0.19840706 0.47821578\n",
      " 0.02162393 0.87609721 0.0510989  0.79264605 0.29691652 0.05588244\n",
      " 0.06914006 0.7997285  0.93395398 0.48618437 0.86305756 0.68896088\n",
      " 0.57622575 0.69553098 0.57797963 0.58180949 0.49155043 0.47402407\n",
      " 0.95393023 0.62994428 0.69844176 0.70896336 0.39067818 0.5556336\n",
      " 0.53051865 0.69563698 0.31784391 0.0426355  0.39991587 0.78852813\n",
      " 0.08036876 0.06397818 0.67943113 0.33453082 0.54119033 0.41734438\n",
      " 0.83088002 0.5999587  0.11694149 0.1549263  0.10907833 0.72765939\n",
      " 0.6836208  0.14423238 0.41909211 0.60868385 0.56057902 0.65458662\n",
      " 0.5521609  0.02829131 0.72357706 0.68906063 0.31108672 0.26502316\n",
      " 0.52710568 0.22326301 0.54898392 0.85485743 0.33618725 0.31117945\n",
      " 0.40681588 0.48948919 0.98276319 0.40593636 0.12295121 0.62884723\n",
      " 0.44538634 0.25587836 0.6789905  0.16868143 0.47702498 0.78578899\n",
      " 0.97942992 0.53065701 0.87730309 0.50511524 0.48523652 0.9822366\n",
      " 0.27406306 0.21959736 0.46119066 0.34919059 0.16687793 0.17171212\n",
      " 0.58689053 0.86675668 0.22395094 0.55000574 0.43623651 0.3694579\n",
      " 0.98129481 0.54516523 0.69569522 0.07412947 0.6332485  0.05897102\n",
      " 0.4072099  0.88006347 0.06240992 0.14172806 0.47936882 0.12740638\n",
      " 0.30783418 0.92298813 0.02170366 0.33291558 0.58103905 0.01516581\n",
      " 0.10318667 0.43912933 0.57685024 0.05599504 0.59567714 0.76567353\n",
      " 0.227981   0.52148224 0.2490114  0.09034727 0.17023128 0.12789965\n",
      " 0.06687697 0.02457276 0.59509531 0.33255717 0.37736346 0.21477194\n",
      " 0.95628934 0.12195794 0.19744756 0.97381482 0.40338942 0.66775264\n",
      " 0.21219063 0.67132365 0.1234131  0.96463164 0.59665549 0.03808957\n",
      " 0.62056641 0.39205329 0.81452315 0.08024338 0.15988787 0.0706351\n",
      " 0.36975806 0.5878779  0.65222691 0.46889133 0.27680015 0.89141161\n",
      " 0.93907814 0.83012558 0.19776828 0.48214636 0.84725038 0.61683214\n",
      " 0.34848157 0.34505164 0.51150569 0.67513046 0.87360702 0.06237865\n",
      " 0.24919533 0.07867359 0.06692561 0.05063898 0.2281658  0.81638409\n",
      " 0.89688777 0.59210373 0.54135561 0.53739603 0.10793291 0.03984492\n",
      " 0.50289437 0.48745368 0.92913581 0.88402659 0.24061048 0.3914672\n",
      " 0.70508084 0.42907439 0.5723923  0.89017276 0.70377821 0.30394032\n",
      " 0.09172927 0.56874593 0.75346931 0.06607985 0.29799028 0.36201298\n",
      " 0.49093731 0.58280056 0.38676868 0.0090052  0.85390628 0.06205674\n",
      " 0.57765507 0.10502869 0.50836762 0.92016418 0.51528105 0.49877017\n",
      " 0.68867879 0.47483217 0.01416616 0.2203267  0.10729527 0.7524917\n",
      " 0.97324317 0.94570214 0.05338978 0.71298337 0.98226712 0.75473421\n",
      " 0.11105896 0.6130109  0.48978964 0.07129778 0.69370529 0.78011913\n",
      " 0.20250024 0.37296987 0.94741202 0.1053631  0.74008231 0.07545305\n",
      " 0.75560981 0.26709934 0.87678327 0.85811358 0.78742651 0.65560001\n",
      " 0.34692941 0.93696204 0.47867743 0.71476124 0.7749825  0.05269686\n",
      " 0.4115306  0.20498616 0.4610832  0.74398671 0.75225717 0.95110456\n",
      " 0.62659339 0.80941133 0.33235193 0.32071193 0.39798917 0.43836321\n",
      " 0.1858008  0.5568574  0.24176881 0.37790425 0.31520718 0.50493551\n",
      " 0.85898488 0.75081199 0.73141042 0.05647903 0.02813385 0.54609268\n",
      " 0.18612358 0.73689283 0.13016147 0.09286187 0.52410114 0.94050489\n",
      " 0.2398988  0.9914307  0.7832072  0.21809903 0.30698433 0.7077998\n",
      " 0.00219303 0.16529805 0.76716558 0.17372071 0.90935219 0.97443159\n",
      " 0.91843968 0.6053556  0.15151852 0.0153932  0.08542012 0.27109805\n",
      " 0.46026114 0.06202039 0.60981616 0.20081102 0.60882062 0.30500027\n",
      " 0.36866641 0.66940917 0.77218973 0.95029206 0.37217012 0.46210895\n",
      " 0.20033816 0.29553338 0.15384371 0.68080348 0.03675998 0.46310423\n",
      " 0.22919157 0.55083894 0.69010619 0.17889805 0.57642721 0.61884845\n",
      " 0.49903994 0.13388158 0.78534547 0.45827655 0.23850962 0.16070624\n",
      " 0.52834378 0.18606401 0.14041887 0.05253265 0.29400673 0.3868486\n",
      " 0.43743311 0.67894418 0.84455595 0.04426314 0.95016986 0.25966406\n",
      " 0.27388241 0.43191468 0.61910285 0.12551153 0.29264924 0.47365914\n",
      " 0.41007711 0.62827229 0.86933163 0.19904211 0.35942149 0.84609614\n",
      " 0.94841043 0.66810399 0.87719594 0.55625575 0.36854969 0.24653149\n",
      " 0.33624741 0.37088254 0.76560587 0.31218628 0.47048229 0.19029281\n",
      " 0.66350218 0.20447035 0.99630381 0.1360726  0.22181957 0.84411407\n",
      " 0.71320489 0.37232913 0.02873352 0.26856231 0.7875198  0.15146858\n",
      " 0.35495929 0.13609639 0.14240297 0.00453331 0.88958728 0.65258835\n",
      " 0.19229134 0.05607654 0.25694545 0.74584269 0.49411771 0.59911582\n",
      " 0.77156872 0.54766817 0.39435493 0.64634571 0.86981219 0.29228267\n",
      " 0.01477    0.19459565 0.71008813 0.3557105  0.55247407 0.80737193\n",
      " 0.45053519 0.70379406 0.34738073 0.99904995 0.23737702 0.02568628\n",
      " 0.81887948 0.88503629 0.21115062 0.04391094 0.82375417 0.30089443\n",
      " 0.98909969 0.35706427 0.49634879 0.00206136 0.33351612 0.36337835\n",
      " 0.19367468 0.64677596 0.55687267 0.56868071 0.23563697 0.70348589\n",
      " 0.86143209 0.62630382 0.59778232 0.41173849 0.408215   0.90321225\n",
      " 0.17597898 0.49736645 0.14486385 0.75509038 0.82354213 0.26137354\n",
      " 0.16498072 0.7121508  0.071594   0.76431097 0.18619448 0.37212748\n",
      " 0.956689   0.53273113 0.48082682 0.5644165  0.98202117 0.47412589\n",
      " 0.54561998 0.66501638 0.53519616 0.41452119 0.13256437 0.57268841\n",
      " 0.2160701  0.54310213 0.43200534 0.25618948 0.79847353 0.82193779\n",
      " 0.47457315 0.89449737 0.50786256 0.14819047 0.64239293 0.32871377\n",
      " 0.73368834 0.57737922 0.98538719 0.55503303 0.16053153 0.39568134\n",
      " 0.68234558 0.02600817 0.80464165 0.38223718 0.21285885 0.31135679\n",
      " 0.35556137 0.75135726 0.03503972 0.68011514 0.35404373 0.51827247\n",
      " 0.31666576 0.30040905 0.75790361 0.37587365 0.52397883 0.32347849\n",
      " 0.04572596 0.79582454 0.96633544 0.89617556 0.41161216 0.79041666\n",
      " 0.68642093 0.94553104 0.37382324 0.74906067 0.27175279 0.70647022\n",
      " 0.20202383 0.80809009 0.97090602 0.71003684 0.77447439 0.79060739\n",
      " 0.65268528 0.07036444 0.61538653 0.68005623 0.24924214 0.44809452\n",
      " 0.37139896 0.58000913 0.26612665 0.5848869  0.97194206 0.31386924\n",
      " 0.36838454 0.55883361 0.71860402 0.64349259 0.27057361 0.90781249\n",
      " 0.52875409 0.03845728 0.79219699 0.23560176 0.97040965 0.76250432\n",
      " 0.117275   0.21800959 0.20882767 0.4618317  0.52536494 0.36696253\n",
      " 0.309436   0.37463899 0.64637176 0.48259274 0.51706087 0.85258599\n",
      " 0.50926625 0.09192352 0.50356403 0.48044969 0.49890234 0.76846959\n",
      " 0.18916741 0.90732081 0.26781761 0.19027209 0.82735471 0.32295864\n",
      " 0.056189   0.8110662  0.86575677 0.00517899 0.40788714 0.87568064\n",
      " 0.18166635 0.19687107 0.06096232 0.71897833 0.55139882 0.61945082\n",
      " 0.97906804 0.37221239 0.92467201 0.85565699 0.73640507 0.88632026\n",
      " 0.50450287 0.37021168 0.83845683 0.54176542 0.52216825 0.86355946\n",
      " 0.27353018 0.24133917 0.08840741 0.36869528 0.98628811 0.74227591\n",
      " 0.41426785 0.77099751 0.55476449 0.87878604 0.60102501 0.04437868\n",
      " 0.67955784 0.0874181  0.46594719 0.80776286 0.07626338 0.29575769\n",
      " 0.18349113 0.51764146 0.32200883 0.77425394 0.4816183  0.9110554\n",
      " 0.47394529 0.28948678 0.72698863 0.38874923 0.191032   0.6472722\n",
      " 0.58344078 0.71894193 0.62252159 0.85318155 0.56270634 0.93528465\n",
      " 0.47896938 0.51909253 0.18135935 0.01397023 0.17723306 0.01891772\n",
      " 0.54877033 0.76525407 0.228399   0.76648734 0.16522564 0.44900151\n",
      " 0.83078656 0.43438804 0.37079876 0.95814351 0.40960234 0.73223216\n",
      " 0.349978   0.59852441 0.3921717  0.03895237 0.02515721 0.03505108\n",
      " 0.21509339 0.82796812 0.0785281  0.51087467 0.24648106 0.87525073\n",
      " 0.09954335 0.04705065 0.63804365 0.06119    0.187686   0.35913601\n",
      " 0.81703424 0.23122651 0.00686321 0.766139   0.09225249 0.79120256\n",
      " 0.37986641 0.64970016 0.14855065 0.23415686 0.57732606 0.71293445\n",
      " 0.04915757 0.84950348 0.24881613 0.60314988 0.14085324 0.56399777\n",
      " 0.47666603 0.67703824 0.09202912 0.29075608 0.41645273 0.81130434\n",
      " 0.09066664 0.19258679 0.8084718  0.64111899 0.416823   0.11148899\n",
      " 0.51653102 0.54639971 0.28980143 0.65279939 0.44980255 0.6111453\n",
      " 0.51085595 0.26092892 0.54965649 0.69522137 0.98476704 0.74078965\n",
      " 0.80088992 0.38382571 0.53232484 0.87240777 0.05714209 0.34891057\n",
      " 0.77835236 0.7118289  0.12706966 0.07143728 0.00153098 0.62058343\n",
      " 0.82461491 0.26461374 0.55253262 0.45813763 0.57937465 0.84717953\n",
      " 0.5413341  0.89147624 0.81201647 0.7838228  0.02176961 0.39419917\n",
      " 0.72546074 0.0740521  0.64114031 0.99422242 0.44398374 0.33576567\n",
      " 0.70613808 0.82891597 0.91165814 0.49988459 0.86980831 0.89168659\n",
      " 0.13812471 0.68830519 0.35304684 0.34130754 0.39752393 0.29651067\n",
      " 0.57997031 0.41525316 0.68694348 0.66721408 0.08279783 0.09335488\n",
      " 0.66392667 0.54868742 0.77968711 0.79674769 0.83233802 0.22651454\n",
      " 0.25032739 0.17652568 0.70438859 0.59979547 0.78891949 0.89681021\n",
      " 0.51190393 0.47285958 0.07150846 0.15493907 0.63888155 0.52658179\n",
      " 0.82048321 0.66432061 0.45265537 0.95996713 0.03955442 0.96861353\n",
      " 0.20374679 0.53342521 0.07875636 0.06818281 0.46141018 0.43622847\n",
      " 0.71365032 0.27461427 0.29332166 0.99141991 0.83236638 0.4691774\n",
      " 0.42481386 0.67197203 0.51628142 0.97651473 0.99080216 0.55359058\n",
      " 0.48015917 0.46096268 0.19798314 0.29362227]\n"
     ]
    },
    {
     "data": {
      "image/png": "[encoded data removed]",
      "text/plain": [
       "<Figure size 432x288 with 1 Axes>"
      ]
     },
     "metadata": {
      "needs_background": "light"
     },
     "output_type": "display_data"
    }
   ],
   "source": [
    "# if one one number is given it returns an array of a single row containing that amount of elements\n",
    "%matplotlib inline\n",
    "rand = np.random.rand(1000)\n",
    "print(rand)\n",
    "plt.hist(rand)\n",
    "plt.title('Uniform Distribution of 1000 Numbers')\n",
    "plt.show()"
   ]
  },
  {
   "cell_type": "markdown",
   "metadata": {},
   "source": [
    "### random.randn"
   ]
  },
  {
   "cell_type": "code",
   "execution_count": 17,
   "metadata": {},
   "outputs": [
    {
     "data": {
      "text/plain": [
       "array([[ 0.77566112, -0.55240279, -0.84115463],\n",
       "       [ 0.90408762,  2.35881182, -0.57779596],\n",
       "       [-0.09941375, -1.80744098,  0.58735558],\n",
       "       [ 0.07214718,  1.62616112,  1.42270517]])"
      ]
     },
     "execution_count": 17,
     "metadata": {},
     "output_type": "execute_result"
    }
   ],
   "source": [
    "#This function returns a floating point number from the normal(Gaussian) distribution, returns a floating point number in from the range (0,1]\n",
    "np.random.randn(4,3)"
   ]
  },
  {
   "cell_type": "code",
   "execution_count": 18,
   "metadata": {},
   "outputs": [
    {
     "data": {
      "text/plain": [
       "-0.0727859274790873"
      ]
     },
     "execution_count": 18,
     "metadata": {},
     "output_type": "execute_result"
    }
   ],
   "source": [
    "#If no argument is given a single floating point number is returned\n",
    "np.random.randn()"
   ]
  },
  {
   "cell_type": "code",
   "execution_count": 19,
   "metadata": {},
   "outputs": [
    {
     "name": "stdout",
     "output_type": "stream",
     "text": [
      "[-4.06000090e-01  2.57671060e+00  1.69476493e+00 -4.16595680e-01\n",
      "  6.03680607e-01  2.19847540e-01  7.48702641e-01 -3.96050267e-01\n",
      "  9.94104531e-01  3.32122775e-01 -4.61354149e-01 -1.92714884e+00\n",
      "  1.50301728e+00 -1.61088123e-01  3.90308021e-01  9.82511613e-01\n",
      "  1.53029788e+00 -1.57286367e-02 -1.16884095e+00 -2.65049262e-01\n",
      "  7.04834769e-01  7.18359019e-01  9.82389416e-02  1.64924368e+00\n",
      "  5.41863279e-01  1.72286595e+00  1.53816657e-01 -1.24405306e+00\n",
      "  5.00666619e-01 -1.03052360e+00  8.80801319e-01  1.26125233e+00\n",
      " -9.65061313e-01  1.76989229e-01 -2.68775309e-01  4.15499682e-01\n",
      " -6.42862691e-01  5.42178180e-01 -9.05155234e-03  1.77069114e+00\n",
      "  1.10366476e+00 -1.87123380e+00  1.79684196e+00 -7.16091084e-01\n",
      " -1.97225057e+00  1.09429299e+00  3.96864083e-01 -2.35075225e-01\n",
      "  1.23568426e+00 -3.41089626e-01 -3.36519448e-02  1.02563833e+00\n",
      "  1.22095134e-01 -5.55800057e-01 -1.12590087e+00  5.48625076e-01\n",
      " -1.09995070e-01  1.22990609e+00  2.05768171e-02  7.32558539e-01\n",
      "  2.22580882e+00 -5.95787891e-01  2.01676026e-01 -6.44465798e-02\n",
      " -3.32623064e-01 -8.69790608e-01  7.94045255e-01  2.05123839e+00\n",
      " -1.29112194e+00  3.86787971e-01  1.89595524e-01 -5.83546324e-01\n",
      " -1.90642231e-01 -1.28477912e+00  7.42960880e-01 -2.82723301e-01\n",
      "  9.28747784e-01  6.40746767e-01 -1.25518933e+00 -9.89781725e-01\n",
      " -6.95730052e-02  3.87620879e-01  2.20876834e-01 -2.48795387e-01\n",
      " -9.29587832e-01  1.60793482e+00 -5.97730556e-01 -3.08315965e-01\n",
      " -3.32124523e-01  1.33552986e+00 -1.08232117e+00  2.83330052e-02\n",
      " -1.03493927e-01 -1.47374363e+00  7.07757858e-02  1.24180490e+00\n",
      "  8.12911938e-01 -2.16323420e+00 -1.00245392e+00 -1.03870308e+00\n",
      " -1.75081088e-01  6.49628362e-01 -3.65807732e-03 -6.47985666e-01\n",
      "  5.38820256e-01 -2.96499221e+00  2.84345019e-01  8.34291312e-01\n",
      "  2.16912945e+00 -2.14900924e-01  2.30908043e-01  1.35348963e+00\n",
      "  1.23294933e+00  2.07194020e-01  9.39509987e-01 -7.10640822e-01\n",
      " -6.61592275e-01  1.06353404e-01 -3.12929667e-01  1.79693095e-01\n",
      "  8.55036501e-01 -5.17082912e-01 -1.04970543e+00 -1.18995474e+00\n",
      "  1.16732414e+00  1.29215041e+00  1.57464623e+00  3.19200962e-01\n",
      "  9.12818834e-01 -5.16352466e-01  9.88140398e-01  4.94609056e-01\n",
      " -1.04415484e+00 -4.49557017e-01  6.33965786e-01 -6.94574781e-01\n",
      " -1.12077814e+00 -1.13048453e+00  7.18013704e-01 -5.84557676e-01\n",
      " -5.35690374e-01 -8.95951021e-01  5.63447910e-01  1.52695917e+00\n",
      " -6.89678242e-01 -1.90043100e-01 -1.57449878e+00 -6.32410375e-01\n",
      "  4.74380355e-01 -4.52045393e-02  3.29222084e+00  2.07271640e+00\n",
      " -7.96437371e-01  3.48808415e-02  7.59564835e-01 -1.23674062e-01\n",
      " -1.45798435e+00 -3.63232625e-01 -4.92536828e-01 -8.11252905e-01\n",
      " -6.86982458e-02 -3.08011759e-01 -1.21456432e+00  2.45807961e+00\n",
      " -2.09029515e+00 -9.94446814e-01  1.27979899e+00  9.57607231e-01\n",
      "  9.77092496e-01 -2.55589241e-01  2.44283893e-01 -1.09494957e+00\n",
      "  1.40451754e-01 -9.74205306e-01  1.23936208e-01  3.36688074e-01\n",
      "  6.25524993e-01 -3.01497544e-01  6.10703443e-01 -5.52260375e-01\n",
      " -4.09408820e-02 -8.42099671e-01 -4.02338838e-01 -1.58440344e-01\n",
      "  3.32955925e-01  8.04239594e-01 -6.07050344e-01 -1.61491555e+00\n",
      " -2.78942331e-01  4.47421272e-01 -3.52524158e-01 -5.99028796e-01\n",
      " -1.05803480e+00 -6.91395645e-01  3.93203117e-01  2.07624565e-01\n",
      " -1.09012817e+00  1.09206804e+00  9.98627794e-01 -4.04194146e-01\n",
      " -1.07002787e+00 -5.49944013e-01  8.23000558e-01  5.47235655e-01\n",
      "  1.11389283e+00  3.91452341e-01  4.43058940e-01  4.32258203e-01\n",
      "  6.55227532e-01 -5.73858282e-01 -1.06169294e+00  1.07059118e+00\n",
      "  4.69720405e-01 -4.55933505e-01 -1.08684823e+00  1.37277348e+00\n",
      "  1.00354788e+00 -9.18224225e-01 -4.95911171e-01 -1.77804278e-01\n",
      "  7.27131021e-01  4.45664888e-02  1.53937797e+00  6.37849785e-02\n",
      "  1.29283058e+00  2.00617126e+00  1.06848527e+00 -1.73189863e-01\n",
      " -1.89299697e+00  4.84828335e-01 -4.85094021e-01  1.31541324e-01\n",
      " -1.11181392e+00 -1.89891962e-01 -1.38368501e-02  1.20086577e+00\n",
      "  7.37578163e-01 -5.47369429e-01 -9.53395200e-01 -6.01152896e-01\n",
      " -2.81118010e-01 -3.17114574e-01  3.98489958e-01  8.21731613e-01\n",
      "  3.36509701e-01  7.62491344e-01  9.81246066e-02  1.16029642e+00\n",
      " -1.33872942e+00 -7.16281538e-01 -7.11514332e-03 -9.82858890e-02\n",
      " -4.76186831e-01  4.79302241e-02 -1.65620736e+00 -4.00061358e-01\n",
      " -2.01122538e+00 -1.36443344e+00 -1.84237557e-01 -7.93999216e-01\n",
      " -1.09380363e+00  9.93877229e-02 -2.19960641e-01  5.85123440e-01\n",
      "  1.50361309e+00 -5.12626443e-01 -8.17820385e-01  2.90273108e-01\n",
      " -3.21502616e-02  9.56381151e-01  9.68051980e-01  1.26102211e+00\n",
      "  7.02777213e-02  1.10334992e+00 -1.49698097e+00  6.70356508e-01\n",
      "  2.07634077e-01 -1.57322867e+00  3.78435682e-01  4.54426159e-01\n",
      "  1.22935982e+00  1.96184568e-01  2.64555553e-02  7.58054195e-01\n",
      " -1.18083767e+00 -4.10744487e-01  1.17200624e+00 -7.23978243e-01\n",
      " -6.30127595e-01 -4.90628885e-01  2.77052460e-01 -1.68474418e+00\n",
      " -5.04030928e-01  1.93070686e+00 -1.04033091e+00  5.81003005e-01\n",
      "  7.35427323e-01 -5.20947763e-01 -5.52565838e-01  3.28333448e-01\n",
      " -5.29647050e-01  7.83852637e-01  6.23321487e-01  4.59624939e-01\n",
      " -1.10713211e+00  1.89772936e-01 -1.48642721e+00 -4.51290000e-01\n",
      " -7.72227799e-02  1.68472417e-01 -4.47905534e-01  1.99001610e+00\n",
      " -1.31405358e+00  6.61929985e-01 -8.80904983e-02  1.03563498e+00\n",
      " -5.43468893e-01  1.12292743e+00 -4.95770971e-01  2.81866279e-01\n",
      " -6.42049322e-01 -8.49701878e-01 -1.14205389e+00 -2.66850572e-01\n",
      "  1.67906129e+00 -8.86341508e-01 -5.91123845e-01  2.86679741e-01\n",
      "  9.05592421e-01  8.08868536e-01  4.02926283e-03 -7.39391423e-01\n",
      " -7.83894652e-02 -5.10957570e-01  5.02768876e-01 -1.21140743e+00\n",
      "  2.64605212e-01 -2.16528664e-01  1.68090477e+00  2.80219085e-01\n",
      " -1.26228863e+00 -3.28545742e-01 -2.95581013e-02  1.60688010e+00\n",
      " -8.27241673e-01 -2.08763319e+00  9.79313418e-01 -1.45503491e+00\n",
      " -4.99785142e-02 -5.33081596e-01 -1.10994873e+00 -7.86308478e-02\n",
      "  1.20974044e+00  4.81144764e-01  5.37700480e-01 -1.62212022e+00\n",
      " -2.19182093e-02 -1.19418169e+00 -2.08228016e-01 -1.26236839e+00\n",
      "  1.25823805e-02  5.10528882e-01  7.28596292e-01  2.19936862e-01\n",
      "  4.50487914e-01  7.74163057e-01  1.35312405e-01 -6.56745532e-01\n",
      "  9.99303201e-01  8.66722150e-01 -1.05267277e+00  2.25624989e+00\n",
      "  5.12782887e-01 -1.08882025e+00  8.65730920e-02 -1.21487034e-01\n",
      " -2.22145528e-01 -2.04584791e+00  1.17793165e+00  2.02377000e+00\n",
      " -1.30600077e+00  7.28745641e-02 -4.17153637e-01 -2.47029911e-01\n",
      "  3.05888479e+00 -3.97540034e-01  3.26692136e-01  9.83557454e-01\n",
      "  9.27440014e-01 -9.83698749e-01  4.87187433e-01 -7.22722643e-02\n",
      " -4.37644814e-01  3.32429694e-01  1.47885954e+00 -3.72313898e-01\n",
      " -1.20418605e+00  4.42359531e-01 -2.60733754e+00  1.08413267e+00\n",
      " -6.74272671e-01 -5.59397578e-01  8.53772070e-01 -9.00228169e-01\n",
      " -1.71724638e-01 -1.95985485e-01  4.73871891e-01  1.66692036e+00\n",
      " -1.11779161e+00  1.02808108e+00 -1.79711029e+00  9.85285840e-02\n",
      "  8.17827033e-01  1.35842956e-01 -7.48971974e-01  4.85238310e-01\n",
      " -3.31120502e-01 -9.00179505e-01  1.56446779e+00  3.79994675e-01\n",
      "  6.09251414e-01  2.17563954e-01 -7.85024849e-01  2.53928526e-01\n",
      " -6.48990714e-01 -5.80049291e-01  9.75267240e-01  4.54580298e-01\n",
      "  6.41956591e-01 -1.83657220e+00 -2.35043754e-02 -1.81384497e+00\n",
      " -2.86179119e-01  3.80931338e-01  3.42677009e-01  1.34225323e+00\n",
      "  5.87154495e-01 -1.69207037e-01  1.08810326e+00  6.84518534e-01\n",
      "  7.42928500e-01 -4.80292116e-02  5.22453435e-01  1.27161517e+00\n",
      " -1.55142293e+00  1.88537456e-01 -1.07546165e+00  5.51601641e-01\n",
      " -1.27894855e+00 -1.77061554e+00  2.36113679e-02 -1.10901198e+00\n",
      "  7.35943301e-01 -1.53168704e+00 -1.92794823e+00 -1.76154814e+00\n",
      "  4.77894538e-01  1.13289396e+00  6.02446729e-01 -5.92482706e-02\n",
      " -1.40471000e+00  1.49808941e+00  5.03355558e-01 -3.62394213e-01\n",
      "  2.80304317e-01  5.07089807e-01 -1.46079463e+00  1.15523646e+00\n",
      " -7.93267270e-01  5.90416390e-02  1.89690515e-01 -6.22388119e-01\n",
      " -1.10552002e+00  3.00287501e-01  1.67718976e-01  1.02291587e+00\n",
      " -8.46267855e-01  9.43757651e-01  2.73301462e+00  1.69567393e+00\n",
      "  3.50542162e-01  1.58293104e-01  1.30138592e+00  2.98341069e-01\n",
      "  8.74330608e-01  5.82113860e-01  8.30790448e-02  1.94827395e+00\n",
      "  7.60632917e-01 -2.94578866e-01 -2.64537027e-01  7.10426655e-01\n",
      "  4.38402236e-01  1.15377022e+00  1.09472035e+00 -9.54369078e-01\n",
      " -4.87138322e-01 -5.38868341e-01 -2.05141703e+00 -1.62691519e+00\n",
      "  1.44150031e-01  1.49880816e+00 -8.20323733e-01  3.71703151e-01\n",
      "  1.07273098e+00  3.79159057e-02 -5.39618142e-02  1.54471587e+00\n",
      " -8.74463030e-01 -6.09815764e-01 -1.58403833e+00  1.25230987e-01\n",
      "  1.28412511e+00  1.42564567e+00  1.19811288e+00  7.70261294e-01\n",
      "  2.27456007e+00 -1.31425339e+00 -7.62234246e-01  1.36713073e+00\n",
      " -8.74781866e-01  3.80942301e-01  1.33857427e+00 -3.48149112e-01\n",
      " -1.51426783e+00 -7.05556930e-01  1.06614112e+00  1.16573586e+00\n",
      " -2.97458341e-01  2.35871608e-01  8.74129432e-01 -3.69138977e-01\n",
      " -1.21702246e+00  7.99105817e-01 -5.56375338e-01  4.55511562e-01\n",
      "  1.20461773e+00  1.15849499e+00 -4.71176232e-01 -4.72937893e-01\n",
      "  3.72074271e-01 -2.21239160e-01 -9.09368521e-01 -1.92342206e+00\n",
      "  1.02091432e+00 -6.61992032e-01  5.37448473e-01  6.21016596e-03\n",
      " -1.93553519e+00 -1.02566565e+00  2.61159398e-01  1.84264165e+00\n",
      " -3.00760699e-01 -6.10580219e-02 -2.79981932e-01 -1.94234406e+00\n",
      "  8.54093730e-01 -2.40347495e+00  1.12726360e+00  8.26439732e-01\n",
      "  1.29296982e+00 -4.57205736e-01 -8.31746316e-01 -1.40960733e-01\n",
      "  1.17211728e+00  7.24132205e-01 -1.05071015e+00  7.43928811e-01\n",
      " -7.67319387e-01 -9.31116139e-02 -1.64520232e-01  1.07463209e+00\n",
      " -1.92280310e+00 -1.46240818e+00  3.03615239e-01 -6.64150928e-01\n",
      "  1.46300247e+00  1.21881620e+00  2.55383672e-01  7.77736527e-01\n",
      "  1.37206096e+00  1.22613253e+00  7.11253991e-01 -8.22212947e-01\n",
      "  1.37882181e+00  1.47924230e+00  1.02733409e+00 -4.87519355e-01\n",
      "  1.54763651e+00  5.89291628e-01 -5.35514902e-02 -2.37855257e-01\n",
      "  1.23409385e+00 -1.07374005e+00  2.10956148e-01 -1.31661288e+00\n",
      " -1.85228583e+00  5.95494726e-01 -8.72326026e-01 -8.80335928e-02\n",
      "  5.50853979e-01  2.38394212e-01  5.41049350e-01 -9.81713107e-01\n",
      " -1.31362453e-01 -1.85125569e-01  1.04598804e-01  1.02141942e+00\n",
      "  1.60360504e-01  9.88864987e-01  2.68353942e-01 -5.00788522e-01\n",
      "  6.29088713e-01  2.48770403e-01 -2.14583301e-01  1.48009623e+00\n",
      " -3.05462093e-01  1.76130437e-01 -1.56561851e+00  1.05964818e+00\n",
      " -1.69274546e+00  2.75298154e-01 -1.00886607e+00 -1.03255895e+00\n",
      "  4.31065339e-01 -8.12804663e-01 -3.93412867e-01 -1.42436577e-01\n",
      "  2.96814693e-01  2.44412129e+00 -5.39836802e-01  1.43070695e-01\n",
      "  2.10501210e-01  3.12975000e-01  3.35156056e-01  1.94938814e-01\n",
      " -3.10001274e-02 -4.14753327e-01 -6.68638143e-01  3.14984046e-01\n",
      "  1.31033543e+00 -1.42642875e+00  1.33023159e+00  1.72072392e-01\n",
      "  2.45762706e-01  1.19610941e+00 -5.06144516e-01  3.79097348e-01\n",
      " -1.00651530e+00 -8.19950648e-01 -3.94055409e-01 -8.13367610e-02\n",
      "  5.26541151e-01  2.58949941e-01  3.35834716e-01  1.02943595e+00\n",
      "  1.60699220e+00  1.47281551e+00  8.20496162e-01 -4.97190810e-01\n",
      " -2.65685318e-01 -2.00356341e-01  4.11166963e-01  9.40554619e-01\n",
      " -7.10812513e-01 -1.56835799e+00 -2.19508118e-01 -7.41240214e-01\n",
      "  8.24941453e-01 -2.83569064e-03  4.76271308e-01  2.38211228e+00\n",
      "  1.27573607e+00 -5.81575563e-01  8.38207704e-01 -1.23235637e+00\n",
      " -6.75880081e-01  1.57513380e+00 -3.62869757e-01 -6.31316223e-01\n",
      " -7.85471358e-02  5.22874827e-01  1.26154689e+00  1.88812131e+00\n",
      " -1.61783019e+00  4.68021068e-01  1.01486886e+00 -5.35820566e-01\n",
      " -1.53582259e+00 -1.38004173e-01  6.10988375e-01  5.99308740e-01\n",
      "  3.22226664e-01 -2.81196837e-01  1.63245240e-01  7.29933649e-01\n",
      " -1.61539148e+00 -7.34505726e-01  1.08971714e+00  4.45199724e-01\n",
      " -6.40507216e-02  3.24779600e-01  3.63350434e-01  1.56887376e-01\n",
      "  6.91729371e-02 -6.45554145e-01 -1.78814937e+00  3.73935826e-01\n",
      "  1.74808772e-01 -2.36678749e+00 -2.76230330e-01  1.45584244e+00\n",
      " -1.51354790e+00 -1.74607266e+00 -9.86238787e-01 -8.51324081e-01\n",
      "  1.06009506e-01 -1.56496376e+00  2.07926723e-01  6.19837302e-02\n",
      " -1.01777798e+00 -1.12337570e-01  2.66333431e-01 -1.21448987e+00\n",
      "  1.95814750e+00 -4.05351389e-01  5.80802879e-01 -9.89100421e-01\n",
      "  1.18673199e+00  1.12254532e+00  4.84485413e-01  5.44928475e-01\n",
      "  4.43574441e-01  9.92087801e-02  6.86957779e-01 -1.49446634e+00\n",
      " -1.19791653e+00 -1.10004562e+00 -1.02523169e+00 -1.32274364e+00\n",
      "  1.54621419e-01 -4.17735115e-01 -1.01022346e+00  1.92523670e+00\n",
      " -1.19331955e+00  1.19800785e+00  6.10708763e-01  1.94334114e-01\n",
      "  1.00829750e+00 -3.35712787e-01 -1.47793795e-01 -1.05420387e+00\n",
      "  4.54279727e-01 -1.07830617e+00 -7.74901230e-03 -1.15759710e+00\n",
      " -1.67347969e+00 -1.10774641e+00  1.47661815e-01  1.93558205e+00\n",
      " -6.70550044e-01 -4.06867312e-01 -1.16491687e+00 -7.69828852e-01\n",
      "  3.88358128e-01  2.57649372e-01 -4.13611972e-01  2.73296225e-01\n",
      "  1.92030378e-01  5.61477624e-01 -9.05109167e-01  7.13806501e-01\n",
      "  5.47913203e-02 -1.35055709e+00 -2.16406572e-01  2.50104786e-01\n",
      " -1.20816680e+00  2.38090387e+00 -5.82860300e-01 -6.60105593e-01\n",
      " -4.99538518e-01  3.96101048e-01  1.20770727e+00  6.52057623e-02\n",
      "  6.05175678e-01  1.55329241e+00  1.18660279e+00 -2.12398730e+00\n",
      " -3.17482668e+00 -1.53808885e+00 -3.25497276e+00  9.42514608e-01\n",
      " -4.59018818e-01 -7.93946999e-01  8.39410289e-02  1.72368192e+00\n",
      " -1.07920815e+00 -1.08361037e+00 -1.24257734e+00  1.41622708e+00\n",
      "  1.04279338e+00  1.06136911e+00 -3.38937909e-02  8.87412097e-01\n",
      "  1.00630906e-01  7.18793784e-01 -3.02870235e-01 -7.53278637e-01\n",
      " -1.50722248e-01  3.30439241e-01  1.19833665e+00  7.00113306e-02\n",
      "  1.11397539e+00 -5.26661436e-01  1.15482613e-01  5.93684825e-02\n",
      " -2.94049043e-02  2.90560565e-01  6.52071399e-01 -1.05903517e+00\n",
      "  1.74941939e+00 -1.84339533e-01 -5.04747875e-01 -6.96104825e-01\n",
      " -6.41342062e-02  7.50227852e-01  5.88884560e-01  2.04642998e-01\n",
      " -2.23422973e-01 -7.56979538e-01 -1.43267684e+00 -7.56143334e-01\n",
      "  4.75957216e-01  5.09993167e-01  2.77696651e-01 -3.19468265e-01\n",
      "  1.05076026e+00  4.76994195e-01 -5.13820097e-01  1.41220317e+00\n",
      " -3.06842529e+00  6.87430838e-01  2.06827474e+00  9.99302309e-01\n",
      " -7.94787135e-01 -1.83822005e-01  5.91244653e-01  1.01986571e+00\n",
      "  1.08009720e+00  3.49024525e-02 -6.86983850e-01 -4.46890764e-01\n",
      " -1.50119861e+00 -9.58021480e-01 -2.17164077e+00  1.67527136e-01\n",
      "  1.57138603e+00  9.80220545e-01 -6.73017469e-01 -1.18111774e+00\n",
      "  1.69253613e+00 -2.56192161e-01 -1.01510558e+00 -6.38534198e-01\n",
      "  5.09337868e-01 -8.62321261e-01  1.53630644e-01  2.08885796e-01\n",
      "  1.13499936e-02 -1.04336582e+00  1.91829495e-01 -4.14372656e-02\n",
      " -2.19790773e-01  5.14099289e-02 -3.71170616e-01 -2.28583351e+00\n",
      " -1.06786634e+00 -8.17811585e-01 -1.27292803e-01 -5.58800677e-01\n",
      " -4.59371280e-01  6.48273215e-01 -2.28557453e-01 -4.60213501e-01\n",
      " -7.38155569e-01  7.03161223e-02  1.63435067e+00  3.05178574e-01\n",
      " -7.97282328e-01  1.28936190e+00  1.44999728e-01 -6.19509456e-01\n",
      " -9.92245820e-01  3.37901043e-01  1.17438183e+00  5.46446427e-01\n",
      "  1.16010411e+00 -3.78194507e-01  7.02024014e-01  4.06838766e-01\n",
      "  7.52997853e-01  1.65841374e+00 -3.84347897e-01 -9.17326276e-01\n",
      " -4.41206968e-01 -2.36143514e-01 -3.13695563e-01 -1.15537166e-01\n",
      "  6.08591334e-01  4.35454364e-01  1.11132674e+00  1.84346976e+00\n",
      " -2.00894095e+00  1.35677619e+00 -1.28767296e+00 -2.33282851e-01\n",
      "  1.35517811e-01 -2.10926384e+00 -5.36723874e-02  1.85325619e+00\n",
      "  6.40891572e-01  1.21014711e+00 -1.62143745e+00  7.91234928e-01\n",
      " -1.11253280e+00 -6.77504974e-01  1.22430265e-01  4.25344081e-01\n",
      " -1.59259306e-01  1.01718861e+00  9.12866261e-01 -3.39221636e-01\n",
      " -2.08551327e+00  3.73495098e-01 -9.95585246e-01  9.74487830e-01\n",
      "  4.74783111e-01  8.56210197e-01  2.42934253e-01  6.93055565e-01\n",
      " -1.90049779e-01  6.13095800e-01  9.69524157e-01  1.11521902e+00\n",
      " -1.41153011e-01 -4.40487375e-02  6.54007223e-01  1.30932378e+00\n",
      "  2.38983143e+00  4.06279481e-01  1.75642667e-01  1.11148092e+00\n",
      "  1.00448766e+00 -6.34117700e-01  2.15816822e-01 -2.54410369e-01\n",
      "  1.24973446e+00  1.82420267e-01 -1.51056532e-01 -4.02954931e-01\n",
      "  1.17058502e+00  1.20683199e+00 -4.26718106e-01  6.75883487e-01\n",
      "  1.35586183e-01 -5.01948987e-01 -9.46571053e-01 -8.04977806e-01\n",
      " -1.05813985e-01  2.47250195e-01 -2.21805262e+00  5.36474595e-02\n",
      " -1.60359599e+00  9.08977993e-02  8.84648580e-01 -4.48321468e-01\n",
      "  6.89326568e-01 -9.23698419e-01  7.94562428e-01 -1.10176991e+00\n",
      " -4.01376911e-01  3.52185387e-01 -1.43024163e+00  9.34935080e-01\n",
      "  1.47140296e+00 -9.46390644e-01 -2.02576866e+00  5.72847814e-01\n",
      " -5.63272863e-01 -6.03212444e-01  3.22300805e-02 -9.98479804e-01\n",
      " -5.02128526e-01  2.50592137e-01  1.94214645e+00 -7.85271009e-01\n",
      " -8.75657578e-01  1.51150646e+00  1.02762970e+00 -1.96929751e+00]\n"
     ]
    },
    {
     "data": {
      "image/png": "[encoded data removed]",
      "text/plain": [
       "<Figure size 432x288 with 1 Axes>"
      ]
     },
     "metadata": {
      "needs_background": "light"
     },
     "output_type": "display_data"
    }
   ],
   "source": [
    "# if one one number is given it returns an array of a single row containing that amount of elements\n",
    "%matplotlib inline\n",
    "randn = np.random.randn(1000)\n",
    "print(randn)\n",
    "plt.hist(randn)\n",
    "plt.title('Gaussian Distribution of 1000 Numbers')\n",
    "plt.show()"
   ]
  },
  {
   "cell_type": "markdown",
   "metadata": {},
   "source": [
    "The numpy.random.randint code below was taken from [SciPy random.randint](https://docs.scipy.org/doc/numpy/reference/random/index.html?highlight=numpy%20random#module-numpy.random)"
   ]
  },
  {
   "cell_type": "code",
   "execution_count": 20,
   "metadata": {},
   "outputs": [
    {
     "name": "stdout",
     "output_type": "stream",
     "text": [
      "[2 6 1 4 3 4 0 6 0 2]\n",
      "10\n",
      "1\n",
      "int32\n"
     ]
    }
   ],
   "source": [
    "# numpy random.randint generates random integers of uniform distribution over [0,1), this size of the array is 10 items.\n",
    "\n",
    "a = np.random.randint(low = 0, high = 7, size = 10)\n",
    "\n",
    "print(a)\n",
    "print(a.size)\n",
    "print(a.ndim)\n",
    "print(a.dtype)"
   ]
  },
  {
   "cell_type": "markdown",
   "metadata": {},
   "source": [
    "### 2.2 Permutations"
   ]
  },
  {
   "cell_type": "markdown",
   "metadata": {},
   "source": [
    "## 3. Five Distribution Functions"
   ]
  },
  {
   "cell_type": "code",
   "execution_count": null,
   "metadata": {},
   "outputs": [],
   "source": []
  },
  {
   "cell_type": "markdown",
   "metadata": {},
   "source": [
    "## 4. Seeds in generating pseudorandom numbers"
   ]
  },
  {
   "cell_type": "code",
   "execution_count": null,
   "metadata": {},
   "outputs": [],
   "source": []
  },
  {
   "cell_type": "markdown",
   "metadata": {},
   "source": [
    "## References"
   ]
  },
  {
   "cell_type": "markdown",
   "metadata": {},
   "source": [
    " * Scipy Numpy Random Documentation https://docs.scipy.org/doc/numpy-1.16.1/reference/routines.random.html \n",
    " * Free Code Camp https://www.freecodecamp.org\n",
    " * Arrays in Memory http://faculty.tamuc.edu/dcreider/csci515/Note515/Note%203.htm\n",
    " * Numpy Basics https://docs.scipy.org/doc/numpy-1.16.0/user/basics.html\n",
    " * Creating Arrays in Numpy https://docs.scipy.org/doc/numpy-1.13.0/user/basics.creation.html\n",
    " * Creating links using Markdown https://stackoverflow.com/questions/2822089/how-to-link-to-part-of-the-same-document-in-markdown\n",
    " * Jupyter https://jupyter.org/"
   ]
  },
  {
   "cell_type": "code",
   "execution_count": null,
   "metadata": {},
   "outputs": [],
   "source": []
  }
 ],
 "metadata": {
  "kernelspec": {
   "display_name": "Python 3",
   "language": "python",
   "name": "python3"
  },
  "language_info": {
   "codemirror_mode": {
    "name": "ipython",
    "version": 3
   },
   "file_extension": ".py",
   "mimetype": "text/x-python",
   "name": "python",
   "nbconvert_exporter": "python",
   "pygments_lexer": "ipython3",
   "version": "3.7.1"
  }
 },
 "nbformat": 4,
 "nbformat_minor": 2
}

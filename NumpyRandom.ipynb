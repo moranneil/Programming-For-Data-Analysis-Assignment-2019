{
 "cells": [
  {
   "cell_type": "markdown",
   "metadata": {},
   "source": [
    "# Numpy Random Package\n",
    "\n",
    "\n",
    "\n",
    "<img src='NJP-Symbols.jpg' />\n",
    "\n",
    "This is an investigation in to the Numpy random package. This investigation is divided in to four parts see links below. There is also a Reference section that provides a list of links used in this investigation.\n",
    "\n",
    "[1. Introduction to Numpy random](#1.-Introduction-to-Numpy-random)\n",
    "\n",
    "[2. Simple random data & Permutations](#2.-Simple-random-data-&-Permutations)\n",
    "\n",
    "[3. Five Distribution Functions](#3.-Five-Distribution-Functions)\n",
    "\n",
    "[4. Seeds in generating pseudorandom numbers](#4.-Seeds-in-generating-pseudorandom-numbers)\n",
    "\n",
    "[References](#References)\n"
   ]
  },
  {
   "cell_type": "markdown",
   "metadata": {},
   "source": [
    "## 1. Introduction to Numpy and Numpy random"
   ]
  },
  {
   "cell_type": "markdown",
   "metadata": {},
   "source": [
    "#### Numpy\n",
    "\n",
    "- Numpy is a multidimensional array library, it can create and manliplate multiple sizes of arrays for example 1-dimensional (1D), 2D & 3D... arrays.\n",
    "- Numpy arrays are a very efficient incomparsion to lists for the following reasons\n",
    " * Numpy uses less memory to store arrays.\n",
    " * Any one Numpy array is of the same data type so no type checking is required this is not a case with lists.\n",
    " * Numpy uses contigious memory blocks to store array values this allows SIMD (Single Instruction Multiple Data) vector processing to perform multiple calulations of arrays that are sequentially stored in memory, this allows for more efficent CPU usage in processing calculations for arrays. Its also allows for efficient cache usage. \n",
    "\n",
    "#### Numpy Random\n",
    "\n",
    "- Numpy random is a sub package of the Numpy\n",
    "- Numpy random package is a way of generating random numbers or psuedo random numbers for computers\n",
    "- Generates arrays of numbers, arrays are a grouping of homogenous data types, the data element have to be of the same type.\n",
    "- Usually don't use Numpy directly its usually used with other packages such as pandas or SciPy"
   ]
  },
  {
   "cell_type": "code",
   "execution_count": 1,
   "metadata": {},
   "outputs": [],
   "source": [
    "# To start this investigation the Numpy package is imported as np & matplotlib.pyplot package is imported a plt\n",
    "\n",
    "import numpy as np\n",
    "import matplotlib.pyplot as plt"
   ]
  },
  {
   "cell_type": "markdown",
   "metadata": {},
   "source": [
    "* The next few functions will demonstrate how Numpy generates simple arrays and functions that will give information on these arrays."
   ]
  },
  {
   "cell_type": "markdown",
   "metadata": {},
   "source": [
    "#### Create 1-Dimensional Array\n",
    "*Reference: https://docs.scipy.org/doc/numpy/user/quickstart.html*"
   ]
  },
  {
   "cell_type": "code",
   "execution_count": 2,
   "metadata": {},
   "outputs": [],
   "source": [
    "#Creating array and assign it to x, created integers as 16bit (2 Bytes) instead of 32int default (4bytes)\n",
    "x = np.array([2, 3], dtype='int16')"
   ]
  },
  {
   "cell_type": "code",
   "execution_count": 3,
   "metadata": {},
   "outputs": [
    {
     "data": {
      "text/plain": [
       "2"
      ]
     },
     "execution_count": 3,
     "metadata": {},
     "output_type": "execute_result"
    }
   ],
   "source": [
    "#Prints the 1st value of array x\n",
    "x[0]"
   ]
  },
  {
   "cell_type": "code",
   "execution_count": 4,
   "metadata": {},
   "outputs": [
    {
     "data": {
      "text/plain": [
       "3"
      ]
     },
     "execution_count": 4,
     "metadata": {},
     "output_type": "execute_result"
    }
   ],
   "source": [
    "#Prints the 2nd value of array x\n",
    "x[1]"
   ]
  },
  {
   "cell_type": "code",
   "execution_count": 5,
   "metadata": {},
   "outputs": [
    {
     "data": {
      "text/plain": [
       "1"
      ]
     },
     "execution_count": 5,
     "metadata": {},
     "output_type": "execute_result"
    }
   ],
   "source": [
    "#Print the dimension of array x, dimension of the array is 1D\n",
    "x.ndim"
   ]
  },
  {
   "cell_type": "code",
   "execution_count": 6,
   "metadata": {},
   "outputs": [
    {
     "data": {
      "text/plain": [
       "dtype('int16')"
      ]
     },
     "execution_count": 6,
     "metadata": {},
     "output_type": "execute_result"
    }
   ],
   "source": [
    "#Prints array size as defined in above, if dtype int16 is not specified 'int32' is default for integers \n",
    "x.dtype"
   ]
  },
  {
   "cell_type": "code",
   "execution_count": 7,
   "metadata": {},
   "outputs": [
    {
     "data": {
      "text/plain": [
       "2"
      ]
     },
     "execution_count": 7,
     "metadata": {},
     "output_type": "execute_result"
    }
   ],
   "source": [
    "#Prints the item size of the array in bytes, as its int 16 each value is 2 Bytes\n",
    "x.itemsize"
   ]
  },
  {
   "cell_type": "code",
   "execution_count": 8,
   "metadata": {},
   "outputs": [
    {
     "data": {
      "text/plain": [
       "4"
      ]
     },
     "execution_count": 8,
     "metadata": {},
     "output_type": "execute_result"
    }
   ],
   "source": [
    "# Prints the total size of the array in Bytes. This is 4 Bytes, ie two 16 bit integer values.\n",
    "x.nbytes"
   ]
  },
  {
   "cell_type": "markdown",
   "metadata": {},
   "source": [
    "#### Create 2-Dimensional Array"
   ]
  },
  {
   "cell_type": "code",
   "execution_count": 9,
   "metadata": {},
   "outputs": [
    {
     "name": "stdout",
     "output_type": "stream",
     "text": [
      "[[1 2 3 4]\n",
      " [5 6 7 8]]\n"
     ]
    }
   ],
   "source": [
    "# Create an 2D array assign it to y\n",
    "y = np.array([[1,2,3,4],[5,6,7,8]])\n",
    "print(y)"
   ]
  },
  {
   "cell_type": "code",
   "execution_count": 10,
   "metadata": {},
   "outputs": [
    {
     "data": {
      "text/plain": [
       "2"
      ]
     },
     "execution_count": 10,
     "metadata": {},
     "output_type": "execute_result"
    }
   ],
   "source": [
    "#Print the dimension of array y, dimension of the array is 2D\n",
    "y.ndim"
   ]
  },
  {
   "cell_type": "code",
   "execution_count": 11,
   "metadata": {},
   "outputs": [
    {
     "name": "stdout",
     "output_type": "stream",
     "text": [
      "7\n"
     ]
    }
   ],
   "source": [
    "#Prints the 2rd value in the 2nd row of array y, indexing of arrays start at 0\n",
    "print(y[1,2])"
   ]
  },
  {
   "cell_type": "code",
   "execution_count": 12,
   "metadata": {},
   "outputs": [
    {
     "data": {
      "text/plain": [
       "array([1, 2, 3, 4])"
      ]
     },
     "execution_count": 12,
     "metadata": {},
     "output_type": "execute_result"
    }
   ],
   "source": [
    "#Prints the entire first row of the array\n",
    "y[0, :]"
   ]
  },
  {
   "cell_type": "code",
   "execution_count": 13,
   "metadata": {},
   "outputs": [
    {
     "data": {
      "text/plain": [
       "(2, 4)"
      ]
     },
     "execution_count": 13,
     "metadata": {},
     "output_type": "execute_result"
    }
   ],
   "source": [
    "#Prints out the shape of array y two rows with 4 columns\n",
    "np.shape(y)"
   ]
  },
  {
   "cell_type": "code",
   "execution_count": 14,
   "metadata": {},
   "outputs": [
    {
     "data": {
      "text/plain": [
       "dtype('int32')"
      ]
     },
     "execution_count": 14,
     "metadata": {},
     "output_type": "execute_result"
    }
   ],
   "source": [
    "#Prints array size as defined in above, there is not dtype defined in the array so it should be 'int32' bt default\n",
    "y.dtype"
   ]
  },
  {
   "cell_type": "code",
   "execution_count": 15,
   "metadata": {},
   "outputs": [
    {
     "data": {
      "text/plain": [
       "4"
      ]
     },
     "execution_count": 15,
     "metadata": {},
     "output_type": "execute_result"
    }
   ],
   "source": [
    "#Prints the item size of the array in bytes, its default int32 so its 4 Bytes\n",
    "y.itemsize"
   ]
  },
  {
   "cell_type": "code",
   "execution_count": 16,
   "metadata": {},
   "outputs": [
    {
     "data": {
      "text/plain": [
       "32"
      ]
     },
     "execution_count": 16,
     "metadata": {},
     "output_type": "execute_result"
    }
   ],
   "source": [
    "# Prints the total size of the array in Bytes. This is 8 values @ 4Bytes each = 32 Bytes\n",
    "y.nbytes"
   ]
  },
  {
   "cell_type": "markdown",
   "metadata": {},
   "source": [
    "#### Create 3-Dimensional Array"
   ]
  },
  {
   "cell_type": "code",
   "execution_count": 17,
   "metadata": {},
   "outputs": [
    {
     "name": "stdout",
     "output_type": "stream",
     "text": [
      "[[[ 1  2  3]\n",
      "  [ 4  5  6]]\n",
      "\n",
      " [[ 7  8  9]\n",
      "  [10 11 12]]]\n"
     ]
    }
   ],
   "source": [
    "z = np.array([[[1,2,3],[4,5,6]],[[7,8,9],[10,11,12]]])\n",
    "print(z)"
   ]
  },
  {
   "cell_type": "code",
   "execution_count": 18,
   "metadata": {},
   "outputs": [
    {
     "data": {
      "text/plain": [
       "3"
      ]
     },
     "execution_count": 18,
     "metadata": {},
     "output_type": "execute_result"
    }
   ],
   "source": [
    "#Print the dimension of array z, dimension of the array is 3D\n",
    "z.ndim"
   ]
  },
  {
   "cell_type": "code",
   "execution_count": 19,
   "metadata": {},
   "outputs": [
    {
     "data": {
      "text/plain": [
       "(2, 2, 3)"
      ]
     },
     "execution_count": 19,
     "metadata": {},
     "output_type": "execute_result"
    }
   ],
   "source": [
    "#Prints the size of the 3D array\n",
    "np.shape(z)"
   ]
  },
  {
   "cell_type": "code",
   "execution_count": 20,
   "metadata": {},
   "outputs": [
    {
     "name": "stdout",
     "output_type": "stream",
     "text": [
      "8\n"
     ]
    }
   ],
   "source": [
    "# Access values in the 3D array, work from the outside sq brackets in\n",
    "# For example to access number 8, the 1st value would be either 0 or 1 8 is in the 2nd group so its 1, after that is just 2D array (r,c) so (0,1)\n",
    "print(z[1, 0, 1])"
   ]
  },
  {
   "cell_type": "code",
   "execution_count": 21,
   "metadata": {},
   "outputs": [
    {
     "name": "stdout",
     "output_type": "stream",
     "text": [
      "[2 8]\n"
     ]
    }
   ],
   "source": [
    "# Print the value 1st row and 2nd column from both groups\n",
    "print(z[:, 0, 1])"
   ]
  },
  {
   "cell_type": "markdown",
   "metadata": {},
   "source": [
    "#### Numpy Arrange \n",
    "*Reference https://docs.scipy.org/doc/numpy/reference/generated/numpy.arange.html*\n",
    "\n",
    "Numpy arrange creates an array of sequential numbers. The notation is given below\n",
    "* numpy.arange(start, stop, step, dtype)"
   ]
  },
  {
   "cell_type": "code",
   "execution_count": 22,
   "metadata": {},
   "outputs": [
    {
     "name": "stdout",
     "output_type": "stream",
     "text": [
      "[0 1 2 3 4 5 6 7 8 9]\n"
     ]
    },
    {
     "data": {
      "text/plain": [
       "dtype('int32')"
      ]
     },
     "execution_count": 22,
     "metadata": {},
     "output_type": "execute_result"
    }
   ],
   "source": [
    "# Creates a number range from 0 to 9 steps in 1 with int32 as the default type for whole numbers\n",
    "arrint = np.arange(10)\n",
    "print(arrint)\n",
    "arrint.dtype"
   ]
  },
  {
   "cell_type": "code",
   "execution_count": 23,
   "metadata": {},
   "outputs": [
    {
     "name": "stdout",
     "output_type": "stream",
     "text": [
      "[2.  2.5 3.  3.5 4.  4.5]\n"
     ]
    },
    {
     "data": {
      "text/plain": [
       "dtype('float32')"
      ]
     },
     "execution_count": 23,
     "metadata": {},
     "output_type": "execute_result"
    }
   ],
   "source": [
    "arrfloats = np.arange(2, 5, 0.5, 'float32')\n",
    "print(arrfloats)\n",
    "arrfloats.dtype"
   ]
  },
  {
   "cell_type": "code",
   "execution_count": 24,
   "metadata": {},
   "outputs": [],
   "source": [
    "#This is a random (float) number generator of uniform distribution over [0,1) in the example the array dimensions are 4 rows x 3 columns\n",
    "a = np.random.rand(4,3)\n"
   ]
  },
  {
   "cell_type": "markdown",
   "metadata": {},
   "source": [
    "## 2. Simple random data & Permutations\n",
    "\n",
    "In this section we will investigate a few simple random data and Permutation functions.\n",
    "\n",
    "### 2.1 Simple random data\n",
    "\n",
    "To illustrate simple random data in numpy the following functions are discussed\n",
    "\n",
    "- *numpy.random.rand*\n",
    "- *numpy.random.randn*\n",
    "\n",
    "This is part of the simple random data sampling, this function uses uniform distribution, the code and plots in this section show the difference between *random.rand* with uses uniform distribution and *random.randn* which uses normal or Gaussian distribution.\n"
   ]
  },
  {
   "cell_type": "markdown",
   "metadata": {},
   "source": [
    "#### random.rand\n",
    "\n",
    "*Reference https://docs.scipy.org/doc/numpy-1.16.1/reference/generated/numpy.random.rand.html*\n",
    "\n",
    "As outlined this function will return a random numbers between 0 and 1, the values returned can include 0 but don't include 1 this is denoted by [0,1) uses uniform distribution, we will look at the format of the function and give a few examples together with plots.\n",
    "\n",
    "The format of the function is as follows:\n",
    "\n",
    "np.random.rand(r,c) the parameters passed are the shape of the resulting random array rows and columns, the data type is floating point numbers, if no parameters are passed one floating point number between and including 0 and 1 but not including one.\n",
    " "
   ]
  },
  {
   "cell_type": "code",
   "execution_count": 25,
   "metadata": {},
   "outputs": [
    {
     "data": {
      "text/plain": [
       "0.8438837481238088"
      ]
     },
     "execution_count": 25,
     "metadata": {},
     "output_type": "execute_result"
    }
   ],
   "source": [
    "#If no argument is given a single floating point number [0,1) between 0 & 1 (not including 1) is returned\n",
    "np.random.rand()"
   ]
  },
  {
   "cell_type": "code",
   "execution_count": 26,
   "metadata": {},
   "outputs": [
    {
     "data": {
      "image/png": "[encoded data removed]",
      "text/plain": [
       "<Figure size 432x288 with 1 Axes>"
      ]
     },
     "metadata": {
      "needs_background": "light"
     },
     "output_type": "display_data"
    },
    {
     "data": {
      "text/plain": [
       "dtype('float64')"
      ]
     },
     "execution_count": 26,
     "metadata": {},
     "output_type": "execute_result"
    }
   ],
   "source": [
    "#This function returns an array with dimensions 5 rows by 5 columns, again the range of values is [0,1)\n",
    "rand1 = np.random.rand(20,20)\n",
    "# This is a magic command to display the plot\n",
    "%matplotlib inline \n",
    "#10 x 10 matrix is not printed as it takes up a lot of room\n",
    "plt.hist(rand1)\n",
    "plt.title(\"Uniform Distribution of 20x20 Matrix\")\n",
    "plt.xlabel(\"Values in the range [0,1)\")\n",
    "plt.ylabel(\"Number of values\")\n",
    "plt.show()\n",
    "rand1.dtype"
   ]
  },
  {
   "cell_type": "code",
   "execution_count": 27,
   "metadata": {},
   "outputs": [
    {
     "data": {
      "image/png": "[encoded data removed]",
      "text/plain": [
       "<Figure size 432x288 with 1 Axes>"
      ]
     },
     "metadata": {
      "needs_background": "light"
     },
     "output_type": "display_data"
    },
    {
     "data": {
      "text/plain": [
       "dtype('float64')"
      ]
     },
     "execution_count": 27,
     "metadata": {},
     "output_type": "execute_result"
    }
   ],
   "source": [
    "# If one number is given it returns a 1-dimensional array of a single row containing that amount of numbers with values [0,1), the random numbers between 0,1 are\n",
    "# This is a magic command to display the plot\n",
    "%matplotlib inline \n",
    "rand2 = np.random.rand(1000)\n",
    "#rand2 array is not printed to screen as it takes up too much space, the array is plotted instead to demonstrate the Uniform Distribution of values\n",
    "plt.hist(rand2)\n",
    "plt.title(\"Uniform Distribution of 1000 Numbers\")\n",
    "plt.xlabel(\"Values in the range [0,1)\")\n",
    "plt.ylabel(\"Number of values\")\n",
    "plt.show()\n",
    "rand2.dtype"
   ]
  },
  {
   "cell_type": "markdown",
   "metadata": {},
   "source": [
    "### random.randn\n",
    "\n",
    "*Reference https://www.geeksforgeeks.org/numpy-random-randn-python/*\n",
    "\n",
    "The numpy.random.randn(d0, d1, …, dn) function creates an array of the specified shape depending on what values inputted, the values returned are standard normal(Guassian) distribution of mean 0 and variance 1\n",
    "\n"
   ]
  },
  {
   "cell_type": "code",
   "execution_count": 28,
   "metadata": {},
   "outputs": [
    {
     "data": {
      "text/plain": [
       "-0.07146071301207867"
      ]
     },
     "execution_count": 28,
     "metadata": {},
     "output_type": "execute_result"
    }
   ],
   "source": [
    "#If no argument is given a single floating point number is returned\n",
    "np.random.randn()"
   ]
  },
  {
   "cell_type": "code",
   "execution_count": 29,
   "metadata": {},
   "outputs": [
    {
     "data": {
      "image/png": "[encoded data removed]",
      "text/plain": [
       "<Figure size 432x288 with 1 Axes>"
      ]
     },
     "metadata": {
      "needs_background": "light"
     },
     "output_type": "display_data"
    }
   ],
   "source": [
    "# This function produces a 50 row x 50 column matrix\n",
    "randn1 = np.random.randn(50,50)\n",
    "#Matrix is ot printed as it takes up to much space\n",
    "# This is a magic command to display the plot\n",
    "%matplotlib inline\n",
    "plt.hist(randn1)\n",
    "plt.title('Gaussian Distribution of 50,50 Matrix')\n",
    "plt.xlabel(\"Values are concentrated around 0\")\n",
    "plt.ylabel(\"Number of values\")\n",
    "plt.show()"
   ]
  },
  {
   "cell_type": "markdown",
   "metadata": {},
   "source": [
    "#### The graph above demonstrates the Guassian distribution of values in the random.randn function, the values are concentrated around 0 and filter out each side given this bell shaped curve. The more numbers there is the more defined the curve. This can also been seen on the 1000 numbers below "
   ]
  },
  {
   "cell_type": "code",
   "execution_count": 30,
   "metadata": {},
   "outputs": [
    {
     "data": {
      "image/png": "[encoded data removed]",
      "text/plain": [
       "<Figure size 432x288 with 1 Axes>"
      ]
     },
     "metadata": {
      "needs_background": "light"
     },
     "output_type": "display_data"
    }
   ],
   "source": [
    "# If one number is given it returns a 1-dimensional array of a single row containing that amount of numbers with values centered around 0\n",
    "# This is a magic command to display the plot\n",
    "%matplotlib inline\n",
    "randn2 = np.random.randn(1000)\n",
    "#The array is not printed as it takes up too much room\n",
    "plt.hist(randn2)\n",
    "plt.title('Gaussian Distribution of 1000 Numbers')\n",
    "plt.show()"
   ]
  },
  {
   "cell_type": "markdown",
   "metadata": {},
   "source": [
    "The numpy.random.randint code below was taken from [SciPy random.randint](https://docs.scipy.org/doc/numpy/reference/random/index.html?highlight=numpy%20random#module-numpy.random)"
   ]
  },
  {
   "cell_type": "code",
   "execution_count": 31,
   "metadata": {
    "scrolled": true
   },
   "outputs": [
    {
     "name": "stdout",
     "output_type": "stream",
     "text": [
      "[4 3 4 6 0 3 1 4 0 4]\n",
      "10\n",
      "1\n",
      "int32\n"
     ]
    }
   ],
   "source": [
    "# numpy random.randint generates random integers of uniform distribution over [0,1), this size of the array is 10 items.\n",
    "\n",
    "a = np.random.randint(low = 0, high = 7, size = 10)\n",
    "\n",
    "print(a)\n",
    "print(a.size)\n",
    "print(a.ndim)\n",
    "print(a.dtype)"
   ]
  },
  {
   "cell_type": "markdown",
   "metadata": {},
   "source": [
    "### 2.2 Permutations\n",
    "\n",
    "They are two types of Permutation functions in Numpy\n",
    "\n",
    "- Permutation\n",
    "- Shuffle\n",
    "\n",
    "The difference between the two functions is: \n"
   ]
  },
  {
   "cell_type": "markdown",
   "metadata": {},
   "source": [
    "#### Permutation\n",
    "\n",
    "Randomly permute a sequence, or return a permuted range. You can define a new array with a permutation of the original array see Permutation code below\n",
    "\n",
    "*Reference https://docs.scipy.org/doc/numpy-1.16.1/reference/generated/numpy.random.permutation.html*"
   ]
  },
  {
   "cell_type": "code",
   "execution_count": 32,
   "metadata": {},
   "outputs": [
    {
     "name": "stdout",
     "output_type": "stream",
     "text": [
      "The original array 'p' is [1 2 3]\n",
      "The permuted new array 'perm' is [1 3 2]\n"
     ]
    }
   ],
   "source": [
    "# p is the original simple array 1,2,3 and is printed out to the screen\n",
    "p = np.array([1,2,3,])\n",
    "print(\"The original array 'p' is\",p)\n",
    "#perm is a new array as a permutation of the original array 'p'\n",
    "perm = np.random.permutation(p)\n",
    "print(\"The permuted new array 'perm' is\",perm)\n"
   ]
  },
  {
   "cell_type": "markdown",
   "metadata": {},
   "source": [
    "#### Shuffle\n",
    "\n",
    "Modify a sequence in-place by shuffling its contents. You can't define a new variable with a shuffle, you can only shuffle the values of the original array see Shuffle code below\n",
    "\n",
    "*Reference https://docs.scipy.org/doc/numpy-1.16.1/reference/generated/numpy.random.shuffle.html*"
   ]
  },
  {
   "cell_type": "code",
   "execution_count": 33,
   "metadata": {},
   "outputs": [
    {
     "name": "stdout",
     "output_type": "stream",
     "text": [
      "The original array 's' is [1 2 3]\n",
      "The shuffled original sequence 's' is [2 3 1]\n"
     ]
    }
   ],
   "source": [
    "s = np.array([1,2,3])\n",
    "print(\"The original array 's' is\",s)\n",
    "np.random.shuffle(s)\n",
    "print(\"The shuffled original sequence 's' is\",s)"
   ]
  },
  {
   "cell_type": "code",
   "execution_count": null,
   "metadata": {},
   "outputs": [],
   "source": []
  },
  {
   "cell_type": "markdown",
   "metadata": {},
   "source": [
    "## 3. Five Distribution Functions\n",
    "\n",
    "The five Numpy random distribution functions that are covered in this investigation are as follows\n",
    "\n",
    "- Binomial Distribution\n",
    "- Exponent Distribution\n",
    "- Uniform Distribution\n",
    "- Normal Distribution\n",
    "- Power Distribution\n"
   ]
  },
  {
   "cell_type": "markdown",
   "metadata": {},
   "source": [
    "### 3.1 Binomial Distribution"
   ]
  },
  {
   "cell_type": "code",
   "execution_count": 34,
   "metadata": {},
   "outputs": [
    {
     "name": "stdout",
     "output_type": "stream",
     "text": [
      "[ 4  6  7  7 10  7  9 10  7  8  9 10  9  8  9  8  9  9  7  8  8  9  5  7\n",
      "  8  9  8  7 10  8  9  9  9  6  8  6  5  8  6  5  9  8  7  8  8  7  7  8\n",
      "  6  8  8  8 10  7  7  8  8  9  9 10  8  7 10  7  9  9  8  8  9  8  9  9\n",
      " 10  6 10  8  6  7  4  8  7  8  5  8  7  9  8  9  8  8  7  5  6  5  8  8\n",
      "  7  9  9  7  9  8  7  8  9  8  9  9  7  9  8  7 10  9  8  8  8  7  9  7\n",
      "  9  9  7  8  7  7  9  5  9  8  7  8  8  8  8  8  8  8  8  9  8  9 10  9\n",
      "  9  8  6  9  8  9  7 10  7  7  7  8  7  6  8  9 10  8  8 10  6  8  7  7\n",
      "  8  6  8  8  8  9 10  8  7  8  9  8  9  9  8  9  7  8  8  8  8  8  8  7\n",
      "  7  9  8  9  8  9  8  7  7  9  9  9 10  7 10  9  7  7  8  7  5  7  6 10\n",
      "  5  5  6  9 10 10  8  7  6  9  9  9  8  9  7  4  8  9 10  9 10  9  9  7\n",
      "  9  8 10  9  9  9 10  8  8  8  8  8  9  9  9  8  9  7  7  9  8  7  7  9\n",
      "  6  8  7  6 10  9  7  7  9  7  8  6  8  9  8 10  8  9  7  6  7 10  9  8\n",
      "  9  9  9  9  9  7 10 10  8  7  6  7  9  9  9  7  4  6 10  5 10  7  9  9\n",
      "  9  8  8  7  8  9  9  8 10  7  9  8  7  7  9  8  8  8 10  9  6 10  9  9\n",
      "  8 10  8  9  8  6  9  7  6  9 10  8 10  8  9  9  9  7  8 10  8  8  9  8\n",
      "  7  8 10  5  7  7  7  7  6  7 10  6  7  8  9  8  9  7  9  7  6  9  9 10\n",
      "  8  7  9  9 10 10  8  9  4  8  6  8  6  7  6  8  8  8  7  9  9  9  8  6\n",
      " 10  6  8 10  9  8  9  9  6  6  9  9  7  9  7  7  9  7  6  6  7  9  9  9\n",
      "  8 10  9 10  8  7  7 10  7  7 10  7  3  8  6  6  8  6  6  9  9  8  9  9\n",
      "  6 10  8  7  9  9  8  7  7  9  6  7  7  9  8 10  6  8  9  8  9  6 10  8\n",
      "  7  7  9 10  9  6  8  8  9  7  7  6  8  8  8  9  9  7 10  9  9  8  8 10\n",
      "  8  7  7  7 10  5  7  9  9  9  9  9 10  6  8  8  7 10  6 10  9  8  8  8\n",
      "  8  8  8  8  7  9  6  7  8 10  7  9  8  9  8 10 10 10  7  8  6  8  9 10\n",
      "  7  7  9  8  9  7  7  7  9  6  6  9  6  9  8  7  9  5  8  8  9  7  5  8\n",
      "  8  8  9  8  8  9  5  7  9  9  9  7  9  8  6 10  7 10  9  8  6  9  7  8\n",
      "  7  7  9  7  8  6  6  9  9 10  9  8  8  8  8 10  7  7  8  9  5  8  9  8\n",
      " 10  8  6  8  8  8  7  7  7  7  8  9  9  6  6  9  8  7  6  6  9 10  8 10\n",
      "  6  8  6  9  9  9  7 10  8  7  8  8 10  8 10  8  7  8  8  6  7  5 10  9\n",
      "  7  9  9  7  8  8  6  7  9  9  9  7  7  9  7 10  6  8  8  9  9 10  8 10\n",
      "  8  8  6  9 10  7 10  9  8  6 10  8  4  7 10  7  8  9 10 10  8  9  6  9\n",
      "  8  7  8  7 10  8  9 10  5  9  6  8  7  9  5  9  9 10 10  7  7 10 10  8\n",
      "  9  8  7  7  8  8 10  8  9  6  8  7  9  8 10  7  9  9  7  8  8  7  6  5\n",
      "  8  8  8  7  8  7  9  7  8 10  9  8  9  7 10  9 10  7  7 10  7 10  8  6\n",
      "  8  7  8  7  8 10  9 10  7  7  8  7  9  8  8  8  8  9  8  6  9  7  7  8\n",
      "  8  7  6  8  9  9  7  6  9  8  6  5  8  8 10  9  9  7  6  7 10  7  7  9\n",
      "  6  9  8  8  7  8  9  9 10  8 10  8  8  7  9  7  8  9  8  7  9  8  8  9\n",
      "  9  7  7  8  8  7  9  7  9  8 10  7  9  8  8  8  7 10  8 10  9  9  9  5\n",
      "  8  6  9  7 10  8  7  8  7  9  6  9  9  8  8  8  8  9  8  9  9  8  9  7\n",
      "  8 10 10 10  8  8  8 10  7  9  9  9  9  9 10  8  8  6  7  9  9  9  7  8\n",
      " 10  7  9  9  7  9  9  7  7  8  6  8  8  9  9  9  8  8  9  9  7 10 10  9\n",
      "  8  9  7  8  8  7  8  7  7  7  7  8  6  8  9  7  6  8  8  7  7  9 10 10\n",
      "  8  9  7  9  8  8  9  8  9  8  9  9  8  6  9  9]\n"
     ]
    },
    {
     "data": {
      "image/png": "[encoded data removed]",
      "text/plain": [
       "<Figure size 432x288 with 1 Axes>"
      ]
     },
     "metadata": {
      "needs_background": "light"
     },
     "output_type": "display_data"
    }
   ],
   "source": [
    "bino = np.random.binomial(10,.8,1000)\n",
    "print(bino)\n",
    "%matplotlib inline\n",
    "plt.hist(bino)\n",
    "plt.show()\n"
   ]
  },
  {
   "cell_type": "markdown",
   "metadata": {},
   "source": [
    "### 3.2 Logseries Distribution"
   ]
  },
  {
   "cell_type": "code",
   "execution_count": 35,
   "metadata": {},
   "outputs": [
    {
     "name": "stdout",
     "output_type": "stream",
     "text": [
      "[ 2  1  1  2  1  1 13  2  2  1  1  1  4  2  6  5  5 13 20  5  3 13 10  2\n",
      " 14  1 10  1  2  1  1  2 33  1  4 11  2  1  1  1  1  1  4  1 28  3  1  2\n",
      "  1  1  1  1  1  1  1  1  1  1  3  5  1  4  1  3 32  1  5  5  1  3  2 14\n",
      "  3  1  2  1  1  1  1  1  5  1  1  1  1  1  4  9  2 13  3  4  1 19  1  6\n",
      "  1  3 11  4  1  3  5  3  4  1  5  1 11 10  1  1  2  2  2  6  4  4  4  9\n",
      "  1 25  2  5  4  1  1  3 10  5  1  1  1  1  3  6  9  1  1 10  1  1 20  1\n",
      "  4  6 10  1  1  8 23  3  2  1 18  1  1  2  1  1  2  1  2  2  1  1  4  3\n",
      "  2  1  1  2  1  9  1  1  5 14  1  8  1  2  1  2  4  3  3  9  1 18  1  8\n",
      "  2  4  8  2  2  6 13  3  1  1  8  8  8  4  4  2 22  2  2  1  1  1  6  4\n",
      "  5  6  1  2  3  2  1  8  2  1  3  1  1  1  5  2  1  2  1  1  2  3 31  2\n",
      "  1  3 14  1 14 10  1  1  1  1  7  1  1  3  3  1  1 14  3  3  1  5  5 28\n",
      " 10  4  2  1 14 15  3  4  4  6  3  2  1  6  4  1  2  7  2  1  1 12  2  1\n",
      "  1  6 11  3  1 23  1  6  2  1  5  1  1  1  1  1  2 10  1  3  8  2  1  2\n",
      "  1  1  2 18  1  1 12  2  1  2  3  2  1  1  1  2  1  1  1  2  4  2  2  2\n",
      "  1  1  3  9 12  4  1  1  1  2  1  4  1  5  1  2  7  6  3 11 10  6  1  6\n",
      "  2  2  1  4  3  1  3  3  2  1  2 11  1  9  4  1  1  1 38  2  5  1  1  3\n",
      "  1  1  1  1  4  5  1  7  9  2  1  1  1  1  9  4  4  2  1  1  2  1  2 17\n",
      "  1  3  2  1  4  5  2  7  2  1  3  1  8  2  2  1  1  5  1  7  1  2  3  1\n",
      "  1  2 18  5  1  1  6  2  1  3 13  1  1  2  1  4  1  1  3  1  1  1  2  3\n",
      "  1  1  1  2  1  6  4  1 11  3  4  1  8  1  1  2  2  9  2  1  9  1  3  1\n",
      "  1  2  1  6  1  1  5  3 11  9  1  2  3  3  4  1  2  1  1  2 10  9 10  2\n",
      " 18  6  1  2  3  1  1  4  3  1  2  1  1  2 16  2  4 12  2  1  2  5  7  5\n",
      "  1  3  1  2  3  5  1  3 14  1  5  6  1  2  6  2 12  2  1  8  8  4  6 11\n",
      " 14  3 11  1  1  1  4  1  3  1  1  3  1  2  8  2  8  1  2  1  1  1  1  1\n",
      "  2  3  1  8  2  4  2  1 23  1  2 18  1  1  2  4  7  7  8  6 13  5  6  3\n",
      "  8  1  8  9  2  1  3  6  3  4 23  5  1  1  8  4 16  1 15  2  1  1  1  2\n",
      "  9  1 11  1  2  1  9  1  5  1  1  2  3  9  4 25  5  2  1  1  1  1  8  1\n",
      "  2  1  2  1  5  2  5  1  2  1  6  3  3  6 10  1  1  3  3  2  5  4  1  1\n",
      "  1  1  4  1  1  2  5  6  4  1  2  4  1  1  4  1  1  2  1  1 19  1  2  1\n",
      "  7  1 15  1  4  2  3  3  6 10  1  1  1  1  9 21  1  3  3  1  1  1  1  3\n",
      "  4  1  1  1  3  1  5  1 10  1  1  1  2  1  1  1  3 19  3  1  1  9  2  8\n",
      "  8  2  3 10  2  2  1  1  9  1  2  3  9  1  1  3  7  4  1  6  3  1 12  6\n",
      "  1  4  1  8  4  5  3  1 17  1  1  2  1  2 10  3  5  2  1  1  1  1  4  1\n",
      "  1  1  8 37  4  1  5  2  2  4  2  1  3  1  3  2 15 10  2  6  8  2  2  1\n",
      "  2  6  1  1  1  2  8 23  1  1  1 13  1 26  2 15 19  7  1  1  1  1  5  3\n",
      "  3 13  2  3  1 10  1  1  1  3  3  1  4  2  3  2  4  9  5  5  1  6  6  6\n",
      "  2 48  1  1  1  1  2 25  1  1  1  2  1 21  1  1 28  3  1  8 12  3  1  4\n",
      "  1  1  1  1  4  4  1  1  1  1  1  3 21  1 11  7 23  1  1  1  1  1  1  7\n",
      "  5  1  1 13  4  7  5  1  1  6  1  1  3 15  4  5  1  1  6  2  2  4  1  1\n",
      "  5  2  3  3  1  3  2  1 10 15  3  1  5  2  1  6  1  1  1  5  9  2  1  2\n",
      "  4  2  3  4  5  2  1  3  2  4  2  2  4  1  3 21  1  3  5  1 18  1  2  8\n",
      "  1  3  1  1  3  4 12  1  1  1  3  2  2  2  1  3]\n"
     ]
    },
    {
     "data": {
      "image/png": "[encoded data removed]",
      "text/plain": [
       "<Figure size 432x288 with 1 Axes>"
      ]
     },
     "metadata": {
      "needs_background": "light"
     },
     "output_type": "display_data"
    }
   ],
   "source": [
    "logser = np.random.logseries(.9, 1000)\n",
    "print(logser)\n",
    "%matplotlib inline\n",
    "plt.hist(logser)\n",
    "plt.show()"
   ]
  },
  {
   "cell_type": "markdown",
   "metadata": {},
   "source": [
    "## 4. Seeds in generating pseudorandom numbers"
   ]
  },
  {
   "cell_type": "markdown",
   "metadata": {},
   "source": [
    "In Numpy a seed is a value that is one of the key inputs to a Numpy random function, in generating a pseudorandom sequence of numbers. \n",
    "\n",
    "The term pseudorandom number is that, it appears to be random but it is not random. Computers are not random devices they cannot generate truly random numbers. \n",
    "\n",
    "Computers are deterministic devices, if you input certain values and run them through the same programs and algorithms you will get the same output everytime. To get around this problem Pseudo random number generators are used. \n",
    "For a computer to appear to generate a random sequence of numbers it uses a seed value, this seed value must be random, to ensure the seed value is random many techniques\n",
    "can be deployed for example system time, keyboard input, fan speed, available memory. \n",
    "\n",
    "Numpy random is a function that generates random numbers this can be used for statistical modeling, the numpy.random function has an additional function that sets the seed to a particular value. This allows you to generate the same random set of numbers everytime the program is run. This is very useful in Data Analysis and statistical modeling because it allows the programmer to get a set of random numbers that appear random but are the same random numbers everytime. \n",
    "\n",
    "The Numpy code demonstrates this below."
   ]
  },
  {
   "cell_type": "markdown",
   "metadata": {},
   "source": [
    "*References*\n",
    "\n",
    "*https://www.sharpsightlabs.com/blog/numpy-random-seed/*\n",
    "\n",
    "*https://en.wikipedia.org/wiki/Pseudorandomness*\n",
    "\n",
    "*https://en.wikipedia.org/wiki/Random_seed*"
   ]
  },
  {
   "cell_type": "code",
   "execution_count": 43,
   "metadata": {},
   "outputs": [
    {
     "data": {
      "text/plain": [
       "array([2, 3, 8, 1, 3, 3, 3, 7, 0, 1])"
      ]
     },
     "execution_count": 43,
     "metadata": {},
     "output_type": "execute_result"
    }
   ],
   "source": [
    "# The random.randint function is used to generate a random set of integers, with the random.seed() function commented out.\n",
    "# np.random.seed(0)\n",
    "np.random.randint(10, size = 10)\n",
    "#Without the seed value been set the array with the 10 integers are different each time the function is run.\n",
    "#Python generates the random seed value itself therefore the sequence wil be different each time the function is run."
   ]
  },
  {
   "cell_type": "code",
   "execution_count": 37,
   "metadata": {},
   "outputs": [
    {
     "data": {
      "text/plain": [
       "array([5, 0, 3, 3, 7, 9, 3, 5, 2, 4])"
      ]
     },
     "execution_count": 37,
     "metadata": {},
     "output_type": "execute_result"
    }
   ],
   "source": [
    "# The seed value is set to 0, 10 random integers are generated by the random.randint function.\n",
    "np.random.seed(0)\n",
    "np.random.randint(10, size = 10)"
   ]
  },
  {
   "cell_type": "code",
   "execution_count": 38,
   "metadata": {},
   "outputs": [
    {
     "data": {
      "text/plain": [
       "array([5, 8, 9, 5, 0, 0, 1, 7, 6, 9])"
      ]
     },
     "execution_count": 38,
     "metadata": {},
     "output_type": "execute_result"
    }
   ],
   "source": [
    "# The seed value is set to 1, 10 random integers are generated by the random.randint function.\n",
    "np.random.seed(1)\n",
    "np.random.randint(10, size = 10)\n",
    "#The array sequence is different when the seed value was 0"
   ]
  },
  {
   "cell_type": "code",
   "execution_count": 39,
   "metadata": {},
   "outputs": [
    {
     "data": {
      "text/plain": [
       "array([5, 0, 3, 3, 7, 9, 3, 5, 2, 4])"
      ]
     },
     "execution_count": 39,
     "metadata": {},
     "output_type": "execute_result"
    }
   ],
   "source": [
    "# Change the seed value back to 0, the same 10 random integers are generated by the random.randint function.\n",
    "np.random.seed(0)\n",
    "np.random.randint(10, size = 10)"
   ]
  },
  {
   "cell_type": "markdown",
   "metadata": {},
   "source": [
    "## References"
   ]
  },
  {
   "cell_type": "markdown",
   "metadata": {},
   "source": [
    " * Scipy Numpy Random Documentation https://docs.scipy.org/doc/numpy-1.16.1/reference/routines.random.html \n",
    " * Free Code Camp https://www.freecodecamp.org\n",
    " * Numpy Arrange function https://appdividend.com/2019/01/31/numpy-arange-tutorial-with-example-python-numpy-functions/\n",
    " * Arrays in Memory http://faculty.tamuc.edu/dcreider/csci515/Note515/Note%203.htm\n",
    " * Numpy Basics https://docs.scipy.org/doc/numpy-1.16.0/user/basics.html\n",
    " * Creating Arrays in Numpy https://docs.scipy.org/doc/numpy-1.13.0/user/basics.creation.html\n",
    " * Creating links using Markdown https://stackoverflow.com/questions/2822089/how-to-link-to-part-of-the-same-document-in-markdown\n",
    " * Jupyter https://jupyter.org/"
   ]
  },
  {
   "cell_type": "code",
   "execution_count": null,
   "metadata": {},
   "outputs": [],
   "source": []
  }
 ],
 "metadata": {
  "kernelspec": {
   "display_name": "Python 3",
   "language": "python",
   "name": "python3"
  },
  "language_info": {
   "codemirror_mode": {
    "name": "ipython",
    "version": 3
   },
   "file_extension": ".py",
   "mimetype": "text/x-python",
   "name": "python",
   "nbconvert_exporter": "python",
   "pygments_lexer": "ipython3",
   "version": "3.7.1"
  }
 },
 "nbformat": 4,
 "nbformat_minor": 2
}
